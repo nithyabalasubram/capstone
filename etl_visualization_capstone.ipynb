{
 "cells": [
  {
   "attachments": {},
   "cell_type": "markdown",
   "metadata": {},
   "source": [
    "## Credit Card Dataset\n",
    "\n",
    "### Below are three files that contain the customer’s transaction information and inventories in the credit card information.\n",
    "\n",
    "a) CDW_SAPP_CUSTOMER.JSON: This file has the existing customer details.\n",
    "\n",
    "b) CDW_SAPP_CREDITCARD.JSON: This file contains all credit card transaction information.\n",
    "\n",
    "c) CDW_SAPP_BRANCH.JSON: Each branch’s information and details are recorded in this file.\n"
   ]
  },
  {
   "cell_type": "code",
   "execution_count": 643,
   "metadata": {},
   "outputs": [],
   "source": [
    "# Importing the required libraries.\n",
    "import findspark\n",
    "findspark.init()\n",
    "from pyspark.sql import SparkSession\n",
    "from dotenv import load_dotenv\n",
    "from pyspark.sql.functions import*\n",
    "from pyspark.sql.types import StringType, IntegerType, BooleanType, DoubleType\n",
    "import pandas as pd\n",
    "import mysql.connector as mariadb\n",
    "from mysql.connector import Error\n",
    "import os\n",
    "import re\n",
    "import matplotlib.pyplot as plt\n",
    "import random\n",
    "import requests"
   ]
  },
  {
   "attachments": {},
   "cell_type": "markdown",
   "metadata": {},
   "source": [
    "## Loading the environment variables."
   ]
  },
  {
   "cell_type": "code",
   "execution_count": 644,
   "metadata": {},
   "outputs": [],
   "source": [
    "# Loading the .env file.\n",
    "# Loading as environment variable.\n",
    "load_dotenv()\n",
    "USER = os.environ.get(\"user\")\n",
    "PWD = os.environ.get(\"pwd\")\n"
   ]
  },
  {
   "attachments": {},
   "cell_type": "markdown",
   "metadata": {},
   "source": [
    "## Creating the Spark Session."
   ]
  },
  {
   "cell_type": "code",
   "execution_count": 646,
   "metadata": {},
   "outputs": [],
   "source": [
    "# Creating Spark Session.\n",
    "spark = SparkSession.builder.appName('Capstone').getOrCreate()"
   ]
  },
  {
   "attachments": {},
   "cell_type": "markdown",
   "metadata": {},
   "source": [
    "### Function to fetch the customer, branch and the creditcard data from the creditcard_capstone database."
   ]
  },
  {
   "cell_type": "code",
   "execution_count": 647,
   "metadata": {},
   "outputs": [],
   "source": [
    "# Function to get the records from database tables.\n",
    "def get_records_from_database_table(USER, PWD, tablename):\n",
    "   \n",
    "   # Getting data from the table    \n",
    "    df_table=spark.read.format(\"jdbc\")    \\\n",
    "             .options(driver=\"com.mysql.cj.jdbc.Driver\",\\\n",
    "                      user=USER,\\\n",
    "                      password=PWD,\\\n",
    "                      url=\"jdbc:mysql://localhost:3306/creditcard_capstone\",\\\n",
    "                      dbtable=tablename).load()\n",
    "   \n",
    "   \n",
    "   # Return the database table read above.\n",
    "    return df_table"
   ]
  },
  {
   "attachments": {},
   "cell_type": "markdown",
   "metadata": {},
   "source": [
    "### Function to get the creditcard transactions, customer and branch details."
   ]
  },
  {
   "cell_type": "code",
   "execution_count": 648,
   "metadata": {},
   "outputs": [],
   "source": [
    "# Function to fetch all the creditcard, customer and branch data from the creditcard_capstone database.\n",
    "def get_creditcard_info(USER, PWD):\n",
    "      \n",
    "    # Function to get the records from creditcard database table in the \n",
    "    # creditcard_capstone database.\n",
    "    df_transactions= get_records_from_database_table(USER, PWD, \"creditcard_capstone.cdw_sapp_credit_card\")\n",
    "\n",
    "\n",
    "    # Function to get the records from customer database table in the \n",
    "    # creditcard_capstone database.\n",
    "    df_customers= get_records_from_database_table(USER, PWD, \"creditcard_capstone.cdw_sapp_customer\")\n",
    "\n",
    "    \n",
    "    # Function to get the records from branch database table in the \n",
    "    # creditcard_capstone database.\n",
    "    df_branches= get_records_from_database_table(USER, PWD, \"creditcard_capstone.cdw_sapp_branch\")\n",
    "\n",
    "    \n",
    "# Returning the creditcard transaction, customer and branch data fetched from the creditcard_capstone database.\n",
    "    return df_transactions, df_customers, df_branches"
   ]
  },
  {
   "attachments": {},
   "cell_type": "markdown",
   "metadata": {},
   "source": [
    "## Extracting data from the files."
   ]
  },
  {
   "cell_type": "code",
   "execution_count": 649,
   "metadata": {},
   "outputs": [],
   "source": [
    "# Function to extract the customer, branch and the creditcard data from the files.\n",
    "def extract():\n",
    "    # Reading the customer json file into the spark dataframe df_customer.\n",
    "    df_customer = spark.read.json(\"json_files/cdw_sapp_custmer.json\")\n",
    "\n",
    "    # Reading the branch json file into the spark dataframe df_branch.\n",
    "    df_branch = spark.read.json('json_files/cdw_sapp_branch.json')\n",
    "\n",
    "    # Reading the credit card json file into the pandas dataframe df_creditcard.\n",
    "    df_creditcard = pd.read_json(\"json_files/cdw_sapp_credit.json\", lines=True)\n",
    "\n",
    "    # Returning the customer, branch and the creditcard data after reading from the input file.\n",
    "    return df_customer, df_branch, df_creditcard\n"
   ]
  },
  {
   "attachments": {},
   "cell_type": "markdown",
   "metadata": {},
   "source": [
    "## Transforming the data as per the mapping logic."
   ]
  },
  {
   "cell_type": "code",
   "execution_count": 385,
   "metadata": {},
   "outputs": [],
   "source": [
    "# Function to transform the customer, branch and the creditcard data as per the mapping logic.\n",
    "def transform(df_customer, df_branch, df_creditcard):\n",
    "# Customer data.\n",
    "\n",
    "    df_customer = df_customer.select(col(\"SSN\").cast(\"int\"), initcap(col(\"FIRST_NAME\")).alias(\"FIRST_NAME\"), lower(col(\"MIDDLE_NAME\")).alias(\"MIDDLE_NAME\"), \\\n",
    "                            initcap(col(\"LAST_NAME\")).alias(\"LAST_NAME\"), col(\"CREDIT_CARD_NO\"), \\\n",
    "                            concat_ws(',', col(\"APT_NO\"), col(\"STREET_NAME\")).alias(\"FULL_STREET_ADDRESS\"), \\\n",
    "                            col(\"CUST_CITY\"), col(\"CUST_STATE\"), col(\"CUST_COUNTRY\"), col(\"CUST_ZIP\").cast(\"int\"), \\\n",
    "                            regexp_replace(col(\"CUST_PHONE\"), r'^(\\d{3})(\\d{4})$', '(214)$1-$2').alias('CUST_PHONE'), \\\n",
    "                            col(\"CUST_EMAIL\"), col(\"LAST_UPDATED\").cast(\"timestamp\"))\n",
    "\n",
    "# Branch data.\n",
    "\n",
    "# Creating the temporary view for the branch data.\n",
    "    df_branch.createOrReplaceTempView(\"branchtable\")\n",
    "\n",
    "# Getting all the records from the branchtable created above and applying the mapping logic.\n",
    "    df_branch = spark.sql(\"SELECT CAST(BRANCH_CODE AS INT), BRANCH_NAME, BRANCH_STREET, BRANCH_CITY, \\\n",
    "                          BRANCH_STATE, CAST(IF(BRANCH_ZIP IS NULL, '99999', BRANCH_ZIP) AS INT) AS BRANCH_ZIP, \\\n",
    "                          CONCAT('(', SUBSTR(BRANCH_PHONE, 1, 3), ')', SUBSTR(BRANCH_PHONE, 4,3), '-', SUBSTR(BRANCH_PHONE, 7, 4)) AS BRANCH_PHONE, \\\n",
    "                          CAST(LAST_UPDATED AS TIMESTAMP) FROM BRANCHTABLE\")\n",
    "\n",
    "\n",
    "# Creditcard data.\n",
    "\n",
    "# Converting the data types and renaming the columns as per the mapping logic.\n",
    "    df_creditcard = df_creditcard.astype({\"DAY\":'str',\"MONTH\":'str',\"YEAR\":'str', \"CREDIT_CARD_NO\":'str'})\n",
    "    df_creditcard.rename(columns={\"CREDIT_CARD_NO\" : \"CUST_CC_NO\"}, inplace=True)\n",
    "    df_creditcard['DAY'] = df_creditcard['DAY'].str.zfill(2)\n",
    "    df_creditcard['MONTH'] = df_creditcard['MONTH'].str.zfill(2)    \n",
    "\n",
    "# Combining the day, month and year to form the TIMEID.\n",
    "    df_creditcard['TIMEID'] = df_creditcard['YEAR'] + df_creditcard['MONTH'] + df_creditcard['DAY']\n",
    "\n",
    "# Dropping the Day, Month and Year columns from the creditcard data.\n",
    "    df_creditcard.drop(columns=['DAY', 'MONTH', 'YEAR'], axis = 1, inplace = True)\n",
    "\n",
    "# Converting the credit card pandas dataframe into spark dataframe.\n",
    "    df_creditcard = spark.createDataFrame(df_creditcard)\n",
    "\n",
    "# Converting the columns Branch Code, Cust SSN, Transaction ID to the integer data type.\n",
    "    df_creditcard= df_creditcard.withColumn(\"BRANCH_CODE\", df_creditcard[\"BRANCH_CODE\"].cast(\"int\"))\n",
    "    df_creditcard = df_creditcard.withColumn(\"CUST_SSN\", df_creditcard[\"CUST_SSN\"].cast(\"int\"))\n",
    "    df_creditcard = df_creditcard.withColumn(\"TRANSACTION_ID\", df_creditcard[\"TRANSACTION_ID\"].cast(\"int\"))\n",
    "\n",
    "    # Return the transformed customer, branch and creditcard data.\n",
    "    return df_customer, df_branch, df_creditcard"
   ]
  },
  {
   "attachments": {},
   "cell_type": "markdown",
   "metadata": {},
   "source": [
    "## Loading the data into the database."
   ]
  },
  {
   "cell_type": "code",
   "execution_count": 386,
   "metadata": {},
   "outputs": [],
   "source": [
    "# Function to load the customer, branch and the creditcard data to the database creditcard_capstone.\n",
    "def load(df_customer_data, df_branch_data, df_creditcard_data):\n",
    "\n",
    "    # Writing customer data to the customer database table.\n",
    "    df_customer_data.write.format(\"jdbc\") \\\n",
    "                    .mode(\"overwrite\") \\\n",
    "                    .option(\"truncate\", \"true\") \\\n",
    "                    .option(\"url\", \"jdbc:mysql://localhost:3306/creditcard_capstone\") \\\n",
    "                    .option(\"createTableColumnTypes\", \"FIRST_NAME VARCHAR(30), MIDDLE_NAME VARCHAR(30), \\\n",
    "                    LAST_NAME VARCHAR(30), CREDIT_CARD_NO VARCHAR(20), FULL_STREET_ADDRESS VARCHAR(50), \\\n",
    "                    CUST_CITY VARCHAR(30), CUST_STATE VARCHAR(5), CUST_COUNTRY VARCHAR(30), \\\n",
    "                    CUST_PHONE VARCHAR(20), CUST_EMAIL VARCHAR(30)\") \\\n",
    "                    .option(\"dbtable\", \"creditcard_capstone.CDW_SAPP_CUSTOMER\") \\\n",
    "                    .option(\"user\", USER) \\\n",
    "                    .option(\"password\", PWD) \\\n",
    "                    .save()\n",
    "\n",
    "# Writing branch data to the branch database table.\n",
    "    df_branch_data.write.format(\"jdbc\") \\\n",
    "                    .mode(\"overwrite\") \\\n",
    "                    .option(\"truncate\", \"true\") \\\n",
    "                    .option(\"url\", \"jdbc:mysql://localhost:3306/creditcard_capstone\") \\\n",
    "                    .option(\"createTableColumnTypes\", \"BRANCH_NAME VARCHAR(30), BRANCH_STREET VARCHAR(50), \\\n",
    "                     BRANCH_CITY VARCHAR(30), BRANCH_STATE VARCHAR(5), BRANCH_PHONE VARCHAR(20)\") \\\n",
    "                    .option(\"dbtable\", \"creditcard_capstone.CDW_SAPP_BRANCH\") \\\n",
    "                    .option(\"user\", USER) \\\n",
    "                    .option(\"password\", PWD) \\\n",
    "                    .save()\n",
    "\n",
    "\n",
    "# Writing creditcard data to the creditcard database table.\n",
    "    df_creditcard_data.write.format(\"jdbc\") \\\n",
    "                    .mode(\"overwrite\") \\\n",
    "                    .option(\"truncate\", \"true\") \\\n",
    "                    .option(\"url\", \"jdbc:mysql://localhost:3306/creditcard_capstone\") \\\n",
    "                    .option(\"createTableColumnTypes\", \"CUST_CC_NO VARCHAR(20), TIMEID VARCHAR(10), \\\n",
    "                    TRANSACTION_TYPE VARCHAR(30)\") \\\n",
    "                    .option(\"dbtable\", \"creditcard_capstone.CDW_SAPP_CREDIT_CARD\") \\\n",
    "                    .option(\"user\", USER) \\\n",
    "                    .option(\"password\", PWD) \\\n",
    "                    .save()\n"
   ]
  },
  {
   "attachments": {},
   "cell_type": "markdown",
   "metadata": {},
   "source": [
    "## Displaying Schema."
   ]
  },
  {
   "cell_type": "code",
   "execution_count": 387,
   "metadata": {},
   "outputs": [],
   "source": [
    "# Function to print the schema in a tree structure for the dataframe data provided.\n",
    "def print_schema(df):\n",
    "    df.printSchema()\n",
    "    return \"\"\n",
    "   "
   ]
  },
  {
   "attachments": {},
   "cell_type": "markdown",
   "metadata": {},
   "source": [
    "## Displaying data types."
   ]
  },
  {
   "cell_type": "code",
   "execution_count": 388,
   "metadata": {},
   "outputs": [],
   "source": [
    "# Function to print the data types of the columns in the dataframe for the given data.\n",
    "def print_data_types(df):\n",
    "    print(df.dtypes)\n",
    "    return \"\"\n",
    "      "
   ]
  },
  {
   "attachments": {},
   "cell_type": "markdown",
   "metadata": {},
   "source": [
    "## Displaying the customer, branch and creditcard data."
   ]
  },
  {
   "cell_type": "code",
   "execution_count": 389,
   "metadata": {},
   "outputs": [],
   "source": [
    "# Function to display the records with all the information.\n",
    "def display_data(df_type):\n",
    "    df_type.show(5)\n",
    "    return \"\"\n"
   ]
  },
  {
   "attachments": {},
   "cell_type": "markdown",
   "metadata": {},
   "source": [
    "## Extract, Transform and Load (ETL)"
   ]
  },
  {
   "cell_type": "code",
   "execution_count": 391,
   "metadata": {},
   "outputs": [],
   "source": [
    "# Function to extract, transform and load the data read from the files to the database.\n",
    "def extract_transform_load():    \n",
    "\n",
    "# Extract, transform and load data to the creditcard_capstone database.\n",
    "\n",
    "    # Extract.\n",
    "    print(\"Extraction started\")\n",
    "\n",
    "    # Extract the customer, branch and creditcard transaction data.\n",
    "    df_customer, df_branch, df_creditcard = extract()\n",
    "\n",
    "    print(\"\\nExtraction completed\")\n",
    "\n",
    "    # Transform.\n",
    "    print(\"\\nTransform started\")\n",
    "\n",
    "    # Transform the customer, branch and creditcard transaction data.\n",
    "    df_customer_data, df_branch_data, df_creditcard_data = transform(df_customer, df_branch, df_creditcard)\n",
    "\n",
    "    print(\"\\nTransform completed\")\n",
    "\n",
    "    # Displaying the schemas after transformation.\n",
    "    print(\"\\nDisplaying the schema after transformation\")\n",
    "    print(\"\\nCustomer schema after transformation:\")\n",
    "    print_schema(df_customer_data)\n",
    "    print(\"\\nBranch schema after transformation:\")\n",
    "    print(print_schema(df_branch_data))\n",
    "    print(\"\\nCreditcard schema after transformation:\")\n",
    "    print(print_data_types(df_creditcard_data))\n",
    "\n",
    "    # Displaying the customer, branch and creditcard transaction data after transformation\n",
    "    # and before loading it to the creditcard_capstone database.\n",
    "    print(\"\\nDisplaying the data before loading to the database\")\n",
    "    \n",
    "    # Displaying customer data.\n",
    "    print(\"\\nCustomer data:\")\n",
    "    display_data(df_customer_data)\n",
    "\n",
    "    # Displaying the branch data.\n",
    "    print(\"\\nBranch data:\")\n",
    "    display_data(df_branch_data)\n",
    "\n",
    "    # Displaying the creditcard data.\n",
    "    print(\"\\nCreditcard data:\")\n",
    "    display_data(df_creditcard_data)\n",
    "\n",
    "    # Loading.\n",
    "    print(\"\\nLoading started\")\n",
    "\n",
    "    # Load the customer, branch and creditcard transaction data.\n",
    "    load(df_customer_data, df_branch_data, df_creditcard_data)\n",
    "    \n",
    "    print(\"\\nLoading completed\")    "
   ]
  },
  {
   "attachments": {},
   "cell_type": "markdown",
   "metadata": {},
   "source": [
    "## Business Requirements - ETL"
   ]
  },
  {
   "attachments": {},
   "cell_type": "markdown",
   "metadata": {},
   "source": [
    "## 1. Functional Requirements - Load Credit Card Database (SQL)"
   ]
  },
  {
   "attachments": {},
   "cell_type": "markdown",
   "metadata": {},
   "source": [
    "### Req-1.1 Data Extraction and Transformation with Python and PySpark"
   ]
  },
  {
   "attachments": {},
   "cell_type": "markdown",
   "metadata": {},
   "source": [
    "Functional Requirement 1.1\n",
    "\n",
    "a) For “Credit Card System,” create a Python and PySpark SQL\n",
    "program to read/extract the following JSON files according \n",
    "to the specifications found in the mapping document.\n",
    "1. CDW_SAPP_BRANCH.JSON\n",
    "2. CDW_SAPP_CREDITCARD.JSON\n",
    "3. CDW_SAPP_CUSTOMER.JSON\n",
    "\n",
    "Note: Data Engineers will be required to transform the data based on the\n",
    "requirements found in the Mapping Document.\n",
    "\n",
    "Hint: [You can use PYSQL “select statement query” or simple Pyspark\n",
    "RDD]."
   ]
  },
  {
   "attachments": {},
   "cell_type": "markdown",
   "metadata": {},
   "source": [
    "### Req-1.2 Data loading into Database"
   ]
  },
  {
   "attachments": {},
   "cell_type": "markdown",
   "metadata": {},
   "source": [
    "### Function Requirement 1.2\n",
    "\n",
    "Once PySpark reads data from JSON files, and then utilizes Python,\n",
    "PySpark, and Python modules to load data into RDBMS(SQL), perform\n",
    "the following:\n",
    "\n",
    "a) Create a Database in SQL(MariaDB), named\n",
    "“creditcard_capstone.”\n",
    "\n",
    "b) Create a Python and Pyspark Program to load/write the “Credit\n",
    "Card System Data” into RDBMS(creditcard_capstone).\n",
    "\n",
    "Tables should be created by the following names in RDBMS:\n",
    "\n",
    "CDW_SAPP_BRANCH\n",
    "\n",
    "CDW_SAPP_CREDIT_CARD\n",
    "\n",
    "CDW_SAPP_CUSTOMER"
   ]
  },
  {
   "attachments": {},
   "cell_type": "markdown",
   "metadata": {},
   "source": [
    "### Function to check whether the tables are created and load the database table only if the tables does not exist in the database.\n"
   ]
  },
  {
   "cell_type": "code",
   "execution_count": 395,
   "metadata": {},
   "outputs": [],
   "source": [
    "# Function to populate the customer, branch and creditcard tables only if it does not exist\n",
    "# in the creditcard_capstone database.\n",
    "\n",
    "def populate_tables_only_if_not_exist():\n",
    "    \n",
    "    # Checking if the customer, branch and creditcard table exists in the creditcard_capstone database.\n",
    "    # Extract, transform and load the customer, branch and creditcard data only if table does not exists in the database.\n",
    "    df_table= get_records_from_database_table(USER, PWD, \"information_schema.tables\")\n",
    "    df_table = df_table.filter(\"table_schema = 'creditcard_capstone'\")\n",
    "   \n",
    "  \n",
    "    # Check if the tables are created in the database.\n",
    "    if df_table.isEmpty():\n",
    "        try:\n",
    "            extract_transform_load()\n",
    "        except Error as e:\n",
    "            print(\"Error Message:\", e)"
   ]
  },
  {
   "cell_type": "code",
   "execution_count": 393,
   "metadata": {},
   "outputs": [
    {
     "name": "stdout",
     "output_type": "stream",
     "text": [
      "Extraction started\n",
      "\n",
      "Extraction completed\n",
      "\n",
      "Transform started\n"
     ]
    },
    {
     "name": "stderr",
     "output_type": "stream",
     "text": [
      "C:\\spark\\python\\pyspark\\sql\\pandas\\conversion.py:474: FutureWarning: iteritems is deprecated and will be removed in a future version. Use .items instead.\n",
      "  for column, series in pdf.iteritems():\n",
      "C:\\spark\\python\\pyspark\\sql\\pandas\\conversion.py:486: FutureWarning: iteritems is deprecated and will be removed in a future version. Use .items instead.\n",
      "  for column, series in pdf.iteritems():\n"
     ]
    },
    {
     "name": "stdout",
     "output_type": "stream",
     "text": [
      "\n",
      "Transform completed\n",
      "\n",
      "Displaying the schema after transformation\n",
      "\n",
      "Customer schema after transformation:\n",
      "root\n",
      " |-- SSN: integer (nullable = true)\n",
      " |-- FIRST_NAME: string (nullable = true)\n",
      " |-- MIDDLE_NAME: string (nullable = true)\n",
      " |-- LAST_NAME: string (nullable = true)\n",
      " |-- CREDIT_CARD_NO: string (nullable = true)\n",
      " |-- FULL_STREET_ADDRESS: string (nullable = false)\n",
      " |-- CUST_CITY: string (nullable = true)\n",
      " |-- CUST_STATE: string (nullable = true)\n",
      " |-- CUST_COUNTRY: string (nullable = true)\n",
      " |-- CUST_ZIP: integer (nullable = true)\n",
      " |-- CUST_PHONE: string (nullable = true)\n",
      " |-- CUST_EMAIL: string (nullable = true)\n",
      " |-- LAST_UPDATED: timestamp (nullable = true)\n",
      "\n",
      "\n",
      "Branch schema after transformation:\n",
      "root\n",
      " |-- BRANCH_CODE: integer (nullable = true)\n",
      " |-- BRANCH_NAME: string (nullable = true)\n",
      " |-- BRANCH_STREET: string (nullable = true)\n",
      " |-- BRANCH_CITY: string (nullable = true)\n",
      " |-- BRANCH_STATE: string (nullable = true)\n",
      " |-- BRANCH_ZIP: integer (nullable = true)\n",
      " |-- BRANCH_PHONE: string (nullable = true)\n",
      " |-- LAST_UPDATED: timestamp (nullable = true)\n",
      "\n",
      "\n",
      "\n",
      "Creditcard schema after transformation:\n",
      "[('TRANSACTION_ID', 'int'), ('CUST_CC_NO', 'string'), ('CUST_SSN', 'int'), ('BRANCH_CODE', 'int'), ('TRANSACTION_TYPE', 'string'), ('TRANSACTION_VALUE', 'double'), ('TIMEID', 'string')]\n",
      "\n",
      "\n",
      "Displaying the data before loading to the database\n",
      "\n",
      "Customer data:\n",
      "+---------+----------+-----------+---------+----------------+--------------------+------------+----------+-------------+--------+-------------+-------------------+-------------------+\n",
      "|      SSN|FIRST_NAME|MIDDLE_NAME|LAST_NAME|  CREDIT_CARD_NO| FULL_STREET_ADDRESS|   CUST_CITY|CUST_STATE| CUST_COUNTRY|CUST_ZIP|   CUST_PHONE|         CUST_EMAIL|       LAST_UPDATED|\n",
      "+---------+----------+-----------+---------+----------------+--------------------+------------+----------+-------------+--------+-------------+-------------------+-------------------+\n",
      "|123456100|      Alec|         wm|   Hooper|4210653310061055|656,Main Street N...|     Natchez|        MS|United States|   39120|(214)123-7818|AHooper@example.com|2018-04-21 11:49:02|\n",
      "|123453023|      Etta|    brendan|   Holman|4210653310102868|   829,Redwood Drive|Wethersfield|        CT|United States|    6109|(214)123-8933|EHolman@example.com|2018-04-21 11:49:02|\n",
      "|123454487|    Wilber|   ezequiel|   Dunham|4210653310116272|683,12th Street East|     Huntley|        IL|United States|   60142|(214)124-3018|WDunham@example.com|2018-04-21 11:49:02|\n",
      "|123459758|   Eugenio|      trina|    Hardy|4210653310195948|253,Country Club ...|   NewBerlin|        WI|United States|   53151|(214)124-3215| EHardy@example.com|2018-04-21 11:49:02|\n",
      "|123454431|   Wilfred|        may|    Ayers|4210653310356919|  301,Madison Street|      ElPaso|        TX|United States|   79930|(214)124-2074| WAyers@example.com|2018-04-21 11:49:02|\n",
      "+---------+----------+-----------+---------+----------------+--------------------+------------+----------+-------------+--------+-------------+-------------------+-------------------+\n",
      "only showing top 5 rows\n",
      "\n",
      "\n",
      "Branch data:\n",
      "+-----------+------------+-----------------+-----------------+------------+----------+-------------+-------------------+\n",
      "|BRANCH_CODE| BRANCH_NAME|    BRANCH_STREET|      BRANCH_CITY|BRANCH_STATE|BRANCH_ZIP| BRANCH_PHONE|       LAST_UPDATED|\n",
      "+-----------+------------+-----------------+-----------------+------------+----------+-------------+-------------------+\n",
      "|          1|Example Bank|     Bridle Court|        Lakeville|          MN|     55044|(123)456-5276|2018-04-18 15:51:47|\n",
      "|          2|Example Bank|Washington Street|          Huntley|          IL|     60142|(123)461-8993|2018-04-18 15:51:47|\n",
      "|          3|Example Bank|    Warren Street|SouthRichmondHill|          NY|     11419|(123)498-5926|2018-04-18 15:51:47|\n",
      "|          4|Example Bank| Cleveland Street|       Middleburg|          FL|     32068|(123)466-3064|2018-04-18 15:51:47|\n",
      "|          5|Example Bank|      14th Street|    KingOfPrussia|          PA|     19406|(123)484-9701|2018-04-18 15:51:47|\n",
      "+-----------+------------+-----------------+-----------------+------------+----------+-------------+-------------------+\n",
      "only showing top 5 rows\n",
      "\n",
      "\n",
      "Creditcard data:\n",
      "+--------------+----------------+---------+-----------+----------------+-----------------+--------+\n",
      "|TRANSACTION_ID|      CUST_CC_NO| CUST_SSN|BRANCH_CODE|TRANSACTION_TYPE|TRANSACTION_VALUE|  TIMEID|\n",
      "+--------------+----------------+---------+-----------+----------------+-----------------+--------+\n",
      "|             1|4210653349028689|123459988|        114|       Education|             78.9|20180214|\n",
      "|             2|4210653349028689|123459988|         35|   Entertainment|            14.24|20180320|\n",
      "|             3|4210653349028689|123459988|        160|         Grocery|             56.7|20180708|\n",
      "|             4|4210653349028689|123459988|        114|   Entertainment|            59.73|20180419|\n",
      "|             5|4210653349028689|123459988|         93|             Gas|             3.59|20181010|\n",
      "+--------------+----------------+---------+-----------+----------------+-----------------+--------+\n",
      "only showing top 5 rows\n",
      "\n",
      "\n",
      "Loading started\n",
      "\n",
      "Loading completed\n"
     ]
    }
   ],
   "source": [
    "# Function to populate the customer, branch and creditcard tables only if it does not exist\n",
    "# in the creditcard_capstone database.\n",
    "populate_tables_only_if_not_exist()"
   ]
  },
  {
   "attachments": {},
   "cell_type": "markdown",
   "metadata": {},
   "source": [
    "## 2. Functional Requirements - Application Front-End"
   ]
  },
  {
   "attachments": {},
   "cell_type": "markdown",
   "metadata": {},
   "source": [
    "#### Once data is loaded into the database, we need a front-end (console) to see/display data. For\n",
    "#### that, create a console-based Python program to satisfy System Requirements 2 (2.1 and 2.2)."
   ]
  },
  {
   "attachments": {},
   "cell_type": "markdown",
   "metadata": {},
   "source": [
    "## 2.1 Transaction Details Module"
   ]
  },
  {
   "attachments": {},
   "cell_type": "markdown",
   "metadata": {},
   "source": [
    "### Req-2.1 Transaction Details Module"
   ]
  },
  {
   "attachments": {},
   "cell_type": "markdown",
   "metadata": {},
   "source": [
    "### Functional Requirements 2.1 \n"
   ]
  },
  {
   "attachments": {},
   "cell_type": "markdown",
   "metadata": {},
   "source": [
    "#### 1) Used to display the transactions made by customers living in a given zip code for a given month and year. \n",
    "#### Order by day in descending order."
   ]
  },
  {
   "attachments": {},
   "cell_type": "markdown",
   "metadata": {},
   "source": [
    "### Function to fetch all the creditcard transaction, customer and branch data from the creditcard_capstone database."
   ]
  },
  {
   "cell_type": "code",
   "execution_count": 650,
   "metadata": {},
   "outputs": [],
   "source": [
    "# Fetching all the creditcard transaction, customer and branch data from the creditcard_capstone database.\n",
    "df_transactions, df_customers, df_branches = get_creditcard_info(USER, PWD)\n",
    "\n",
    "# Creating a temporary view for the creditcard transaction data.\n",
    "df_transactions.createOrReplaceTempView(\"creditview\")\n",
    "\n",
    "# Creating a temporary view for the customer data.\n",
    "df_customers.createOrReplaceTempView(\"customerview\")\n",
    "\n",
    "# Creating a temporary view for the branch data.\n",
    "df_branches.createOrReplaceTempView(\"branchview\")"
   ]
  },
  {
   "attachments": {},
   "cell_type": "markdown",
   "metadata": {},
   "source": [
    "### Function to get the transaction data into pandas dataframe for visualization."
   ]
  },
  {
   "cell_type": "code",
   "execution_count": 651,
   "metadata": {},
   "outputs": [],
   "source": [
    "# Function to get the transaction data into pandas dataframe.\n",
    "# def get_data_for_transactions(df_transactions, df_customers, df_branches):\n",
    "\n",
    "def get_data_for_transactions(USER, PWD):\n",
    "\n",
    " \n",
    "    # Transaction data.\n",
    "    df_trans = df_transactions.toPandas()\n",
    "    \n",
    "    # Customer data.\n",
    "    df_cust = df_customers.toPandas()\n",
    "    \n",
    "    # Branch data.\n",
    "    df_brch = df_branches.toPandas()\n",
    "\n",
    "\n",
    "    # Getting the credit card transactions for customers.\n",
    "    df_customer_cc_info = pd.merge(df_cust, df_trans, how='inner', left_on='CREDIT_CARD_NO', right_on='CUST_CC_NO')\n",
    "\n",
    "    # Getting the transactions for branches.\n",
    "    df_branch_cc_info = pd.merge(df_brch, df_trans,  how='inner', on='BRANCH_CODE')\n",
    "\n",
    "    # Getting the list of columns to be displayed for modification.\n",
    "    customer_columns_info = df_cust.columns.tolist()\n",
    "    \n",
    "\n",
    "    # Removing the unwanted columns that should not be given as option to be modified.\n",
    "    customer_columns_info.remove('LAST_UPDATED')\n",
    "    customer_columns_info.remove('SSN')\n",
    "    customer_columns_info.remove('CREDIT_CARD_NO')\n",
    "    customer_columns_info.remove('CUST_COUNTRY')\n",
    "    customer_columns_info.remove('FIRST_NAME')\n",
    "    customer_columns_info.remove('LAST_NAME')\n",
    "    customer_columns_info.remove('MIDDLE_NAME')\n",
    "\n",
    "\n",
    "    # Getting the unique values of the transaction type as a list.\n",
    "    tran_types = pd.unique(df_trans['TRANSACTION_TYPE'])\n",
    "\n",
    "\n",
    "    # Getting the unique values of the state as a list.\n",
    "    branch_state = pd.unique(df_brch['BRANCH_STATE'])\n",
    "\n",
    "\n",
    "    # Getting the unique values of the SSN as a list.\n",
    "    ssn_number = list(df_cust['SSN'].unique())\n",
    "\n",
    "\n",
    "    # Getting the unique values of the SSN as a list.\n",
    "    cc_number = pd.unique(df_cust['CREDIT_CARD_NO'])\n",
    "\n",
    "\n",
    "    # Getting the unique values of the SSN as a list.\n",
    "    first_name = pd.unique(df_cust['FIRST_NAME'])\n",
    "\n",
    "\n",
    "    # Getting the unique values of the SSN as a list.\n",
    "    last_name = pd.unique(df_cust['LAST_NAME'])\n",
    "\n",
    "\n",
    "    # Populate states in a list to validate US State in Customer modify.\n",
    "    usstates = [ 'AK', 'AL', 'AR', 'AZ', 'CA', 'CO', 'CT', 'DC', 'DE', 'FL', 'GA',\n",
    "           'HI', 'IA', 'ID', 'IL', 'IN', 'KS', 'KY', 'LA', 'MA', 'MD', 'ME',\n",
    "           'MI', 'MN', 'MO', 'MS', 'MT', 'NC', 'ND', 'NE', 'NH', 'NJ', 'NM',\n",
    "           'NV', 'NY', 'OH', 'OK', 'OR', 'PA', 'RI', 'SC', 'SD', 'TN', 'TX',\n",
    "           'UT', 'VA', 'VT', 'WA', 'WI', 'WV', 'WY']\n",
    "\n",
    "\n",
    "\n",
    "    # Returning the creditcard transaction, customer, branch data as pandas dataframe.\n",
    "    return df_trans, df_cust, df_brch, df_customer_cc_info, df_branch_cc_info, customer_columns_info, tran_types, branch_state, usstates,  ssn_number, cc_number, first_name, last_name"
   ]
  },
  {
   "cell_type": "code",
   "execution_count": 652,
   "metadata": {},
   "outputs": [
    {
     "name": "stderr",
     "output_type": "stream",
     "text": [
      "C:\\spark\\python\\pyspark\\sql\\pandas\\conversion.py:248: FutureWarning: Passing unit-less datetime64 dtype to .astype is deprecated and will raise in a future version. Pass 'datetime64[ns]' instead\n",
      "  series = series.astype(t, copy=False)\n",
      "C:\\spark\\python\\pyspark\\sql\\pandas\\conversion.py:248: FutureWarning: Passing unit-less datetime64 dtype to .astype is deprecated and will raise in a future version. Pass 'datetime64[ns]' instead\n",
      "  series = series.astype(t, copy=False)\n"
     ]
    }
   ],
   "source": [
    "# Function to get all the transaction data into pandas dataframe for visualization.\n",
    "\n",
    "df_tran, df_cus, df_br, df_customer_cc, df_branch_cc, customer_columns, tran_type, branch_states, states, ssnno, cardnumbers, fstname, lstname = \\\n",
    "    get_data_for_transactions(USER, PWD)\n"
   ]
  },
  {
   "attachments": {},
   "cell_type": "markdown",
   "metadata": {},
   "source": [
    "### Function to validate month."
   ]
  },
  {
   "cell_type": "code",
   "execution_count": 653,
   "metadata": {},
   "outputs": [],
   "source": [
    "# Function to validate month\n",
    "def validate_month(text):\n",
    "\n",
    "    # Validating the month.\n",
    "    while True:\n",
    "\n",
    "        # Getting the month as input.\n",
    "        month = input(\"\\nPlease enter the {} in 2 digits: \".format(text))\n",
    "        month = month.strip()\n",
    "\n",
    "        # Checking whether the month contains only numbers.\n",
    "        if month.isdigit() and len(month) == 2 and month != '00':\n",
    "\n",
    "            # Checking whether the month is in the range of 0 to 12.\n",
    "            if int(month.lstrip('0')) in range(0,13):\n",
    "                # If the month is only numbers and in the range of 1 and 12 then it is a valid month.\n",
    "                print('\\nMonth {} is valid.'.format(month))\n",
    "                break\n",
    "            else:\n",
    "                # If the month is not in the range of 1 and 12 then it is an invalid month.\n",
    "                print(\"\\nMonth {} is invalid. Try Again.\".format(month)) \n",
    "        else:\n",
    "            # If the month does not have only numbers then it is an invalid month.\n",
    "            print(\"\\nInvalid entry {}. Try Again.\".format(month))    \n",
    "\n",
    "    return month\n"
   ]
  },
  {
   "attachments": {},
   "cell_type": "markdown",
   "metadata": {},
   "source": [
    "### Function to validate day."
   ]
  },
  {
   "cell_type": "code",
   "execution_count": 654,
   "metadata": {},
   "outputs": [],
   "source": [
    "# Function to validate day.\n",
    "def validate_day(text):\n",
    "    \n",
    "    # Validating the day.\n",
    "    while True:\n",
    "\n",
    "        # Getting the day as input.\n",
    "        day = input('\\nPlease enter the {} in 2 digits: '.format(text))\n",
    "        day = day.strip()\n",
    "\n",
    "        # If the day has only numbers and is of length 2 and not equal to zero.\n",
    "        if day.isdigit() and len(day) == 2 and day != '00':\n",
    "            # If the day is between 1 and 31 then it is valid.\n",
    "            if int(day.lstrip('0')) in range(0,32):\n",
    "                print('\\nDay {} is valid'.format(day))\n",
    "                break\n",
    "            else:\n",
    "                # If the day is not between 1 and 31 then the day is invalid.\n",
    "                print('\\nDay {} is invalid. Try again.'.format(day))\n",
    "        else:\n",
    "            # If the day does not have only numbers and not of length 2 and is equal to zero then the day is invalid.\n",
    "            print('\\nInvalid entry {}. Try again.'.format(day))\n",
    "\n",
    "    return day"
   ]
  },
  {
   "attachments": {},
   "cell_type": "markdown",
   "metadata": {},
   "source": [
    "### Function to validate year."
   ]
  },
  {
   "cell_type": "code",
   "execution_count": 655,
   "metadata": {},
   "outputs": [],
   "source": [
    "# Function to validate year.\n",
    "def validate_year(text):\n",
    "    \n",
    "    # Validating the year.\n",
    "    while True:\n",
    "         \n",
    "        # Getting the year as input.\n",
    "        year = input(\"\\nPlease enter the {} in 4 digits: \".format(text))\n",
    "        year = year.strip()\n",
    "       \n",
    "        # Checking whether the year contains only numbers and is of length 4.\n",
    "        if year.isdigit() and len(year) == 4:\n",
    "            # If year is a number and has 4 digits then it is a valid year.\n",
    "            print('\\nYear {} is valid.'.format(year))\n",
    "            year = int(year)\n",
    "            break   \n",
    "        else:\n",
    "            # If the year does not have only numbers then it is an invalid year.\n",
    "            print(\"\\nYear {} is invalid. Try Again.\".format(year))\n",
    "            \n",
    "    return year"
   ]
  },
  {
   "attachments": {},
   "cell_type": "markdown",
   "metadata": {},
   "source": [
    "### Function to validate zipcode."
   ]
  },
  {
   "cell_type": "code",
   "execution_count": 656,
   "metadata": {},
   "outputs": [],
   "source": [
    "# Function to validate zipcode.\n",
    "def validate_zipcode():   \n",
    "\n",
    "   # Validating the zipcode.\n",
    "   while True:\n",
    "\n",
    "        # Getting the zipcode as input.\n",
    "        zipcode = input(\"\\nPlease enter the ZIP code in 5 digits: \")\n",
    "        zipcode = zipcode.strip()\n",
    "\n",
    "        # Checking if the zipcode has only numbers and is of length 5.\n",
    "        if zipcode.isdigit() and (len(zipcode) == 4 or len(zipcode) == 5):\n",
    "           zipcode = int(zipcode)\n",
    "           # If the zipcode has only numbers and is of length 5 then it is a valid zipcode.\n",
    "           print('Zipcode {} is valid.'.format(zipcode))\n",
    "           break\n",
    "        else:\n",
    "           # If the zipcode does not have only numbers then it is a invalid zipcode.\n",
    "           print('\\nZipcode {} is invalid. Try again.'.format(zipcode))\n",
    "\n",
    "   return zipcode"
   ]
  },
  {
   "attachments": {},
   "cell_type": "markdown",
   "metadata": {},
   "source": [
    "### Function to display the transactions made by customers living in a given zip code for a given month and year. \n",
    "### Order by day in descending order."
   ]
  },
  {
   "cell_type": "code",
   "execution_count": 660,
   "metadata": {},
   "outputs": [],
   "source": [
    "# Transaction module.\n",
    "\n",
    "# Function to display the transactions made by customers living in a\n",
    "# given zip code for a given month and year. Order by day in\n",
    "# descending order.\n",
    "\n",
    "def transaction_customer_for_zip_month_year():\n",
    "\n",
    "    # Validating the zipcode.\n",
    "    zipcode = validate_zipcode()\n",
    "    \n",
    "    # Validating the month.\n",
    "    month = validate_month('month')\n",
    "    \n",
    "    # Validating the year.\n",
    "    year = validate_year('year')\n",
    "\n",
    "\n",
    "    # Fetching the records from the creditview and customerview \n",
    "    # to display the transactions made by customers living in a\n",
    "    # given zip code for a given month and year. Order by day in\n",
    "    # descending order.\n",
    "  \n",
    "    df_result = spark.sql(\"SELECT \\\n",
    "    CU.FIRST_NAME, CU.MIDDLE_NAME, CU.LAST_NAME, \\\n",
    "    REPLACE(CR.CUST_CC_NO, SUBSTR(CR.CUST_CC_NO, 1, 12), '************') AS CREDIT_CARD_NO, \\\n",
    "    CONCAT(SUBSTR(CR.TIMEID, 1, 4), '-', SUBSTR(CR.TIMEID, 5, 2), '-', SUBSTR(CR.TIMEID, 7, 2)) AS TRANSACTION_DATE, \\\n",
    "    CR.BRANCH_CODE, CR.TRANSACTION_TYPE, ROUND(CR.TRANSACTION_VALUE, 2) AS TRANSACTION_VALUE, \\\n",
    "    CR.TRANSACTION_ID \\\n",
    "    FROM CREDITVIEW AS CR \\\n",
    "    JOIN CUSTOMERVIEW AS CU \\\n",
    "    ON CR.CUST_CC_NO = CU.CREDIT_CARD_NO \\\n",
    "    WHERE CU.CUST_ZIP = {} \\\n",
    "    AND  MONTH(TO_DATE(CR.TIMEID, 'yyyyMMdd')) = '{}' \\\n",
    "    AND  YEAR(TO_DATE(CR.TIMEID, 'yyyyMMdd')) = '{}' \\\n",
    "    ORDER BY DAY(TO_DATE(CR.TIMEID, 'yyyyMMdd')) DESC\".format(zipcode, month, year))\n",
    "\n",
    "\n",
    "\n",
    "    print(\"\\nThe Transactions made by customers living in the zip code {} for the month {} and year {}:\".format(zipcode, month, year)) \n",
    "    \n",
    "    # Displaying the customer transaction details.\n",
    "    if df_result.isEmpty():\n",
    "        print('\\nNo records matching the zipcode {}, month {} and year {} found.'.format(zipcode, month, year))\n",
    "\n",
    "    df_result.show()\n"
   ]
  },
  {
   "cell_type": "code",
   "execution_count": 661,
   "metadata": {},
   "outputs": [
    {
     "name": "stdout",
     "output_type": "stream",
     "text": [
      "Zipcode 39120 is valid.\n",
      "\n",
      "Month 08 is valid.\n",
      "\n",
      "Year 2018 is valid.\n",
      "\n",
      "The Transactions made by customers living in the zip code 39120 for the month 08 and year 2018:\n",
      "+----------+-----------+---------+----------------+----------------+-----------+----------------+-----------------+--------------+\n",
      "|FIRST_NAME|MIDDLE_NAME|LAST_NAME|  CREDIT_CARD_NO|TRANSACTION_DATE|BRANCH_CODE|TRANSACTION_TYPE|TRANSACTION_VALUE|TRANSACTION_ID|\n",
      "+----------+-----------+---------+----------------+----------------+-----------+----------------+-----------------+--------------+\n",
      "|    Isabel|      james|   Cramer|************7473|      2018-08-28|         93|       Education|            43.44|         12654|\n",
      "|   Melissa|    clifton|    Hagan|************7310|      2018-08-28|        124|         Grocery|            59.07|          3544|\n",
      "|      Omer|      lauri|Dickinson|************9197|      2018-08-27|         53|       Education|            16.82|         15818|\n",
      "|    Isabel|      james|   Cramer|************7473|      2018-08-27|         73|            Test|            66.43|         12657|\n",
      "|   Melissa|    clifton|    Hagan|************7310|      2018-08-27|        164|         Grocery|            97.12|          3547|\n",
      "|     Blair|     antone|     Ware|************9363|      2018-08-25|         42|             Gas|            98.24|         15191|\n",
      "|    Judson|      lauri|   Macias|************8802|      2018-08-25|        114|   Entertainment|            65.93|         15835|\n",
      "|     Kraig|    dolores|     Todd|************0577|      2018-08-24|        180|       Education|            95.32|          2194|\n",
      "|     Blair|     antone|     Ware|************9363|      2018-08-23|         17|             Gas|            23.02|         15222|\n",
      "|    Fermin|        kip|   Carson|************1193|      2018-08-22|        135|            Test|            36.19|         22991|\n",
      "|    Isabel|      james|   Cramer|************7473|      2018-08-22|         15|           Bills|            80.94|         12662|\n",
      "|     Kraig|    dolores|     Todd|************0577|      2018-08-22|         24|       Education|            41.43|          2173|\n",
      "|    Isabel|      james|   Cramer|************7473|      2018-08-21|         17|           Bills|            82.76|         12670|\n",
      "|    Isabel|      james|   Cramer|************7473|      2018-08-21|        135|         Grocery|           100.54|         12635|\n",
      "|      Alec|         wm|   Hooper|************1055|      2018-08-20|         54|             Gas|             4.22|         20549|\n",
      "|      Alec|         wm|   Hooper|************1055|      2018-08-19|        107|       Education|            46.14|         20536|\n",
      "|     Kraig|    dolores|     Todd|************0577|      2018-08-18|        178|             Gas|             4.96|          2172|\n",
      "|    Judson|      lauri|   Macias|************8802|      2018-08-17|         53|            Test|            19.53|         15824|\n",
      "|     Blair|     antone|     Ware|************9363|      2018-08-16|        173|           Bills|            26.22|         15214|\n",
      "|     Kraig|    dolores|     Todd|************0577|      2018-08-15|         74|   Entertainment|            66.79|          2205|\n",
      "+----------+-----------+---------+----------------+----------------+-----------+----------------+-----------------+--------------+\n",
      "only showing top 20 rows\n",
      "\n"
     ]
    }
   ],
   "source": [
    "# Function to display the transactions made by customers living in a\n",
    "# given zip code for a given month and year. Order by day in\n",
    "# descending order.\n",
    "\n",
    "transaction_customer_for_zip_month_year()"
   ]
  },
  {
   "attachments": {},
   "cell_type": "markdown",
   "metadata": {},
   "source": [
    "#### 2) Used to display the number and total values of transactions for a given type.\n"
   ]
  },
  {
   "attachments": {},
   "cell_type": "markdown",
   "metadata": {},
   "source": [
    "### Function to display the number and total values of transactions for a given transaction type."
   ]
  },
  {
   "cell_type": "code",
   "execution_count": 408,
   "metadata": {},
   "outputs": [],
   "source": [
    "# Function to display the number and total values of transactions for a given transaction type.\n",
    "def number_and_total_values_of_transactions(tran_type):\n",
    "\n",
    "   \n",
    "    # Validating the Transaction type.\n",
    "    while True:\n",
    "\n",
    "        # Getting the transaction type as input.\n",
    "        transaction_type = input(\"\\nPlease enter a Transaction Type: \")\n",
    "        transaction_type = transaction_type.strip().title()\n",
    "\n",
    "        # Validating whether the entered transaction type exists in the database.\n",
    "        if transaction_type in tran_type:\n",
    "        # If exists then it is a valid transaction type.\n",
    "            print(\"\\nTransaction type {} is valid.\".format(transaction_type))\n",
    "            break\n",
    "        else:\n",
    "        # If the transaction type does not exists in the database then it is not a valid one.\n",
    "            print(\"\\nTransaction type {} not found. Try Again\".format(transaction_type))\n",
    "\n",
    "    # Displaying the number and total values of transactions for a given transaction type.\n",
    "    df_result = spark.sql(\"SELECT TRANSACTION_TYPE, COUNT(TRANSACTION_ID) AS NUMBER_OF_TRANSACTIONS, \\\n",
    "    ROUND(SUM(TRANSACTION_VALUE), 2) AS TRANSACTION_VALUE FROM CREDITVIEW \\\n",
    "    WHERE TRANSACTION_TYPE = '{}' \\\n",
    "    GROUP BY TRANSACTION_TYPE\".format(transaction_type))\n",
    "\n",
    "\n",
    "    print(\"\\nThe Transaction details for the Transaction Type {}:\". format(transaction_type))\n",
    "\n",
    "\n",
    "    # Displaying the transaction details for a given transaction type.\n",
    "    if df_result.isEmpty():\n",
    "        print('\\nNo records matching the transaction type {} found.'.format(transaction_type))\n",
    "\n",
    "    df_result.show()"
   ]
  },
  {
   "cell_type": "code",
   "execution_count": 409,
   "metadata": {},
   "outputs": [
    {
     "name": "stdout",
     "output_type": "stream",
     "text": [
      "\n",
      "Transaction type Gas is valid.\n",
      "\n",
      "The Transaction details for the Transaction Type Gas:\n",
      "+----------------+----------------------+-----------------+\n",
      "|TRANSACTION_TYPE|NUMBER_OF_TRANSACTIONS|TRANSACTION_VALUE|\n",
      "+----------------+----------------------+-----------------+\n",
      "|             Gas|                  6605|        336059.26|\n",
      "+----------------+----------------------+-----------------+\n",
      "\n"
     ]
    }
   ],
   "source": [
    "# Function to display the number and total values of transactions for a given transaction type.\n",
    "# number_and_total_values_of_transactions(tran_type)\n",
    "number_and_total_values_of_transactions(tran_type)"
   ]
  },
  {
   "attachments": {},
   "cell_type": "markdown",
   "metadata": {},
   "source": [
    "#### 3) Used to display the number and total values of transactions for branches in a given state."
   ]
  },
  {
   "attachments": {},
   "cell_type": "markdown",
   "metadata": {},
   "source": [
    "### Function to display the number and total values of transactions for branches in a given state."
   ]
  },
  {
   "cell_type": "code",
   "execution_count": 410,
   "metadata": {},
   "outputs": [],
   "source": [
    "# Function to display the number and total values of transactions for branches in a given state.\n",
    "def number_and_total_transaction_values_for_branches(branch_states):\n",
    "\n",
    "\n",
    "    # Validating the State\n",
    "    while True:\n",
    "        # Getting the state as input.\n",
    "        state = input('\\nPlease enter state in 2 letters: ')\n",
    "        # Removing the leading and trailing spaces.\n",
    "        state = state.strip().upper()\n",
    "\n",
    "        # Checking whether the state has only letters and the length is 2.\n",
    "        if state.isalpha() and len(state) == 2:\n",
    "            # Converting the state to upper case.\n",
    "            if state in branch_states:\n",
    "            # If the State exists in the database then it is a valid state.\n",
    "                print('\\nBranch(es) found for the state {}.'.format(state))\n",
    "                break\n",
    "            else:\n",
    "                # If State does not exist in the table then no branch found.\n",
    "                print('\\nBranches for the state {} not found. Try again.'.format(state))\n",
    "        else:\n",
    "            # If the State entered does not have only letters or not of length 2 then it\n",
    "            # is not a valid State.\n",
    "            print('\\nState {} is invalid. Try again.'.format(state))\n",
    "\n",
    "\n",
    "    # Display the number and total values of transactions for\n",
    "    # branches in a given state.\n",
    "    df_result = spark.sql(\"SELECT COUNT(C.TRANSACTION_ID) AS NUMBER_OF_TRANSACTIONS, \\\n",
    "    ROUND(SUM(C.TRANSACTION_VALUE), 2) AS TRANSACTION_VALUE \\\n",
    "    FROM BRANCHVIEW AS B \\\n",
    "    JOIN CREDITVIEW AS C ON B.BRANCH_CODE = C.BRANCH_CODE \\\n",
    "    WHERE B.BRANCH_STATE ='{}' \\\n",
    "    GROUP BY B.BRANCH_NAME\".format(state))\n",
    "\n",
    "    print(\"\\nThe number and total values of transactions for branches in the State {}:\".format(state))\n",
    "\n",
    "    # Displaying the transactions for the branches.\n",
    "    if df_result.isEmpty():\n",
    "        print('\\nNo data matching criteria.')\n",
    "        \n",
    "    df_result.show()"
   ]
  },
  {
   "cell_type": "code",
   "execution_count": 411,
   "metadata": {},
   "outputs": [
    {
     "name": "stdout",
     "output_type": "stream",
     "text": [
      "\n",
      "Branch(es) found for the state MN.\n",
      "\n",
      "The number and total values of transactions for branches in the State MN:\n",
      "+----------------------+-----------------+\n",
      "|NUMBER_OF_TRANSACTIONS|TRANSACTION_VALUE|\n",
      "+----------------------+-----------------+\n",
      "|                  1127|         56153.29|\n",
      "+----------------------+-----------------+\n",
      "\n"
     ]
    }
   ],
   "source": [
    "# Function to display the number and total values of transactions for branches in a given state.\n",
    "number_and_total_transaction_values_for_branches(branch_states)"
   ]
  },
  {
   "attachments": {},
   "cell_type": "markdown",
   "metadata": {},
   "source": [
    "## 2.2 Customer Details Module"
   ]
  },
  {
   "attachments": {},
   "cell_type": "markdown",
   "metadata": {},
   "source": [
    "### Req-2.2 Customer Details"
   ]
  },
  {
   "attachments": {},
   "cell_type": "markdown",
   "metadata": {},
   "source": [
    "### Functional Requirements 2.2\n",
    "\n"
   ]
  },
  {
   "attachments": {},
   "cell_type": "markdown",
   "metadata": {},
   "source": [
    "#### 1) Used to check the existing account details of a customer.\n"
   ]
  },
  {
   "attachments": {},
   "cell_type": "markdown",
   "metadata": {},
   "source": [
    "## Function to check the existing account details of a customer."
   ]
  },
  {
   "attachments": {},
   "cell_type": "markdown",
   "metadata": {},
   "source": [
    "### Function to validate credit card number."
   ]
  },
  {
   "cell_type": "code",
   "execution_count": 412,
   "metadata": {},
   "outputs": [],
   "source": [
    "# Function to validate the credit card number.\n",
    "\n",
    "def validate_credit_card_no(cardnumbers):\n",
    "\n",
    "    # Validating the credit card number.\n",
    "    while True:\n",
    "        cardno = input(\"\\nPlease enter the 16 digit Credit Card Number: \")\n",
    "        cardno = cardno.strip()\n",
    "\n",
    "        # Checking the creditcard number has only numbers in it and is of length 16.\n",
    "        if cardno.isdigit() and len(cardno) == 16:\n",
    "            if cardno in cardnumbers:\n",
    "                # If the creditcard number has only numbers and is of length 16 then it is a valid number.\n",
    "                print(\"\\nCredit Card Number ending with the last 4 digits {} is valid\".format(cardno[12:]))\n",
    "                break\n",
    "            else:\n",
    "                # If the credit card does not have only the numbers or not of length 16 then invalid.\n",
    "                print('\\nCredit Card Number ending with the last 4 digits {} not found. Try again.'.format(cardno[12:]))\n",
    "\n",
    "        else:\n",
    "            # If the credit card does not have only the numbers or not of length 16 then invalid.\n",
    "            print('\\nCredit Card Number {} is invalid. Try again.'.format(cardno))\n",
    "\n",
    "    return cardno"
   ]
  },
  {
   "attachments": {},
   "cell_type": "markdown",
   "metadata": {},
   "source": [
    "### Function to validate phone number."
   ]
  },
  {
   "cell_type": "code",
   "execution_count": 413,
   "metadata": {},
   "outputs": [],
   "source": [
    "# Function to validate phone number.\n",
    "\n",
    "def validate_phone():\n",
    "\n",
    "    while True: \n",
    "        new_entry = input('\\nPlease enter phone number in 10 digits: ')\n",
    "        new_entry = new_entry.strip()\n",
    "\n",
    "        # Checking if the phone number has only numbers and is of length 10.\n",
    "        # If it satisfies the above condition then it is a valid phone number.\n",
    "        \n",
    "        if new_entry.isdigit() and len(new_entry) == 10:\n",
    "            print(\"\\nPhone number {} is valid\".format(new_entry))\n",
    "            new_entry = '(' + new_entry[:3] + ')' + new_entry[3:6] + '-' + new_entry[6:]\n",
    "            break\n",
    "                         \n",
    "        else:\n",
    "            print('\\nPhone number {} is invalid. Try again.'.format(new_entry))\n",
    "\n",
    "    return new_entry        "
   ]
  },
  {
   "attachments": {},
   "cell_type": "markdown",
   "metadata": {},
   "source": [
    "### Function to validate SSN"
   ]
  },
  {
   "cell_type": "code",
   "execution_count": 414,
   "metadata": {},
   "outputs": [],
   "source": [
    "# Customer Module.\n",
    "\n",
    "# Function to validate SSN.\n",
    "\n",
    "def validate_ssn(ssnno):\n",
    "\n",
    "    while True:\n",
    "        # Get the input for SSN.\n",
    "        ssn = input('\\nPlease enter the customer SSN in 9 digits: ')\n",
    "        ssn = ssn.replace('-','').replace(' ','')\n",
    "\n",
    "        # Checking if the SSN has only numbers and is of length 9.\n",
    "        if ssn.isdigit() and len(ssn) == 9:\n",
    "            ssn_no = int(ssn)\n",
    "            # Checking if SSN is valid by checking the valid SSN in the database.\n",
    "            if ssn_no in ssnno:\n",
    "                print('\\nSSN ending with the last 4 digits {} is valid.'.format(ssn[5:]))\n",
    "                break\n",
    "            else:\n",
    "                print(\"\\nSSN ending with the last 4 digits {} not found. Try Again.\".format(ssn[5:]))\n",
    "        else:\n",
    "            print('\\nSSN {} is invalid. Try again.'.format(ssn))\n",
    "\n",
    "    return ssn"
   ]
  },
  {
   "attachments": {},
   "cell_type": "markdown",
   "metadata": {},
   "source": [
    "#### 1) Used to check the existing account details of a customer.\n"
   ]
  },
  {
   "attachments": {},
   "cell_type": "markdown",
   "metadata": {},
   "source": [
    "### Function to check the exisitng details of a customer."
   ]
  },
  {
   "cell_type": "code",
   "execution_count": 415,
   "metadata": {},
   "outputs": [],
   "source": [
    "# Function to validate the firstname.\n",
    "def validate_firstname(fstname): \n",
    "    \n",
    "# Validating the firstname.\n",
    "    \n",
    "    while True:\n",
    "        firstname = input('\\nPlease enter the first name: ')\n",
    "        firstname = firstname.strip().title()\n",
    "        if firstname.isalpha():\n",
    "            if firstname in fstname:\n",
    "                print('\\nFirstname {} is valid.'.format(firstname))\n",
    "                break\n",
    "            else:\n",
    "                print(\"\\nFirstname {} not found. Try Again.\".format(firstname))\n",
    "        else: \n",
    "            print('\\nFirstname {} is invalid. Try again.'.format(firstname))\n",
    "\n",
    "    return firstname\n",
    "       "
   ]
  },
  {
   "cell_type": "code",
   "execution_count": 416,
   "metadata": {},
   "outputs": [],
   "source": [
    "# Function to validate the lastname.\n",
    "def validate_lastname(lstname):\n",
    "\n",
    "    # Validating the lastname.\n",
    "    while True:\n",
    "        lastname = input('\\nPlease enter the last name: ')\n",
    "        lastname = lastname.strip().title()\n",
    "\n",
    "        # Checking if the firstname has only alphabets.\n",
    "        if lastname.isalpha():\n",
    "            # Checking if the firstname is found in the database.\n",
    "            if lastname in lstname:\n",
    "                print('\\nLastname {} is valid.'.format(lastname))\n",
    "                break\n",
    "            else:\n",
    "                print(\"\\nLastname {} not found. Try Again.\".format(lastname))\n",
    "        else: \n",
    "            print('\\nLastname {} is invalid. Try Again.'.format(lastname))\n",
    "            \n",
    "    return lastname"
   ]
  },
  {
   "cell_type": "code",
   "execution_count": 696,
   "metadata": {},
   "outputs": [],
   "source": [
    "# Function to check the existing account details of a customer.\n",
    "def check_customer_account_details(cardnumbers, df_cus, fstname, lstname):\n",
    "\n",
    "    menu = ''\n",
    "    opt = ''    \n",
    "    menu = ('\\n'\n",
    "            '1) Use Credit Card Number to get the account details.\\n'\n",
    "            '2) Use Phone Number to get the account details.\\n'\n",
    "            '3) Use SSN to get the account details.\\n')\n",
    "   \n",
    "    print(menu)\n",
    "    opt= input('Please choose option 1 for Credit Card or 2 for Phone Number or 3 for SSNr: ')\n",
    "    opt = opt.strip()\n",
    "\n",
    "    # Creditcard number.\n",
    "    if opt == '1':\n",
    "\n",
    "        # Validating the credit card number.\n",
    "        cardno = validate_credit_card_no(cardnumbers)\n",
    "\n",
    "\n",
    "    # Phone number.    \n",
    "    elif opt == '2':\n",
    "\n",
    "        # Validate the phone number.\n",
    "        phone = validate_phone()\n",
    "\n",
    "        # Validate the first name.\n",
    "        fname = validate_firstname(fstname)\n",
    "     \n",
    "        # Validate the last name.\n",
    "        lname = validate_lastname(lstname) \n",
    "\n",
    "\n",
    "    # SSN.    \n",
    "    elif opt == '3':\n",
    "\n",
    "        # Validate the credit card number.\n",
    "        ssn = validate_ssn(ssnno)\n",
    "        ssn_num = int(ssn)\n",
    "\n",
    "        # Validate the first name.\n",
    "        fname = validate_firstname(fstname)\n",
    "     \n",
    "        # Validate the last name.\n",
    "        lname = validate_lastname(lstname) \n",
    "\n",
    "                        \n",
    "    # Creditcard Number.\n",
    "    if opt == '1':\n",
    "\n",
    "        # Fetching the existing account details of a customer from the customer table for the given creditcard number.\n",
    "\n",
    "        df_result = spark.sql(f\"SELECT FIRST_NAME, MIDDLE_NAME, LAST_NAME, \\\n",
    "        REPLACE(CREDIT_CARD_NO, SUBSTR(CREDIT_CARD_NO, 1, 12), '************') AS CREDIT_CARD_NO, \\\n",
    "        FULL_STREET_ADDRESS, CUST_CITY AS CITY, CUST_STATE AS STATE, CUST_COUNTRY AS COUNTRY, CUST_ZIP AS ZIP, \\\n",
    "        CUST_PHONE AS PHONE_NUMBER, CUST_EMAIL AS EMAIL, LAST_UPDATED \\\n",
    "        FROM CUSTOMERVIEW WHERE CREDIT_CARD_NO = '{cardno}'\")\n",
    " \n",
    "    # Phone Number.\n",
    "    elif opt == '2':\n",
    "\n",
    "        # Fetching the existing account details of a customer from the customer table for the given phone number.\n",
    "\n",
    "        df_result = spark.sql(f\"SELECT FIRST_NAME, MIDDLE_NAME, LAST_NAME, \\\n",
    "        REPLACE(CREDIT_CARD_NO, SUBSTR(CREDIT_CARD_NO, 1, 12), '************') AS CREDIT_CARD_NO, \\\n",
    "        FULL_STREET_ADDRESS, CUST_CITY AS CITY, CUST_STATE AS STATE, CUST_COUNTRY AS COUNTRY, CUST_ZIP AS ZIP, \\\n",
    "        CUST_PHONE AS PHONE_NUMBER, CUST_EMAIL AS EMAIL, LAST_UPDATED \\\n",
    "        FROM CUSTOMERVIEW WHERE CUST_PHONE = '{phone}' AND FIRST_NAME = '{fname}' AND LAST_NAME = '{lname}'\")\n",
    "\n",
    "\n",
    "    # SSN.\n",
    "    elif opt == '3':\n",
    "\n",
    "        # Fetching the existing account details of a customer from the customer table for the given SSN, firstname and lastname.\n",
    "\n",
    "        df_result = spark.sql(f\"SELECT FIRST_NAME, MIDDLE_NAME, LAST_NAME, \\\n",
    "        REPLACE(CREDIT_CARD_NO, SUBSTR(CREDIT_CARD_NO, 1, 12), '************') AS CREDIT_CARD_NO, \\\n",
    "        FULL_STREET_ADDRESS, CUST_CITY AS CITY, CUST_STATE AS STATE, CUST_COUNTRY AS COUNTRY, CUST_ZIP AS ZIP, \\\n",
    "        CUST_PHONE AS PHONE_NUMBER, CUST_EMAIL AS EMAIL, LAST_UPDATED \\\n",
    "        FROM CUSTOMERVIEW WHERE SSN = {ssn_num} AND FIRST_NAME = '{fname}' AND LAST_NAME = '{lname}'\")\n",
    "\n",
    "    \n",
    "                          \n",
    "    # Checking if record exists in the database table.\n",
    "    if df_result.isEmpty():\n",
    "\n",
    "        # Credit card number\n",
    "        if opt == '1':\n",
    "            print(\"\\nNo records for the credit card number ending with the last four digits {} with the first name {} and last name {} found.\".format(cardno[12:], fname, lname))\n",
    "\n",
    "        \n",
    "        # Phone number\n",
    "        elif opt == '2':\n",
    "            print(\"\\nNo records for the phone number {} with the first name {} and last name {} found.\".format(phone, fname, lname))\n",
    "\n",
    "        # SSN number    \n",
    "        elif opt == '3':\n",
    "            print(\"\\nNo records for the social security number ending with the last four digits {} with the first name {} and last name {} found.\".format(ssn[5:], fname, lname))\n",
    "\n",
    "\n",
    "\n",
    "    # Displaying the existing account details of a customer from the customer table.\n",
    "    df_result.show()"
   ]
  },
  {
   "cell_type": "code",
   "execution_count": 697,
   "metadata": {},
   "outputs": [
    {
     "name": "stdout",
     "output_type": "stream",
     "text": [
      "\n",
      "1) Use Credit Card Number to get the account details.\n",
      "2) Use Phone Number to get the account details.\n",
      "3) Use SSN to get the account details.\n",
      "\n",
      "\n",
      "Credit Card Number ending with the last 4 digits 9480 is valid\n",
      "+----------+-----------+---------+----------------+-------------------+-----------------+-----+-------------+-----+-------------+------------------+-------------------+\n",
      "|FIRST_NAME|MIDDLE_NAME|LAST_NAME|  CREDIT_CARD_NO|FULL_STREET_ADDRESS|             CITY|STATE|      COUNTRY|  ZIP| PHONE_NUMBER|             EMAIL|       LAST_UPDATED|\n",
      "+----------+-----------+---------+----------------+-------------------+-----------------+-----+-------------+-----+-------------+------------------+-------------------+\n",
      "|     Loren|    solomon|    Foley|************9480|   875,Clark Street|SouthRichmondHill|   NY|United States|11419|(214)123-9593|LFoley@example.com|2018-04-21 11:49:02|\n",
      "+----------+-----------+---------+----------------+-------------------+-----------------+-----+-------------+-----+-------------+------------------+-------------------+\n",
      "\n"
     ]
    }
   ],
   "source": [
    "# Function to check the existing account details of a customer.\n",
    "check_customer_account_details(cardnumbers, ssnno, fstname, lstname)"
   ]
  },
  {
   "attachments": {},
   "cell_type": "markdown",
   "metadata": {},
   "source": [
    "#### 2) Used to modify the existing account details of a customer."
   ]
  },
  {
   "attachments": {},
   "cell_type": "markdown",
   "metadata": {},
   "source": [
    "### Function to validate email."
   ]
  },
  {
   "cell_type": "code",
   "execution_count": 419,
   "metadata": {},
   "outputs": [],
   "source": [
    "# Function to validate the email.\n",
    "def valid_email(email):\n",
    "    pattern = '^[a-zA-Z0-9-_]+@[a-zA-Z0-9]+\\.[a-z]{1,3}$'\n",
    "    if re.match(pattern, email):\n",
    "        return True\n",
    "    else:\n",
    "        return False"
   ]
  },
  {
   "attachments": {},
   "cell_type": "markdown",
   "metadata": {},
   "source": [
    "### Function to modify the existing account details of a customer."
   ]
  },
  {
   "cell_type": "code",
   "execution_count": 420,
   "metadata": {},
   "outputs": [],
   "source": [
    "# Function to modify the existing account details of a customer.\n",
    "def modify_existing_account_details_of_a_customer(customer_columns, ssnno, states, USER, PWD):\n",
    "  \n",
    "    # Validating the credit card number.\n",
    "    ssn = validate_ssn(ssnno)\n",
    "\n",
    "\n",
    "    # Connecting to the mysql database.\n",
    "    try:\n",
    "        mydb = mariadb.connect(host='localhost',\n",
    "                                    user=USER,\n",
    "                                    password=PWD,\n",
    "                                    database='creditcard_capstone')\n",
    "        \n",
    "        # checking whether the database is connected.\n",
    "        if mydb.is_connected():\n",
    "            db_Info = mydb.get_server_info()\n",
    "            mycursor = mydb.cursor()\n",
    "\n",
    "            # Checking whether the customer record dxists in the customer table for the given credit card number.\n",
    "            ssn_number = int(ssn)\n",
    "            st =\"SELECT * FROM CDW_SAPP_CUSTOMER WHERE SSN = '{}'\"\n",
    "            mycursor.execute(st.format(ssn_number))\n",
    "            result= mycursor.fetchall()\n",
    "           \n",
    "            # If a customer record exists for the given credit card number then allow to modify.\n",
    "            if len(result) == 0:\n",
    "               print('No customer record for the given Social Security number {} found.'.format(ssn[5:]))\n",
    "            \n",
    "            else:\n",
    "                # Populating the dictionary with the selected record details from the database. \n",
    "                cus_data = {}\n",
    "                apt = ''\n",
    "                aptno = ''\n",
    "                \n",
    "                # Populating the dictionary with the selected values from the database for the entered SSN.\n",
    "                cus_data['SSN'] = result[0][0]\n",
    "                cus_data['CREDIT_CARD_NO'] = result[0][4]\n",
    "                cus_data['FULL_STREET_ADDRESS'] = result[0][5]\n",
    "                cus_data['CUST_CITY'] = result[0][6]\n",
    "                cus_data['CUST_STATE'] = result[0][7]\n",
    "                cus_data['CUST_COUNTRY'] = result[0][8]\n",
    "                cus_data['CUST_ZIP'] = result[0][9]\n",
    "                cus_data['CUST_PHONE'] = result[0][10]\n",
    "                cus_data['CUST_EMAIL'] = result[0][11]\n",
    "                cus_data['COUNT'] = 0\n",
    "                count = 1\n",
    "                \n",
    "                # Display the menu of customer fields to be modified. \n",
    "                for c in customer_columns:\n",
    "                    print(' ' + str(count) + ') ' + c)\n",
    "                    count += 1\n",
    "                print(' ' + str(count) + ') Exit')\n",
    "                \n",
    "                while True:\n",
    "                    print('\\nPlease choose the option you would like to modify: ')\n",
    "                    option = input('Please enter option: ')\n",
    "                    option = option.strip()\n",
    "                    if option.isdigit():\n",
    "                        if int(option) <= len(customer_columns):\n",
    "                            column_name = customer_columns[int(option)-1]\n",
    "                            if option == '1': # FULL_STREET_ADDRESS\n",
    "                                 while True: \n",
    "                                    new_entry = input('\\nPlease enter new ' + column_name + ': ')\n",
    "                                    new_entry = new_entry.strip()\n",
    "                                    aptno = new_entry.split()[0]\n",
    "                                    apt = new_entry.split(',')[0]\n",
    "                                    \n",
    "                                    # Checking if it is has only digits and is of address structure.\n",
    "                                    if apt.isdigit() or aptno.isdigit():\n",
    "                                        if re.match(r\"\\d+[,]?[\\s+]?(?:[A-Za-z0-9.-]+[ ]?)+(?:Avenue|Lane|Road|Boulevard|Drive|Street|Ave|Dr|Rd|Blvd|Ln|St)\\.?\", new_entry):\n",
    "                                            cus_data['FULL_STREET_ADDRESS'] = new_entry \n",
    "                                            cus_data['COUNT'] += 1  \n",
    "                                            break\n",
    "                                        else:\n",
    "                                            print('\\nFull street address {} is invalid. Try again.'.format(new_entry))\n",
    "                                    else:\n",
    "                                        print('\\nFull street address {} is invalid. Please enter Apartment No. or House Number in the beginning. Try again.'.format(new_entry))\n",
    "                                    \n",
    "                            elif option == '2': # CUST_CITY\n",
    "                                while True: \n",
    "                                    new_entry = input('\\nPlease enter new ' + column_name + ': ')\n",
    "                                    new_entry = new_entry.strip().title()\n",
    "                                    if new_entry.isalpha():\n",
    "                                       cus_data['CUST_CITY'] = new_entry\n",
    "                                       cus_data['COUNT'] += 1  \n",
    "                                       break\n",
    "                                    else:\n",
    "                                        print('\\nCity {} is invalid. Please enter only letters. Try again.'.format(new_entry))\n",
    "\n",
    "                            elif option == '3': # CUST_STATE\n",
    "                                while True:\n",
    "                                    new_entry = input('\\nPlease enter new ' + column_name + ' in 2 letters: ')\n",
    "                                    new_entry = new_entry.strip().upper()\n",
    "                                    if new_entry.isalpha() and len(new_entry) == 2 and new_entry in states:\n",
    "                                       cus_data['CUST_STATE'] = new_entry\n",
    "                                       cus_data['COUNT'] += 1  \n",
    "                                       break\n",
    "                                    else:\n",
    "                                        print('\\nState {} is invalid. Try again.'.format(new_entry))\n",
    "\n",
    "                            elif option == '4': # CUST_ZIP\n",
    "                                  \n",
    "                                  new_entry = validate_zipcode()\n",
    "                                  cus_data['CUST_ZIP'] = int(new_entry)\n",
    "                                  cus_data['COUNT'] += 1  \n",
    "                      \n",
    "                            elif option == '5': # CUST_PHONE\n",
    "                                \n",
    "                                new_entry = validate_phone()\n",
    "                                cus_data['CUST_PHONE'] = new_entry\n",
    "                                cus_data['COUNT'] += 1  \n",
    "                         \n",
    "                            elif option == '6': # CUST_EMAIL\n",
    "                                while True: \n",
    "                                    new_entry = input('\\nPlease enter new ' + column_name + '. Please use the format abc@test.com: ')\n",
    "                                    new_entry = new_entry.strip()\n",
    "                                    if valid_email(new_entry):\n",
    "                                       cus_data['CUST_EMAIL'] = new_entry\n",
    "                                       cus_data['COUNT'] += 1  \n",
    "                                       break\n",
    "                                    else:\n",
    "                                        print('\\nE-mail {} is invalid. Try again.'.format(new_entry))\n",
    "                        # Exit\n",
    "                        elif int(option) == count:\n",
    "                            break\n",
    "                        else:\n",
    "                            print('\\nOption {} is invalid. Try again.'.format(option))\n",
    "                    else:\n",
    "                        print('\\nOption {} is invalid. Try again.'.format(option))\n",
    "\n",
    "\n",
    "                # Checking the count in the dictionary to see if any field has been modified.\n",
    "                if cus_data['COUNT'] > 0:\n",
    "                               \n",
    "                    # Update the database with the fields modified.\n",
    "                    updatest= f\"UPDATE CDW_SAPP_CUSTOMER \\\n",
    "                    SET FULL_STREET_ADDRESS= '{cus_data['FULL_STREET_ADDRESS']}', \\\n",
    "                    CUST_CITY= '{cus_data['CUST_CITY']}',CUST_STATE = '{cus_data['CUST_STATE']}', \\\n",
    "                    CUST_ZIP= {cus_data['CUST_ZIP']}, CUST_PHONE= '{cus_data['CUST_PHONE']}', \\\n",
    "                    CUST_EMAIL= '{cus_data['CUST_EMAIL']}', LAST_UPDATED= NOW() \\\n",
    "                    WHERE SSN = {cus_data['SSN']}\"\n",
    "\n",
    "                    # Modifying the database.\n",
    "                    mycursor.execute(updatest)\n",
    "                    # Save it to the database.\n",
    "                    mydb.commit()\n",
    "                                \n",
    "                    # Checking if there are any records that got updated and displaying the modified record.\n",
    "                    if mycursor.rowcount > 0:\n",
    "                        ssn_number = int(ssn)\n",
    "                        print('\\n{} Customer record modified for the Social Security Number ending with the last four digits {}.\\n'.format(mycursor.rowcount, ssn[5:]))\n",
    "\n",
    "                        st1 =\"SELECT FIRST_NAME, MIDDLE_NAME, LAST_NAME, REPLACE(CREDIT_CARD_NO, SUBSTR(CREDIT_CARD_NO, 1, 12), '************') AS CREDIT_CARD_NO, \\\n",
    "                        FULL_STREET_ADDRESS, CUST_CITY, CUST_STATE, CUST_COUNTRY, CUST_ZIP, CUST_PHONE, \\\n",
    "                        CUST_EMAIL, LAST_UPDATED \\\n",
    "                        FROM CDW_SAPP_CUSTOMER WHERE SSN = '{}'\"\n",
    "\n",
    "                        mycursor.execute(st1.format(ssn_number))\n",
    "                        output= mycursor.fetchall()\n",
    "                        print(output[0])\n",
    "                                                                     \n",
    "                    else:\n",
    "                        # No record exists \n",
    "                        print('\\nNo Customer record modified for the Social Security Number ending with the last four digits {}.'.format(ssn[5:])) \n",
    "\n",
    "    \n",
    "    # Getting the error.           \n",
    "    except Error as e:\n",
    "        print(\"Error while connecting to Database\", e)\n",
    "    \n",
    "    finally:\n",
    "\n",
    "        # Closing the cursor and database connection after updating the customer data.\n",
    "        if mydb.is_connected():\n",
    "            mycursor.close()\n",
    "            mydb.close()\n"
   ]
  },
  {
   "cell_type": "code",
   "execution_count": 423,
   "metadata": {},
   "outputs": [
    {
     "name": "stdout",
     "output_type": "stream",
     "text": [
      "\n",
      "SSN ending with the last 4 digits 5934 is valid.\n",
      " 1) FULL_STREET_ADDRESS\n",
      " 2) CUST_CITY\n",
      " 3) CUST_STATE\n",
      " 4) CUST_ZIP\n",
      " 5) CUST_PHONE\n",
      " 6) CUST_EMAIL\n",
      " 7) Exit\n",
      "\n",
      "Please choose the option you would like to modify: \n",
      "\n",
      "Please choose the option you would like to modify: \n",
      "\n",
      "Please choose the option you would like to modify: \n",
      "\n",
      "Please choose the option you would like to modify: \n",
      "Zipcode 53151 is valid.\n",
      "\n",
      "Please choose the option you would like to modify: \n",
      "\n",
      "Phone number 2141243215 is valid\n",
      "\n",
      "Please choose the option you would like to modify: \n",
      "\n",
      "1 Customer record modified for the Social Security Number ending with the last four digits 5934.\n",
      "\n",
      "('Loren', 'solomon', 'Foley', '************9480', '253,Country Club Road', 'Newberlin', 'WI', 'United States', 53151, '(214)124-3215', 'ABilly@example.com', datetime.datetime(2023, 2, 28, 19, 57, 31))\n"
     ]
    },
    {
     "name": "stderr",
     "output_type": "stream",
     "text": [
      "C:\\spark\\python\\pyspark\\sql\\pandas\\conversion.py:248: FutureWarning: Passing unit-less datetime64 dtype to .astype is deprecated and will raise in a future version. Pass 'datetime64[ns]' instead\n",
      "  series = series.astype(t, copy=False)\n"
     ]
    }
   ],
   "source": [
    "# Function to modify the existing account details of a customer.\n",
    "modify_existing_account_details_of_a_customer(customer_columns, ssnno, states, USER, PWD)\n",
    "\n",
    "# Function to get the records from customer database table in the \n",
    "# creditcard_capstone database.\n",
    "df_customers= get_records_from_database_table(USER, PWD, \"creditcard_capstone.cdw_sapp_customer\")\n",
    "                    \n",
    "# Creating a temporary view for the customer data.\n",
    "df_customers.createOrReplaceTempView(\"customerview\")\n",
    "\n",
    "# Customer data.\n",
    "df_cust = df_customers.toPandas()\n",
    "\n",
    "# Getting the credit card transactions for customers.\n",
    "df_customer_cc_info = pd.merge(df_cust, df_tran, how='inner', left_on='CREDIT_CARD_NO', right_on='CUST_CC_NO')"
   ]
  },
  {
   "attachments": {},
   "cell_type": "markdown",
   "metadata": {},
   "source": [
    "#### 3) Used to generate a monthly bill for a credit card number for a given month and year.\n"
   ]
  },
  {
   "attachments": {},
   "cell_type": "markdown",
   "metadata": {},
   "source": [
    "### Function to generate a monthly bill for a credit card number for a given month and year."
   ]
  },
  {
   "cell_type": "code",
   "execution_count": 424,
   "metadata": {},
   "outputs": [],
   "source": [
    "# Function to generate a monthly bill for a credit card number for a given month and year.\n",
    "def credit_card_monthly_bill_for_a_month_and_year(cardnumbers):\n",
    "\n",
    "    # Validating the credit card number.\n",
    "    cardno = validate_credit_card_no(cardnumbers)\n",
    "        \n",
    "    # Validating the month.\n",
    "    month = validate_month('month')\n",
    "    \n",
    "    # Validating the year.   \n",
    "    year = validate_year('year')\n",
    "   \n",
    "    #  Fetching the customer transaction data for a credit card number for a\n",
    "    # given month and year.\n",
    "    df_result = spark.sql(f\"SELECT REPLACE(CUST_CC_NO, SUBSTR(CUST_CC_NO, 1, 12), ('************')) AS CREDIT_CARD_NO, \\\n",
    "    ROUND(SUM(TRANSACTION_VALUE), 2) AS TOTAL_TRANSACTION_VALUE \\\n",
    "    FROM CREDITVIEW WHERE CUST_CC_NO = '{cardno}' AND MONTH(TO_DATE(TIMEID, 'yyyyMMdd')) = '{month}' \\\n",
    "    AND YEAR(TO_DATE(TIMEID, 'yyyyMMdd')) = '{year}' \\\n",
    "    GROUP BY CUST_CC_NO\")\n",
    "\n",
    "\n",
    "    # Checing whether an entry exists in the database for the given input.\n",
    "    if df_result.isEmpty():\n",
    "        print('\\nNo record matching the credit card number ending with the last four digits {} for \\\n",
    "            the month {} and year{} found.'.format(cardno[12:], month, year))\n",
    "        \n",
    "\n",
    "    # Displaying the credit card transaction details for a\n",
    "    # given month and year.\n",
    "\n",
    "    df_result.show()"
   ]
  },
  {
   "cell_type": "code",
   "execution_count": 425,
   "metadata": {},
   "outputs": [
    {
     "name": "stdout",
     "output_type": "stream",
     "text": [
      "\n",
      "Credit Card Number ending with the last 4 digits 9480 is valid\n",
      "\n",
      "Month 02 is valid.\n",
      "\n",
      "Year 2018 is valid.\n",
      "+----------------+-----------------------+\n",
      "|  CREDIT_CARD_NO|TOTAL_TRANSACTION_VALUE|\n",
      "+----------------+-----------------------+\n",
      "|************9480|                 703.67|\n",
      "+----------------+-----------------------+\n",
      "\n"
     ]
    }
   ],
   "source": [
    "# Function to generate a monthly bill for a credit card number for a given month and year. \n",
    "credit_card_monthly_bill_for_a_month_and_year(cardnumbers)\n"
   ]
  },
  {
   "attachments": {},
   "cell_type": "markdown",
   "metadata": {},
   "source": [
    "#### 4) Used to display the transactions made by a customer between two dates. Order by year, month, and day in descending order.\n"
   ]
  },
  {
   "cell_type": "code",
   "execution_count": 426,
   "metadata": {},
   "outputs": [],
   "source": [
    "# Function to display the transactions made by a customer between two dates.\n",
    "# Order by year, month and day in descending order.\n",
    "\n",
    "def transactions_by_a_customer_between_dates(ssnno):\n",
    "\n",
    "   \n",
    "    # Validating the credit card number.\n",
    "    cardno = validate_credit_card_no(cardnumbers)\n",
    "\n",
    "  \n",
    "    # Validating the startday.\n",
    "    startday = validate_day('start day')\n",
    "\n",
    "    # Validating the startmonth.\n",
    "    startmonth = validate_month('start month')\n",
    "        \n",
    "    # Validating the startyear.\n",
    "    startyear = validate_year('start year')\n",
    "\n",
    "    # Validating the endday.\n",
    "    endday = validate_day('end day')\n",
    "  \n",
    "    # Validating the endmonth.\n",
    "    endmonth = validate_month('end month')\n",
    "        \n",
    "    # Validating the endyear.\n",
    "    endyear = validate_year('end year')\n",
    "  \n",
    "    # Concatenating the year, month and day to get the timeid.\n",
    "    startyear = str(startyear)\n",
    "    endyear = str(endyear)\n",
    "    starttimeid = startyear + startmonth + startday\n",
    "    endtimeid = endyear + endmonth + endday\n",
    "\n",
    "    startdate = startyear + '-' + startmonth + '-' + startday\n",
    "    enddate = endyear + '-' + endmonth + '-' + endday\n",
    "\n",
    "         \n",
    "    # Fetching the records to display the transactions made by a customer between\n",
    "    # two dates. Order by year, month, and day in descending order.\n",
    "\n",
    "    df_result = spark.sql(f\"SELECT REPLACE(CUST_CC_NO, SUBSTR(CUST_CC_NO, 1, 12), '************')  AS CREDIT_CARD_NO, \\\n",
    "    CONCAT(SUBSTR(TIMEID, 1, 4), '-', SUBSTR(TIMEID, 5, 2), '-', SUBSTR(TIMEID, 7, 2)) AS TRANSACTION_DATE, \\\n",
    "    BRANCH_CODE, TRANSACTION_TYPE, ROUND(TRANSACTION_VALUE, 2) AS TRANSACTION_VALUE, \\\n",
    "    TRANSACTION_ID FROM CREDITVIEW \\\n",
    "    WHERE CUST_CC_NO = '{cardno}' AND (TIMEID >= '{starttimeid}' \\\n",
    "    AND TIMEID <= '{endtimeid}') \\\n",
    "    ORDER BY YEAR(TO_DATE(TIMEID, 'yyyyMMdd')) DESC, MONTH(TO_DATE(TIMEID, 'yyyyMMdd')) DESC, DAY(TO_DATE(TIMEID, 'yyyyMMdd')) DESC\")\n",
    "\n",
    "    # Checking whether an entry exists in the database for the given input.\n",
    "    if df_result.isEmpty():\n",
    "        \n",
    "        print('\\nNo records matching the creditcard number ending with the last 4 digits {} with the start date {} and the end date {} found.'.format(cardno[12:], startdate, enddate))\n",
    "    \n",
    "    # displaying the transactions made by a customer between\n",
    "    # two dates. Order by year, month, and day in descending order.\n",
    "\n",
    "    df_result.show()\n"
   ]
  },
  {
   "cell_type": "code",
   "execution_count": 427,
   "metadata": {},
   "outputs": [
    {
     "name": "stdout",
     "output_type": "stream",
     "text": [
      "\n",
      "Credit Card Number ending with the last 4 digits 9480 is valid\n",
      "\n",
      "Day 14 is valid\n",
      "\n",
      "Month 02 is valid.\n",
      "\n",
      "Year 2018 is valid.\n",
      "\n",
      "Day 08 is valid\n",
      "\n",
      "Month 08 is valid.\n",
      "\n",
      "Year 2018 is valid.\n",
      "+----------------+----------------+-----------+----------------+-----------------+--------------+\n",
      "|  CREDIT_CARD_NO|TRANSACTION_DATE|BRANCH_CODE|TRANSACTION_TYPE|TRANSACTION_VALUE|TRANSACTION_ID|\n",
      "+----------------+----------------+-----------+----------------+-----------------+--------------+\n",
      "|************9480|      2018-08-08|        119|            Test|            67.36|         21292|\n",
      "|************9480|      2018-08-02|         28|       Education|            26.28|         21272|\n",
      "|************9480|      2018-07-15|         63|         Grocery|            30.75|         21277|\n",
      "|************9480|      2018-07-15|         30|            Test|            34.77|         21303|\n",
      "|************9480|      2018-07-04|         83|       Education|            42.68|         21284|\n",
      "|************9480|      2018-06-24|        105|            Test|            29.93|         21295|\n",
      "|************9480|      2018-06-15|         72|             Gas|            67.08|         21271|\n",
      "|************9480|      2018-06-05|        103|      Healthcare|            35.34|         21311|\n",
      "|************9480|      2018-05-24|         73|            Test|            39.95|         21281|\n",
      "|************9480|      2018-05-04|         89|         Grocery|            58.94|         21314|\n",
      "|************9480|      2018-04-28|         91|            Test|            92.78|         21293|\n",
      "|************9480|      2018-04-26|         99|       Education|            58.64|         21286|\n",
      "|************9480|      2018-04-20|         49|             Gas|             4.67|         21297|\n",
      "|************9480|      2018-04-14|         25|         Grocery|           100.95|         21274|\n",
      "|************9480|      2018-04-12|         81|           Bills|            19.97|         21298|\n",
      "|************9480|      2018-04-10|        117|             Gas|            29.77|         21267|\n",
      "|************9480|      2018-04-08|         81|           Bills|            45.99|         21289|\n",
      "|************9480|      2018-04-06|         18|             Gas|            17.17|         21317|\n",
      "|************9480|      2018-03-26|         31|         Grocery|            83.21|         21290|\n",
      "|************9480|      2018-03-22|         81|      Healthcare|             7.61|         21266|\n",
      "+----------------+----------------+-----------+----------------+-----------------+--------------+\n",
      "only showing top 20 rows\n",
      "\n"
     ]
    }
   ],
   "source": [
    "# Display the transactions made by a customer between\n",
    "# two dates. Order by year, month, and day in descending order.\n",
    "\n",
    "transactions_by_a_customer_between_dates(ssnno)\n"
   ]
  },
  {
   "attachments": {},
   "cell_type": "markdown",
   "metadata": {},
   "source": [
    "## 3 - Functional Requirements - Data analysis and Visualization\n"
   ]
  },
  {
   "attachments": {},
   "cell_type": "markdown",
   "metadata": {},
   "source": [
    "## Req - 3  Data Analysis and Visualization\n"
   ]
  },
  {
   "attachments": {},
   "cell_type": "markdown",
   "metadata": {},
   "source": [
    "### Functional Requirements 3.1\n",
    "\n",
    "### Find and plot which transaction type has a high rate of transactions.\n",
    "\n",
    "### Note: Take a screenshot of the graphs"
   ]
  },
  {
   "attachments": {},
   "cell_type": "markdown",
   "metadata": {},
   "source": [
    "### Function to get random colors for the graph."
   ]
  },
  {
   "cell_type": "code",
   "execution_count": 428,
   "metadata": {},
   "outputs": [],
   "source": [
    "# Visualization Module.\n",
    "\n",
    "# Function to set colors for the plot.\n",
    "def set_colors_for_plot(length):\n",
    "    return [\"#\"+''.join([random.choice('0123456789ABCDEF') for j in range(6)]) for i in range(length)]"
   ]
  },
  {
   "attachments": {},
   "cell_type": "markdown",
   "metadata": {},
   "source": [
    "### Function to display the transaction types that has the a high rate of transactions."
   ]
  },
  {
   "cell_type": "code",
   "execution_count": 429,
   "metadata": {},
   "outputs": [],
   "source": [
    "# Function to plot which transaction type has a high rate of transactions.\n",
    "def high_rate_of_tran_by_tran_type(df_tran): \n",
    "   \n",
    "    # Getting the count of the number of trsnsactions per transaction type.\n",
    "    types = df_tran['TRANSACTION_TYPE'].value_counts()\n",
    "\n",
    "\n",
    "    # Setting the number of colors to the count of the records taken above.\n",
    "    no_of_colors = set_colors_for_plot(len(types))\n",
    "    types.sort_values(ascending=True, inplace = True)\n",
    "\n",
    "\n",
    "    # Plotting the transaction type that has a high rate of transactions.\n",
    "    types.plot(kind='barh', figsize=(10, 5),  xlim=(6000,7000), color = no_of_colors)\n",
    "\n",
    " \n",
    "    # Setting the title of the plot.\n",
    "    plt.title('Total Transactions Per Transaction Type', fontweight = 'bold', fontsize = 18)\n",
    "    # Setting the x-label.\n",
    "    plt.xlabel('Rate of Transactions', fontweight = 'bold', fontsize = 14)\n",
    "    # Setting the y-label.\n",
    "    plt.ylabel('Transaction Types', fontweight = 'bold', fontsize = 14)\n",
    "    \n",
    "\n",
    "    # annotate value labels to each country.\n",
    "    for index, value in enumerate(types): \n",
    "        plt.text(value+10, index-0.1, str(value))\n",
    "           \n",
    "    plt.show() "
   ]
  },
  {
   "cell_type": "code",
   "execution_count": 565,
   "metadata": {},
   "outputs": [
    {
     "data": {
      "image/png": "[encoded data removed]",
      "text/plain": [
       "<Figure size 1000x500 with 1 Axes>"
      ]
     },
     "metadata": {},
     "output_type": "display_data"
    }
   ],
   "source": [
    "# Function to plot the transaction type that has high rate of transactions.\n",
    "high_rate_of_tran_by_tran_type(df_tran)"
   ]
  },
  {
   "attachments": {},
   "cell_type": "markdown",
   "metadata": {},
   "source": [
    "## Functional Requirements 3.2\n",
    "\n",
    "### Find and plot which state has a high number of customers.\n",
    "### Note: Take a screenshot of the graphs."
   ]
  },
  {
   "attachments": {},
   "cell_type": "markdown",
   "metadata": {},
   "source": [
    "### Function to find and plot which state has a high number of customers."
   ]
  },
  {
   "cell_type": "code",
   "execution_count": 566,
   "metadata": {},
   "outputs": [],
   "source": [
    "# Function to find and plot which state has a high number of customers.\n",
    "def state_with_high_no_of_customers(df_cus):\n",
    "    \n",
    "    \n",
    "    # Getting the count of customers per state.\n",
    "    states = df_cus['CUST_STATE'].value_counts()\n",
    "\n",
    "\n",
    "    # Set random colors for each state.\n",
    "    state_color = set_colors_for_plot(len(states))\n",
    "\n",
    "    states.sort_values(ascending=True, inplace = True)\n",
    "\n",
    "\n",
    "    # Plotting the bar graph for the states.\n",
    "    states.plot(kind='barh', figsize=(10, 5), color = state_color, xlim=(0,100))\n",
    " \n",
    "\n",
    "    # Setting the title.\n",
    "    plt.title('Total Number of Customers Per State', fontweight = 'bold', fontsize = '18')\n",
    "    # Setting the x-label.\n",
    "    plt.xlabel('Total Number of Customers', fontweight = 'bold', fontsize = '14')\n",
    "    # Setting the y-label.\n",
    "    plt.ylabel('State', fontweight = 'bold', fontsize = 14)\n",
    "\n",
    "\n",
    "    # Displaying the number of customers for the state.\n",
    "    for index, value in enumerate(states): \n",
    "      plt.text(value+0.6, index-0.4, str(value))\n",
    "  \n",
    "    plt.show() \n",
    "\n"
   ]
  },
  {
   "cell_type": "code",
   "execution_count": 580,
   "metadata": {},
   "outputs": [
    {
     "data": {
      "image/png": "[encoded data removed]",
      "text/plain": [
       "<Figure size 1000x500 with 1 Axes>"
      ]
     },
     "metadata": {},
     "output_type": "display_data"
    }
   ],
   "source": [
    "# Function to find and plot which state has a high number of customers.\n",
    "state_with_high_no_of_customers(df_cus)"
   ]
  },
  {
   "attachments": {},
   "cell_type": "markdown",
   "metadata": {},
   "source": [
    "## Functional Requirements 3.3\n",
    "\n",
    "### Find and plot the sum of all transactions for the top 10 customers,\n",
    "### and which customer has the highest transaction amount.\n",
    "### hint(use CUST_SSN).\n",
    "### Note: Take a screenshot of the graphs."
   ]
  },
  {
   "attachments": {},
   "cell_type": "markdown",
   "metadata": {},
   "source": [
    "### Function to plot the sum of all transactions for the top 10 customers,\n",
    "### and which customer has the highest transaction amount."
   ]
  },
  {
   "cell_type": "code",
   "execution_count": 581,
   "metadata": {},
   "outputs": [],
   "source": [
    "# Function to plot the sum of all transactions for the top 10 customers,\n",
    "# and which customer has the highest transaction amount.\n",
    "# hint(use CUST_SSN).\n",
    "\n",
    "def highest_and_sum_of_transactions_for_top10(df_customer_cc):\n",
    "    \n",
    "\n",
    "    # Getting the top 10 customers.\n",
    "    top10 = df_customer_cc.groupby('CUST_SSN')['TRANSACTION_VALUE'].sum().sort_values().tail(10)\n",
    "  \n",
    "    # Setting the color for each customer in top 10.\n",
    "    top10_colors = set_colors_for_plot(len(top10))\n",
    "\n",
    "\n",
    "    # Plotting the graph for the top 10 customers having the highest total values of transactions.\n",
    "    top10.plot(kind='barh', figsize=(10, 5), xlim=(4800,5800), color=top10_colors)\n",
    "\n",
    "    # Placing text i.e. sum of all transactions at the end of bar\n",
    "    for index, value in enumerate(top10): \n",
    "        plt.text(value+10, index-0.25, '$'+str(value))\n",
    "     \n",
    "\n",
    "    # Setting the plot.\n",
    "    plt.title('Top 10 Total Transaction Amounts Per Customer', fontweight = 'bold', fontsize = 18)\n",
    "    # Setting the x-label.\n",
    "    plt.xlabel('Total Transaction Amount', fontweight = 'bold', fontsize = 14)\n",
    "    # Setting the y-label.\n",
    "    plt.ylabel('Account Number', fontweight = 'bold', fontsize = 14)\n",
    "    \n",
    "    plt.show()"
   ]
  },
  {
   "cell_type": "code",
   "execution_count": 586,
   "metadata": {},
   "outputs": [
    {
     "data": {
      "image/png": "[encoded data removed]",
      "text/plain": [
       "<Figure size 1000x500 with 1 Axes>"
      ]
     },
     "metadata": {},
     "output_type": "display_data"
    }
   ],
   "source": [
    "# Function to plot the sum of all transactions for the top 10 customers,\n",
    "# and which customer has the highest transaction amount.\n",
    "highest_and_sum_of_transactions_for_top10(df_customer_cc)"
   ]
  },
  {
   "attachments": {},
   "cell_type": "markdown",
   "metadata": {},
   "source": [
    "# LOAN application Data API"
   ]
  },
  {
   "attachments": {},
   "cell_type": "markdown",
   "metadata": {},
   "source": [
    "### API Endpoint: https://raw.githubusercontent.com/platformps/LoanDataset/main/loan_data.json\n",
    "\n",
    "### The above URL allows you to access information about loan application information. This\n",
    "### dataset has all of the required fields for a loan application. You can access data from a REST\n",
    "### API by sending an HTTP request and processing the response."
   ]
  },
  {
   "attachments": {},
   "cell_type": "markdown",
   "metadata": {},
   "source": [
    "## 4. Functional Requirements - LOAN Application Dataset"
   ]
  },
  {
   "attachments": {},
   "cell_type": "markdown",
   "metadata": {},
   "source": [
    "### Req-4 Access to Loan API Endpoint"
   ]
  },
  {
   "attachments": {},
   "cell_type": "markdown",
   "metadata": {},
   "source": [
    "## Functional Requirements 4.1\n"
   ]
  },
  {
   "attachments": {},
   "cell_type": "markdown",
   "metadata": {},
   "source": [
    "### Create a Python program to GET (consume) data from the above API\n",
    "### endpoint for the loan application dataset."
   ]
  },
  {
   "attachments": {},
   "cell_type": "markdown",
   "metadata": {},
   "source": [
    "### Function to extract the json loan data from the API response."
   ]
  },
  {
   "cell_type": "code",
   "execution_count": 587,
   "metadata": {},
   "outputs": [],
   "source": [
    "# Function to extract the json loan data from the API response.\n",
    "def api_extract():\n",
    "\n",
    "    # API url for loan application data.\n",
    "    loanapi_url = 'https://raw.githubusercontent.com/platformps/LoanDataset/main/loan_data.json'\n",
    " \n",
    "    # Getting the response from the API to get the json file.\n",
    "    response = requests.get(loanapi_url)\n",
    "\n",
    "    # Json file is loaded into the loan dataframe.\n",
    "    loan_data = response.json()\n",
    "\n",
    "    # Returns the loan data json file and the status code.\n",
    "    return loan_data, response.status_code \n"
   ]
  },
  {
   "attachments": {},
   "cell_type": "markdown",
   "metadata": {},
   "source": [
    "## Functional Requirements 4.2\n"
   ]
  },
  {
   "attachments": {},
   "cell_type": "markdown",
   "metadata": {},
   "source": [
    "### Find the status code of the above API endpoint.\n",
    "### Hint: status code could be 200, 400, 404, 401.\n"
   ]
  },
  {
   "attachments": {},
   "cell_type": "markdown",
   "metadata": {},
   "source": [
    "### Function to print the API status code after reading from the response."
   ]
  },
  {
   "cell_type": "code",
   "execution_count": 588,
   "metadata": {},
   "outputs": [],
   "source": [
    "#Function to print the API status code after reading from the response.\n",
    "def print_api_status_code(status):\n",
    "    \n",
    "    # Printing the status code.\n",
    "    print('API endpoint status code: ' + str(status))"
   ]
  },
  {
   "attachments": {},
   "cell_type": "markdown",
   "metadata": {},
   "source": [
    "## Functional Requirements 4.3\n"
   ]
  },
  {
   "attachments": {},
   "cell_type": "markdown",
   "metadata": {},
   "source": [
    "### Once Python reads data from the API, utilize PySpark to load data into\n",
    "### RDBMS(SQL). The table name should be CDW-SAPP_loan_application\n",
    "### in the database.\n",
    "### Note: Use the “creditcard_capstone” database."
   ]
  },
  {
   "attachments": {},
   "cell_type": "markdown",
   "metadata": {},
   "source": [
    "### Function to  create a spark dataframe and load the loan data to the table CDW_SAPP_loan_application."
   ]
  },
  {
   "cell_type": "code",
   "execution_count": 589,
   "metadata": {},
   "outputs": [],
   "source": [
    "# Function to  create a spark dataframe and load the loan data to the table CDW_SAPP_loan_application.\n",
    "def load_loan_data_to_database(loan_info, USER, PWD):\n",
    "        \n",
    "        # Creating a Spark DataFrame with the loan application data.\n",
    "        df_loan_details = spark.createDataFrame(loan_info)\n",
    "\n",
    "        # Writing the loan application data to the database table CDW_SAPP_loan_application.\n",
    "        df_loan_details.write.format(\"jdbc\") \\\n",
    "                        .mode(\"overwrite\") \\\n",
    "                        .option(\"truncate\", \"true\") \\\n",
    "                        .option(\"url\", \"jdbc:mysql://localhost:3306/creditcard_capstone\") \\\n",
    "                        .option(\"dbtable\", \"creditcard_capstone.CDW_SAPP_loan_application\") \\\n",
    "                        .option(\"user\", USER) \\\n",
    "                        .option(\"password\", PWD) \\\n",
    "                        .save()\n"
   ]
  },
  {
   "attachments": {},
   "cell_type": "markdown",
   "metadata": {},
   "source": [
    "### Function to extract and load loan data from API"
   ]
  },
  {
   "cell_type": "code",
   "execution_count": 590,
   "metadata": {},
   "outputs": [],
   "source": [
    "# Function to extract and load loan API.\n",
    "def loan_data_processing(USER, PWD):\n",
    "\n",
    "    # Extracting the loan data from the API.\n",
    "    loan_info, status = api_extract()\n",
    "\n",
    "    # Displaying the status code to show whether it is successful or not.\n",
    "    print_api_status_code(status)\n",
    "    \n",
    "    # Load the data into the database creditcard_capstone to the table CDW_SAPP_loan_application.\n",
    "    load_loan_data_to_database(loan_info, USER, PWD)\n",
    "    "
   ]
  },
  {
   "attachments": {},
   "cell_type": "markdown",
   "metadata": {},
   "source": [
    "### Fucntion to Extract and load the loan data from API only if the table CDW_SAPP_loan_application does not exists \n",
    "### in the creditcard_capstone database."
   ]
  },
  {
   "cell_type": "code",
   "execution_count": 591,
   "metadata": {},
   "outputs": [],
   "source": [
    "# Function to populate the loan application table only if the table does not exist in the \n",
    "# creditcard_capstone database.\n",
    "\n",
    "def populate_loan_table_only_if_not_exists(USER, PWD):\n",
    "    \n",
    "    # Checking if the customer, branch and creditcard table exists in the creditcard_capstone database.\n",
    "    # Extract and load the loan data from API only if the table CDW_SAPP_loan_application does not exists \n",
    "    # in the creditcard_capstone database.\n",
    "    \n",
    "    df_tab= get_records_from_database_table(USER, PWD, \"information_schema.tables\")\n",
    "    df_tab = df_tab.filter(\"table_name = 'cdw_sapp_loan_application'\")\n",
    "       \n",
    "    # Check whether any record is there in the database.\n",
    "    if df_tab.isEmpty():\n",
    "        try:\n",
    "            loan_data_processing(USER, PWD)\n",
    "        except Error as e:\n",
    "            print(\"Error Message:\", e)\n"
   ]
  },
  {
   "cell_type": "code",
   "execution_count": 592,
   "metadata": {},
   "outputs": [
    {
     "name": "stdout",
     "output_type": "stream",
     "text": [
      "API endpoint status code: 200\n"
     ]
    }
   ],
   "source": [
    "# Function to populate the loan application table only if the table does not exist in the \n",
    "# creditcard_capstone database.\n",
    "populate_loan_table_only_if_not_exists(USER,PWD)"
   ]
  },
  {
   "attachments": {},
   "cell_type": "markdown",
   "metadata": {},
   "source": [
    "## 5 - Functional Requirements - Data Analysis and Visualization for Loan Application.\n"
   ]
  },
  {
   "attachments": {},
   "cell_type": "markdown",
   "metadata": {},
   "source": [
    "### Req-5 Data Analysis and Visualization\n"
   ]
  },
  {
   "attachments": {},
   "cell_type": "markdown",
   "metadata": {},
   "source": [
    "## Functional Requirements 5.1\n",
    "\n",
    "### Find and plot the percentage of applications approved for self-employed applicants.\n",
    "\n",
    "### Note: Take a screenshot of the graph.\n"
   ]
  },
  {
   "attachments": {},
   "cell_type": "markdown",
   "metadata": {},
   "source": [
    "### Function to fetch all the loan application data from the creditcard_capstone database."
   ]
  },
  {
   "cell_type": "code",
   "execution_count": 593,
   "metadata": {},
   "outputs": [],
   "source": [
    "# Function to fetch all the loan application data from the creditcard_capstone database.\n",
    "def get_loan_info(USER, PWD):\n",
    "\n",
    "    # Function to get the records from customer database table in the \n",
    "    # creditcard_capstone database.\n",
    "    df_loans= get_records_from_database_table(USER, PWD, \"creditcard_capstone.cdw_sapp_loan_application\")\n",
    "    df_loan = df_loans.toPandas()\n",
    "    \n",
    "    \n",
    "    return df_loan"
   ]
  },
  {
   "cell_type": "code",
   "execution_count": 594,
   "metadata": {},
   "outputs": [],
   "source": [
    "# Function to fetch all the loan application data from the creditcard_capstone database.\n",
    "df_loan_data = get_loan_info(USER, PWD)"
   ]
  },
  {
   "attachments": {},
   "cell_type": "markdown",
   "metadata": {},
   "source": [
    "### Function to plot the percentage of approved applications for the self employed applicants."
   ]
  },
  {
   "cell_type": "code",
   "execution_count": 700,
   "metadata": {},
   "outputs": [],
   "source": [
    "# Function to plot the percentage of applications approved for self-employed\n",
    "# applicants.\n",
    "\n",
    "def approved_applications_for_self_employed(df_loan_data):\n",
    "\n",
    "\n",
    "     # Getting the loan applicstion data for the application approved for self-employed applicants.,\n",
    "     df_loan_info = df_loan_data[['Application_Status','Self_Employed']].value_counts()\n",
    "\n",
    "     colors_list = ['yellowgreen', 'lightcoral', 'gold', 'lightblue'] \n",
    "     \n",
    "        \n",
    "     # Plotting the pie chart for the percentage of applications approved for self-employed applicants.\n",
    "     df_loan_info.plot(kind='pie',\n",
    "                             figsize=(12, 6),\n",
    "                             autopct='%1.2f%%', \n",
    "                             startangle=90,\n",
    "                             labels=None,         # turn off labels on pie chart\n",
    "                             pctdistance=1.12,    # the ratio between the center of each pie slice and the start of the text generated by autopct \n",
    "                             legend = True,\n",
    "                             explode=(0, 0, 0.1, 0),\n",
    "                             colors=colors_list\n",
    "                             )\n",
    "\n",
    "\n",
    "     # Scale the title up by 12% to match pctdistance\n",
    "     plt.title('Percentage of Applications Approved for Self-Employed Applicants', y=1.12, fontweight = 'bold', fontsize = 15) \n",
    "\n",
    "     plt.axis('equal') \n",
    "\n",
    "     # Adding the legend\n",
    "     legend_labels = ['Approved Not Self-Employed', 'Not Approved Not Self-Employed', 'Approved Self-Employed', 'Not Approved Self-Employed' ]  \n",
    "     plt.legend(labels=legend_labels) #, loc = 'upper left' ) \n",
    "\n",
    "     plt.show()\n"
   ]
  },
  {
   "cell_type": "code",
   "execution_count": 671,
   "metadata": {},
   "outputs": [
    {
     "data": {
      "image/png": "[encoded data removed]",
      "text/plain": [
       "<Figure size 1200x600 with 1 Axes>"
      ]
     },
     "metadata": {},
     "output_type": "display_data"
    }
   ],
   "source": [
    "# Function to plot the percentage of applications approved for self-employed\n",
    "# applicants.\n",
    "approved_applications_for_self_employed(df_loan_data)"
   ]
  },
  {
   "attachments": {},
   "cell_type": "markdown",
   "metadata": {},
   "source": [
    "## Functional Requirements 5.2\n"
   ]
  },
  {
   "attachments": {},
   "cell_type": "markdown",
   "metadata": {},
   "source": [
    "### Find the percentage of rejection for married male applicants.\n",
    "### Note: Take a screenshot of the graph."
   ]
  },
  {
   "attachments": {},
   "cell_type": "markdown",
   "metadata": {},
   "source": [
    "### Function to plot the percentage of rejection for married male applicants."
   ]
  },
  {
   "cell_type": "code",
   "execution_count": 686,
   "metadata": {},
   "outputs": [],
   "source": [
    "# Function to find and plot the percentage of rejection for married male applicants.\n",
    "def percentage_of_rejection_for_married_male(df_loan_data):\n",
    "\n",
    "    # Getting the loan application data for the percentage of rejections for married male applicants.\n",
    "    df_loan = df_loan_data[['Application_Status', 'Married', 'Gender']].value_counts()\n",
    "\n",
    "    colors_list = ['yellowgreen', 'gold', 'lightskyblue', 'lightgreen', 'pink', 'lightblue', 'lightgrey',  'lightcoral']\n",
    "    \n",
    "    # Plotting  a pie chart to show the percentage of rejection for married male applicants.\n",
    "    df_loan.plot(kind='pie',\n",
    "                            figsize=(14, 6),\n",
    "                            autopct='%1.2f%%', \n",
    "                            startangle=250,\n",
    "                            labels=None,         # turn off labels on pie chart\n",
    "                            pctdistance=1.12,    # the ratio between the center of each pie slice and the start of the text generated by autopct\n",
    "                            legend = True,\n",
    "                            explode=(0, 0.1, 0, 0, 0, 0, 0, 0),\n",
    "                            colors = colors_list\n",
    "                           )\n",
    "\n",
    "    # Scale the title up by 12% to match pctdistance\n",
    "    plt.title('Percentage of Rejections for Married Male Applicants', \n",
    "              y=1.12, fontweight = 'bold', fontsize = 18) \n",
    "\n",
    "    plt.axis('equal') \n",
    "\n",
    "    # Adding the legend\n",
    "    legend_labels = ['(Approved, Married, Male)', '(Not Approved, Married, Male)', '(Approved, Not Married, Male)', \n",
    "                     '(Not Approved, Not Married, Male)', '(Approved, Not Married, Female)', \n",
    "                     '(Not Approved, Not Mariied, Female)', '(Approved, Married, Female)', \n",
    "                     '(Not Approved, Married, Female)']\n",
    "                 \n",
    "    plt.legend(labels=legend_labels) \n",
    "\n",
    "    plt.show()\n"
   ]
  },
  {
   "cell_type": "code",
   "execution_count": 687,
   "metadata": {},
   "outputs": [
    {
     "data": {
      "image/png": "[encoded data removed]",
      "text/plain": [
       "<Figure size 1400x600 with 1 Axes>"
      ]
     },
     "metadata": {},
     "output_type": "display_data"
    }
   ],
   "source": [
    "# Function to find and plot the percentage of rejection for married male applicants.\n",
    "percentage_of_rejection_for_married_male(df_loan_data)"
   ]
  },
  {
   "attachments": {},
   "cell_type": "markdown",
   "metadata": {},
   "source": [
    "## Functional Requirements 5.3\n"
   ]
  },
  {
   "attachments": {},
   "cell_type": "markdown",
   "metadata": {},
   "source": [
    "### Find and plot the top three months with the largest transaction data.\n",
    "### Note: Take a screenshot of the graph.\n"
   ]
  },
  {
   "attachments": {},
   "cell_type": "markdown",
   "metadata": {},
   "source": [
    "### Function to plot the top three months with the largest transaction data."
   ]
  },
  {
   "cell_type": "code",
   "execution_count": 599,
   "metadata": {},
   "outputs": [],
   "source": [
    "# Function to plot the top three months with the largest transaction data.\n",
    "def top3_months_largest_transaction_data(df_tran):\n",
    "\n",
    "    # Getting the top three months with the largest transaction data. \n",
    "    df_top3 = df_tran.loc[:, ['TIMEID', 'TRANSACTION_ID']]\n",
    "    df_top3['TIMEID'] = pd.to_datetime(df_top3['TIMEID'], format='%Y%m%d').dt.month\n",
    "\n",
    "    top_3 = df_top3['TIMEID'].value_counts().sort_values().tail(3)\n",
    "\n",
    "    # Set the random colors for the three months.\n",
    "    top3_colors = set_colors_for_plot(len(top_3))\n",
    "\n",
    "    # Plotting the top 3 months with the largest transaction data.\n",
    "    top_3.plot(kind='barh', figsize=(10, 5), xlim=(3900, 3970), color=top3_colors)\n",
    "    \n",
    "    # Setting the title.\n",
    "    plt.title('Top 3 Total Number of Transactions Per Month', fontweight = 'bold', fontsize = 18)\n",
    "    # Setting the x-label\n",
    "    plt.xlabel('Number of Transactions', fontweight = 'bold', fontsize = 14)\n",
    "    # Setting the y-label\n",
    "    plt.ylabel('Month', fontweight = 'bold', fontsize = 14)\n",
    "\n",
    "    # Getting the transaction value to be displayed near the bar of the graph\n",
    "    for index, value in enumerate(top_3):\n",
    "      plt.text(value+1, index-0.04, str(value))\n",
    "\n",
    "  \n",
    "    plt.show()"
   ]
  },
  {
   "cell_type": "code",
   "execution_count": 613,
   "metadata": {},
   "outputs": [
    {
     "data": {
      "image/png": "[encoded data removed]",
      "text/plain": [
       "<Figure size 1000x500 with 1 Axes>"
      ]
     },
     "metadata": {},
     "output_type": "display_data"
    }
   ],
   "source": [
    "# Function to plot the top three months with the largest transaction data.\n",
    "top3_months_largest_transaction_data(df_tran)"
   ]
  },
  {
   "attachments": {},
   "cell_type": "markdown",
   "metadata": {},
   "source": [
    "## Functional Requirements 5.4"
   ]
  },
  {
   "attachments": {},
   "cell_type": "markdown",
   "metadata": {},
   "source": [
    "### Find and plot which branch processed the highest total dollar value of healthcare transactions.\n",
    "###  Note: Take a screenshot of the graph.\n"
   ]
  },
  {
   "attachments": {},
   "cell_type": "markdown",
   "metadata": {},
   "source": [
    "### Function to plot the branch that processed the highest total dollar value of healthcare transactions."
   ]
  },
  {
   "cell_type": "code",
   "execution_count": 688,
   "metadata": {},
   "outputs": [],
   "source": [
    "# Function to plot the branch that processed the highest total dollar value of\n",
    "# healthcare transactions.\n",
    "def branch_with_highest_total_dollar_value(df_tran):\n",
    "\n",
    "\n",
    "    # Getting all the branches with the transaction data and sorting to get the highest total dollar value of healthcare transactions.\n",
    "    health = df_tran[df_tran['TRANSACTION_TYPE']=='Healthcare'].groupby('BRANCH_CODE', as_index=False)['TRANSACTION_VALUE'] \\\n",
    "                                                                  .sum() \\\n",
    "                                                                  .sort_values(by='TRANSACTION_VALUE')\n",
    "   \n",
    "    # Set the random colors for the branches.\n",
    "    branch_colors = set_colors_for_plot(len(health))\n",
    "\n",
    "    # Plotting the scatter plot for the branches that processed transactions.\n",
    "    health.plot(kind='scatter', x='BRANCH_CODE', y='TRANSACTION_VALUE',\n",
    "                   figsize=(30, 10), color=branch_colors,  xlim=(0, 200))\n",
    "    \n",
    "    \n",
    "    # Setting the title.\n",
    "    plt.title('Total Dollar Value of Healthcare Transactions Per Branch', fontweight = 'bold', fontsize = 22)\n",
    "    # Setting the x-label.\n",
    "    plt.xlabel('Branch Number', fontweight = 'bold', fontsize = 17)\n",
    "    # Setting the y-label.\n",
    "    plt.ylabel('Total Value of Healthcare Transactions', fontweight = 'bold', fontsize = 17)\n",
    "    \n",
    "\n",
    "    # Displaying the branch that has the highest total with the highest total box.\n",
    "    health_series = health.set_index('BRANCH_CODE').squeeze()\n",
    "    for index, value in health_series.items():\n",
    "        if value == health_series.max(axis=0):\n",
    "            plt.text(index-5, value-120, 'Highest Total value', bbox=dict(facecolor='yellow',alpha=0.5), fontweight = 'bold')\n",
    "            plt.text(index-1, value-220, '$' + str(value), bbox=dict(facecolor='yellow',alpha=0.5), fontweight = 'bold')\n",
    "        plt.text(index+1, value-20, '#'+str(index))\n",
    "     \n",
    "    \n",
    "    plt.show()"
   ]
  },
  {
   "cell_type": "code",
   "execution_count": 689,
   "metadata": {},
   "outputs": [
    {
     "data": {
      "image/png": "[encoded data removed]",
      "text/plain": [
       "<Figure size 3000x1000 with 1 Axes>"
      ]
     },
     "metadata": {},
     "output_type": "display_data"
    }
   ],
   "source": [
    "# Plot the branch that processed the highest total dollar value of\n",
    "# healthcare transactions.\n",
    "branch_with_highest_total_dollar_value(df_tran)"
   ]
  },
  {
   "attachments": {},
   "cell_type": "markdown",
   "metadata": {},
   "source": [
    "### Function to get the input menu."
   ]
  },
  {
   "cell_type": "code",
   "execution_count": 616,
   "metadata": {},
   "outputs": [],
   "source": [
    "# Function to get the input.\n",
    "def get_input():\n",
    "\n",
    "# Initializing the variables.\n",
    "\n",
    "    option = ''\n",
    "    run_main_menu = True\n",
    "    run_t_menu = ''\n",
    "    run_c_menu = ''\n",
    "    run_v_menu = ''\n",
    "\n",
    "\n",
    "# Populating the menu.\n",
    "\n",
    "   \n",
    "    main_menu = ('\\n'\n",
    "                 '1) Banking Transactions Menu\\n'\n",
    "                 '2) Customer Transaction Menu\\n'\n",
    "                 '3) Visualizations Menu\\n'\n",
    "                 '4) Quit\\n')\n",
    "    transaction_menu = ('\\n'\n",
    "                    '1) Customer Transactions by Zipcode, Month and Year\\n'\n",
    "                    '2) Transactions by Transaction Type\\n'\n",
    "                    '3) Transactions for Branches in a given State\\n'\n",
    "                    '4) Previous menu\\n'\n",
    "                    '5) Exit\\n')\n",
    "    customer_menu = ('\\n'\n",
    "                    '1) Check Existing Account Details of a Customer\\n'\n",
    "                    '2) Modify Existing Account Details of a Customer\\n'\n",
    "                    '3) Generate Monthly Credit Card Bill\\n'\n",
    "                    '4) List of Transaction for a Date Range\\n'\n",
    "                    '5) Previous menu\\n'\n",
    "                    '6) Exit\\n')\n",
    "    visualization_menu = ('\\n'\n",
    "                     '1) Rate of Transactions by Transaction Type\\n'\n",
    "                     '2) Number of Customers by State\\n'\n",
    "                     '3) Total Transactions for top 10 Customers\\n'\n",
    "                     '4) Percentage of Approved Applications for Self-Employed Applicants\\n'\n",
    "                     '5) Percentage of Rejection for Married Male Applicants\\n'\n",
    "                     '6) Top Three Months of Largest Transactions\\n'\n",
    "                     '7) Branch with Highest Value of Healthcare Transactions.' \n",
    "                     '8) Previous menu\\n'\n",
    "                     '9) Exit\\n')\n",
    "\n",
    "    return_quit_t = ('\\n'\n",
    "                   '1) Return to main menu\\n'\n",
    "                   '2) Return to transaction menu\\n'\n",
    "                   '3) Exit\\n')\n",
    "    return_quit_c = ('\\n'\n",
    "                   '1) Return to main menu\\n'\n",
    "                   '2) Return to customer menu\\n'\n",
    "                   '3) Exit\\n')\n",
    "    return_quit_v = ('\\n'\n",
    "                   '1) Return to main menu\\n'\n",
    "                   '2) Return to visualization menu\\n'\n",
    "                   '3) Exit\\n')\n",
    "\n",
    "\n",
    "\n",
    "    # Function to populate the customer, branch and creditcard tables only if it does not exist\n",
    "    # in the creditcard_capstone database.\n",
    "    \n",
    "    populate_tables_only_if_not_exist(USER,PWD)\n",
    "\n",
    "\n",
    "    # Function to populate the loan application table only if the table does not exist in the \n",
    "    # creditcard_capstone database.\n",
    "    populate_loan_table_only_if_not_exists(USER,PWD)\n",
    "\n",
    "\n",
    "    # Fetching all the creditcard transaction, customer and branch data from the creditcard_capstone database.\n",
    "    df_transactions, df_customers, df_branches = get_creditcard_info(USER, PWD)\n",
    "\n",
    "\n",
    "    # Creating a temporary view for the creditcard transaction data.\n",
    "    df_transactions.createOrReplaceTempView(\"creditview\")\n",
    "\n",
    "    # Creating a temporary view for the customer data.\n",
    "    df_customers.createOrReplaceTempView(\"customerview\")\n",
    "\n",
    "    # Creating a temporary view for the branch data.\n",
    "    df_branches.createOrReplaceTempView(\"branchview\")\n",
    "\n",
    "\n",
    "    # Function to get all the transaction data into pandas dataframe for visualization.\n",
    "\n",
    "    df_tran, df_cus, df_br, df_customer_cc, df_branch_cc, customer_columns, tran_type, branch_states, states, ssnno, cardnumbers, fstname, lstname = \\\n",
    "    get_data_for_transactions(USER, PWD)\n",
    "\n",
    "\n",
    "    # Function to fetch all the loan application data from the creditcard_capstone database.\n",
    "    df_loan_data = get_loan_info(USER, PWD)\n",
    "\n",
    "\n",
    "    run_main_menu = True\n",
    "\n",
    "    while run_main_menu:\n",
    "        run_t_menu = True\n",
    "        run_c_menu = True\n",
    "        run_v_menu = True\n",
    "        print(main_menu)\n",
    "        option = input('Please enter an option: ')\n",
    "        option = option.strip()\n",
    "\n",
    "        # Transaction menu\n",
    "        if option == '1':\n",
    "            print(transaction_menu)\n",
    "            while run_t_menu:\n",
    "                    option = input('Please enter an option: ')\n",
    "                    option = option.strip()\n",
    "\n",
    "                    # Transaction details menu 1\n",
    "                    if option == '1':\n",
    "\n",
    "                        # Function to display the transactions made by customers living in a\n",
    "                        # given zip code for a given month and year. Order by day in\n",
    "                        # descending order.\n",
    "\n",
    "                        transaction_customer_for_zip_month_year()\n",
    "\n",
    "                          \n",
    "                        while True:\n",
    "                            print(return_quit_t)\n",
    "                            option = input('Please enetr an option: ')\n",
    "                            option = option.strip()\n",
    "                            if option == '1':\n",
    "                                run_t_menu = False\n",
    "                                break\n",
    "                            elif option == '2':\n",
    "                                print(transaction_menu)\n",
    "                                break\n",
    "                            elif option == '3':\n",
    "                                run_t_menu = False\n",
    "                                run_main_menu = False\n",
    "                                break\n",
    "                            else:\n",
    "                                print('\\nOption {} is invalid. Try again.'.format(option))\n",
    "\n",
    "\n",
    "                    # Transaction details menu 2\n",
    "                    elif option == '2':\n",
    "\n",
    "                    \n",
    "                        # Function to display the number and total values of transactions for a given transaction type.\n",
    "                        number_and_total_values_of_transactions(tran_type)\n",
    "\n",
    "        \n",
    "                        while True:\n",
    "                            print(return_quit_t)\n",
    "                            option = input('Please enter an option: ')\n",
    "                            option = option.strip()\n",
    "                            if option == '1':\n",
    "                                run_t_menu = False\n",
    "                                break\n",
    "                            elif option == '2':\n",
    "                                print(transaction_menu)\n",
    "                                break\n",
    "                            elif option == '3':\n",
    "                                run_t_menu = False\n",
    "                                run_main_menu = False\n",
    "                                break\n",
    "                            else:\n",
    "                                print('\\nOption {} is invalid. Try again.'.format(option))\n",
    "\n",
    "                 \n",
    "                    # Transaction details menu 3\n",
    "                    elif option == '3':\n",
    "\n",
    "                            # Function to display the number and total values of transactions for branches in a given state.\n",
    "                            number_and_total_transaction_values_for_branches(branch_states)\n",
    "\n",
    "\n",
    "                            while True:\n",
    "                                print(return_quit_t)\n",
    "                                option = input('Please enter an option: ')\n",
    "                                option = option.strip()\n",
    "                                if option == '1':\n",
    "                                    run_t_menu = False\n",
    "                                    break\n",
    "                                elif option == '2':\n",
    "                                    print(transaction_menu)\n",
    "                                    break\n",
    "                                elif option == '3':\n",
    "                                    run_t_menu = False\n",
    "                                    run_main_menu = False\n",
    "                                    break\n",
    "                                else:\n",
    "                                    print('\\nOption {} is invalid. Try again.'.format(option))\n",
    "\n",
    "\n",
    "                    # Exit Transaction menu    \n",
    "                    elif option == '4':\n",
    "                        break\n",
    "\n",
    "                    elif option == '5':\n",
    "                        run_main_menu = False\n",
    "                        break\n",
    "\n",
    "\n",
    "                    else:\n",
    "                        print('\\nOption {} is invalid. Try again.'.format(option))\n",
    "                        print(transaction_menu)\n",
    "\n",
    "\n",
    "\n",
    "    # Customer menu\n",
    "        elif option == '2':\n",
    "            print(customer_menu)\n",
    "            while run_c_menu:\n",
    "                option = input('Please enter an option: ')\n",
    "                option = option.strip()\n",
    "\n",
    "                # Customer menu 1\n",
    "                if option == '1':\n",
    "\n",
    "                    # Function to check the existing account details of a customer.\n",
    "                    check_customer_account_details(cardnumbers, ssnno, fstname, lstname)\n",
    "\n",
    "                    while True:\n",
    "                        print(return_quit_c)\n",
    "                        option = input('Please enter an option: ')\n",
    "                        option = option.strip()\n",
    "                        if option == '1':\n",
    "                            run_c_menu = False\n",
    "                            break\n",
    "                        elif option == '2':\n",
    "                            print(customer_menu)\n",
    "                            break\n",
    "                        elif option == '3':\n",
    "                            run_c_menu = False\n",
    "                            run_main_menu = False\n",
    "                            break\n",
    "                        else:\n",
    "                            print('\\nOption {} is invalid. Try again.'.format(option))\n",
    "\n",
    "            \n",
    "                # Customer menu 2\n",
    "                elif option == '2':\n",
    "\n",
    "                    # Function to modify the existing account details of a customer.\n",
    "                    modify_existing_account_details_of_a_customer(customer_columns, ssnno, states, USER, PWD) \n",
    "                    \n",
    "                    # Function to get the records from customer database table in the \n",
    "                    # creditcard_capstone database.\n",
    "                    df_customers= get_records_from_database_table(USER, PWD, \"creditcard_capstone.cdw_sapp_customer\")\n",
    "                    \n",
    "                    # Creating a temporary view for the customer data.\n",
    "                    df_customers.createOrReplaceTempView(\"customerview\")\n",
    "\n",
    "                    # Customer data.\n",
    "                    df_cust = df_customers.toPandas()\n",
    "\n",
    "                    # Getting the credit card transactions for customers.\n",
    "                    df_customer_cc_info = pd.merge(df_cust, df_tran, how='inner', left_on='CREDIT_CARD_NO', right_on='CUST_CC_NO')\n",
    "\n",
    "             \n",
    "                    while True:\n",
    "                        print(return_quit_c)\n",
    "                        option = input('Please enter an option: ')\n",
    "                        option = option.strip()\n",
    "                        if option == '1':\n",
    "                            run_c_menu = False\n",
    "                            break\n",
    "                        elif option == '2':\n",
    "                            print(customer_menu)\n",
    "                            break\n",
    "                        elif option == '3':\n",
    "                            run_c_menu = False\n",
    "                            run_main_menu = False\n",
    "                            break\n",
    "                        else:\n",
    "                            print('\\nOption {} is invalid. Try again.'.format(option))\n",
    "\n",
    "\n",
    "                # Customer menu 3\n",
    "                elif option == '3':\n",
    "\n",
    "                    # Function to generate a monthly bill for a credit card number for a given month and year. \n",
    "                    credit_card_monthly_bill_for_a_month_and_year(cardnumbers)\n",
    "\n",
    "                \n",
    "                    while True:\n",
    "                        print(return_quit_c)\n",
    "                        option = input('Please enter an option: ')\n",
    "                        option = option.strip()\n",
    "                        if option == '1':\n",
    "                            run_c_menu = False\n",
    "                            break\n",
    "                        elif option == '2':\n",
    "                            print(customer_menu)\n",
    "                            break\n",
    "                        elif option == '3':\n",
    "                            run_c_menu = False\n",
    "                            run_main_menu = False\n",
    "                            break\n",
    "                        else:\n",
    "                            print('\\nOption {} is invalid. Try again.'.fornat(option))\n",
    "\n",
    "                # Customer menu 4\n",
    "                elif option == '4':\n",
    "                    \n",
    "                    # Display the transactions made by a customer between\n",
    "                    # two dates. Order by year, month, and day in descending order.\n",
    "                    transactions_by_a_customer_between_dates(ssnno)\n",
    "\n",
    "\n",
    "                    while True:\n",
    "                        print(return_quit_c)\n",
    "                        option = input('Please enter an option: ')\n",
    "                        option = option.strip()\n",
    "                        if option == '1':\n",
    "                            run_c_menu = False\n",
    "                            break\n",
    "                        elif option == '2':\n",
    "                            print(customer_menu)\n",
    "                            break\n",
    "                        elif option == '3':\n",
    "                            run_c_menu = False\n",
    "                            run_main_menu = False\n",
    "                            break\n",
    "                        else:\n",
    "                            print('\\nOption {} is invalid. Try again.'.format(option))\n",
    "                \n",
    "                # Previous Menu\n",
    "                elif option == '5':\n",
    "                    break\n",
    "                \n",
    "                # Main Menu\n",
    "                elif option == '6':\n",
    "                    run_main_menu = False\n",
    "                    break\n",
    "\n",
    "                else:\n",
    "                    print('\\nOption {} is invalid. Try again.'.format(option))\n",
    "                    print(customer_menu)\n",
    "\n",
    "\n",
    "        # Visualization Menu     \n",
    "        elif option == '3':\n",
    "            print(visualization_menu)\n",
    "            while run_v_menu:\n",
    "                option = input('Please enter an option: ')\n",
    "                option = option.strip()\n",
    "\n",
    "                # Visulaization menu 1\n",
    "                if option == '1':\n",
    "\n",
    "                    # Function to plot the transaction type that has high rate of transactions.\n",
    "                    high_rate_of_tran_by_tran_type(df_tran)\n",
    "                \n",
    "         \n",
    "                    while True:\n",
    "                        print(return_quit_v)\n",
    "                        option = input('Please enter an option: ')\n",
    "                        option = option.strip()\n",
    "                        if option == '1':\n",
    "                            run_v_menu = False\n",
    "                            break\n",
    "                        elif option == '2':\n",
    "                            print(visualization_menu)\n",
    "                            break\n",
    "                        elif option == '3':\n",
    "                            run_v_menu = False\n",
    "                            run_main_menu = False\n",
    "                            break\n",
    "                        else:\n",
    "                            print('\\nOption {} is invalid. Try again.'.format(option))\n",
    "\n",
    "\n",
    "                # Visualization menu 2\n",
    "                elif option == '2':\n",
    "\n",
    "                    # Function to find and plot which state has a high number of customers.\n",
    "                    state_with_high_no_of_customers(df_cus)\n",
    "\n",
    "   \n",
    "                    while True:\n",
    "                        print(return_quit_v)\n",
    "                        option = input('Please enter an option: ')\n",
    "                        option = option.strip()\n",
    "                        if option == '1':\n",
    "                            run_v_menu = False\n",
    "                            break\n",
    "                        elif option == '2':\n",
    "                            print(visualization_menu)\n",
    "                            break\n",
    "                        elif option == '3':\n",
    "                            run_v_menu = False\n",
    "                            run_main_menu = False\n",
    "                            break\n",
    "                        else:\n",
    "                            print('\\nOption {} is invalid. Try again.'.format(option))\n",
    "\n",
    "                \n",
    "                # Visualization menu 3\n",
    "                elif option == '3':\n",
    "\n",
    "                    # Function to plot the sum of all transactions for the top 10 customers,\n",
    "                    # and which customer has the highest transaction amount.\n",
    "                    highest_and_sum_of_transactions_for_top10(df_customer_cc)\n",
    "\n",
    "           \n",
    "                    while True:\n",
    "                        print(return_quit_v)\n",
    "                        option = input('Please enter an option: ')\n",
    "                        option = option.strip()\n",
    "                        if option == '1':\n",
    "                            run_v_menu = False\n",
    "                            break\n",
    "                        elif option == '2':\n",
    "                            print(visualization_menu)\n",
    "                            break\n",
    "                        elif option == '3':\n",
    "                            run_v_menu = False\n",
    "                            run_main_menu = False\n",
    "                            break\n",
    "                        else:\n",
    "                            print('\\nOption {} is invalid. Try again.'.format(option))\n",
    "\n",
    "\n",
    "                # Visualization menu 4\n",
    "                elif option == '4':\n",
    "\n",
    "                    # Function to plot the percentage of applications approved for self-employed\n",
    "                    # applicants.\n",
    "                    approved_applications_for_self_employed(df_loan_data)\n",
    "\n",
    "    \n",
    "                    while True:\n",
    "                        print(return_quit_v)\n",
    "                        option = input('Please enter an option: ')\n",
    "                        option = option.strip()\n",
    "                        if option == '1':\n",
    "                            run_v_menu = False\n",
    "                            break\n",
    "                        elif option == '2':\n",
    "                            print(visualization_menu)\n",
    "                            break\n",
    "                        elif option == '3':\n",
    "                            run_v_menu = False\n",
    "                            run_main_menu = False\n",
    "                            break\n",
    "                        else:\n",
    "                            print('\\nOption {} is invalid. Try again.'.format(option))\n",
    "\n",
    "\n",
    "                # Visualization menu 5\n",
    "                elif option == '5':\n",
    "\n",
    "                    # Function to find and plot the percentage of rejection for married male applicants.\n",
    "                    percentage_of_rejection_for_married_male(df_loan_data)\n",
    "\n",
    "          \n",
    "                    while True:\n",
    "                        print(return_quit_v)\n",
    "                        option = input('Please enter an option: ')\n",
    "                        option = option.strip()\n",
    "                        if option == '1':\n",
    "                            run_v_menu = False\n",
    "                            break\n",
    "                        elif option == '2':\n",
    "                            print(visualization_menu)\n",
    "                            break\n",
    "                        elif option == '3':\n",
    "                            run_v_menu = False\n",
    "                            run_main_menu = False\n",
    "                            break\n",
    "                        else:\n",
    "                            print('\\nOption {} is invalid. Try again.'.format(option))\n",
    "\n",
    "\n",
    "                # Visualization menu 6\n",
    "                elif option == '6':\n",
    "\n",
    "                    # Function to plot the top three months with the largest transaction data.\n",
    "                    top3_months_largest_transaction_data(df_tran)\n",
    "                \n",
    "         \n",
    "                    while True:\n",
    "                        print(return_quit_v)\n",
    "                        option = input('Please enter an option: ')\n",
    "                        option = option.strip()\n",
    "                        if option == '1':\n",
    "                            run_v_menu = False\n",
    "                            break\n",
    "                        elif option == '2':\n",
    "                            print(visualization_menu)\n",
    "                            break\n",
    "                        elif option == '3':\n",
    "                            run_v_menu = False\n",
    "                            run_main_menu = False\n",
    "                            break\n",
    "                        else:\n",
    "                            print('\\nOption is invalid. Try again.'.format(option))\n",
    "\n",
    "\n",
    "                # Visulaization menu 7\n",
    "                elif option == '7':\n",
    "\n",
    "                    # Plot the branch that processed the highest total dollar value of\n",
    "                    # healthcare transactions.\n",
    "                    branch_with_highest_total_dollar_value(df_tran)\n",
    "\n",
    "      \n",
    "                    while True:\n",
    "                        print(return_quit_v)\n",
    "                        option = input('Please enter an option: ')\n",
    "                        option = option.strip()\n",
    "                        if option == '1':\n",
    "                            run_v_menu = False\n",
    "                            break\n",
    "                        elif option == '2':\n",
    "                            print(visualization_menu)\n",
    "                            break\n",
    "                        elif option == '3':\n",
    "                            run_v_menu = False\n",
    "                            run_main_menu = False\n",
    "                            break\n",
    "                        else:\n",
    "                            print('\\nOption {} is invalid. Try again.'.format(option))\n",
    "\n",
    "               \n",
    "                # Previous menu\n",
    "                elif option == '8':\n",
    "                    break\n",
    "                \n",
    "                # Main menu\n",
    "                elif option == '9':\n",
    "\n",
    "                    run_main_menu = False\n",
    "                    break\n",
    "\n",
    "                else:\n",
    "                    print('\\nOption {} is invalid. Try again.'.format(option))\n",
    "                    print(visualization_menu)\n",
    "\n",
    "    \n",
    "        # Exit menu\n",
    "        elif option == '4':\n",
    "            break\n",
    "    \n",
    "        else:\n",
    "            print('\\nOption {} is invalid. Try again.'.format(option))\n",
    "\n",
    "    \n",
    "    # Stop the spark session.\n",
    "    spark.stop()\n"
   ]
  },
  {
   "attachments": {},
   "cell_type": "markdown",
   "metadata": {},
   "source": [
    "### Function call to get the input."
   ]
  },
  {
   "cell_type": "code",
   "execution_count": 617,
   "metadata": {},
   "outputs": [],
   "source": [
    "get_input()"
   ]
  },
  {
   "attachments": {},
   "cell_type": "markdown",
   "metadata": {},
   "source": [
    "### Stopping the Spark Session."
   ]
  },
  {
   "cell_type": "code",
   "execution_count": 618,
   "metadata": {},
   "outputs": [],
   "source": [
    "spark.stop()"
   ]
  }
 ],
 "metadata": {
  "kernelspec": {
   "display_name": "venv",
   "language": "python",
   "name": "python3"
  },
  "language_info": {
   "codemirror_mode": {
    "name": "ipython",
    "version": 3
   },
   "file_extension": ".py",
   "mimetype": "text/x-python",
   "name": "python",
   "nbconvert_exporter": "python",
   "pygments_lexer": "ipython3",
   "version": "3.10.9"
  },
  "orig_nbformat": 4,
  "vscode": {
   "interpreter": {
    "hash": "9be4e635f4f89c38b0dd5fc2d521c0f52f84d7d86cda76cd9453fa37c1f1e65e"
   }
  }
 },
 "nbformat": 4,
 "nbformat_minor": 2
}
