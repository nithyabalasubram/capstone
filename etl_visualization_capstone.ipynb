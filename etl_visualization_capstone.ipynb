{
 "cells": [
  {
   "attachments": {},
   "cell_type": "markdown",
   "metadata": {},
   "source": [
    "## Credit Card Dataset\n",
    "\n",
    "### Below are three files that contain the customer’s transaction information and inventories in the credit card information.\n",
    "\n",
    "a) CDW_SAPP_CUSTOMER.JSON: This file has the existing customer details.\n",
    "\n",
    "b) CDW_SAPP_CREDITCARD.JSON: This file contains all credit card transaction information.\n",
    "\n",
    "c) CDW_SAPP_BRANCH.JSON: Each branch’s information and details are recorded in this file.\n"
   ]
  },
  {
   "cell_type": "code",
   "execution_count": 3,
   "metadata": {},
   "outputs": [],
   "source": [
    "import findspark\n",
    "findspark.init()\n",
    "from pyspark.sql import SparkSession\n",
    "from dotenv import load_dotenv\n",
    "from pyspark.sql.functions import*\n",
    "from pyspark.sql.types import StringType, IntegerType, BooleanType, DoubleType\n",
    "import pandas as pd\n",
    "import mysql.connector as mariadb\n",
    "from mysql.connector import Error\n",
    "import os\n",
    "import re\n",
    "import matplotlib.pyplot as plt\n",
    "import random"
   ]
  },
  {
   "attachments": {},
   "cell_type": "markdown",
   "metadata": {},
   "source": [
    "## Loading the environment variables"
   ]
  },
  {
   "cell_type": "code",
   "execution_count": 4,
   "metadata": {},
   "outputs": [],
   "source": [
    "# Loading the .env file\n",
    "# Loading as environment variable\n",
    "load_dotenv()\n",
    "user = os.environ.get(\"user\")\n",
    "pwd = os.environ.get(\"pwd\")"
   ]
  },
  {
   "attachments": {},
   "cell_type": "markdown",
   "metadata": {},
   "source": [
    "## Creating the Spark Session"
   ]
  },
  {
   "cell_type": "code",
   "execution_count": 5,
   "metadata": {},
   "outputs": [],
   "source": [
    "# Creating Spark Session\n",
    "spark = SparkSession.builder.appName('Capstone').getOrCreate()"
   ]
  },
  {
   "attachments": {},
   "cell_type": "markdown",
   "metadata": {},
   "source": [
    "### Fetching the customer, branch and the creditcard data from the creditcard_capstone database"
   ]
  },
  {
   "cell_type": "code",
   "execution_count": 6,
   "metadata": {},
   "outputs": [],
   "source": [
    "# Function to fetch all the creditcard, customer and branch data from the creditcard_capstone database\n",
    "def get_creditcard_info(user, pwd):\n",
    "    \n",
    "# Getting the creditcard transaction data     \n",
    "    df_transactions=spark.read.format(\"jdbc\")    \\\n",
    "             .options(driver=\"com.mysql.cj.jdbc.Driver\",\\\n",
    "                      user=user,\\\n",
    "                      password=pwd,\\\n",
    "                      url=\"jdbc:mysql://localhost:3306/creditcard_capstone\",\\\n",
    "                      dbtable = \"creditcard_capstone.cdw_sapp_credit_card\").load()\n",
    "    \n",
    "# Getting the customer data\n",
    "    df_customers=spark.read.format(\"jdbc\")    \\\n",
    "             .options(driver=\"com.mysql.cj.jdbc.Driver\",\\\n",
    "                      user=user,\\\n",
    "                      password=pwd,\\\n",
    "                      url=\"jdbc:mysql://localhost:3306/creditcard_capstone\",\\\n",
    "                      dbtable = \"creditcard_capstone.cdw_sapp_customer\").load()\n",
    "    \n",
    "# Getting the branch data    \n",
    "    df_branches=spark.read.format(\"jdbc\")    \\\n",
    "             .options(driver=\"com.mysql.cj.jdbc.Driver\",\\\n",
    "                      user=user,\\\n",
    "                      password=pwd,\\\n",
    "                      url=\"jdbc:mysql://localhost:3306/creditcard_capstone\",\\\n",
    "                      dbtable = \"creditcard_capstone.cdw_sapp_branch\").load()\n",
    "    \n",
    "# Returning the creditcard transaction, customer and branch data fetched from the creditcard_capstone database\n",
    "    return df_transactions, df_customers, df_branches"
   ]
  },
  {
   "attachments": {},
   "cell_type": "markdown",
   "metadata": {},
   "source": [
    "## Extracting data from the files"
   ]
  },
  {
   "cell_type": "code",
   "execution_count": 5,
   "metadata": {},
   "outputs": [],
   "source": [
    "# Function to extract the customer, branch and the creditcard data from the files\n",
    "def extract():\n",
    "    # Reading the customer json file into the spark dataframe\n",
    "    df_customer = spark.read.json(\"json_files/cdw_sapp_custmer.json\")\n",
    "\n",
    "    # Reading the branch json file into the spark dataframe\n",
    "    df_branch = spark.read.json('json_files/cdw_sapp_branch.json')\n",
    "\n",
    "    # Reading the credit card json file into the pandas dataframe\n",
    "    df_creditcard = pd.read_json(\"json_files/cdw_sapp_credit.json\", lines=True)\n",
    "\n",
    "    # Returning the customer, branch and the creditcard data after reading from thr input file\n",
    "    return df_customer, df_branch, df_creditcard\n"
   ]
  },
  {
   "attachments": {},
   "cell_type": "markdown",
   "metadata": {},
   "source": [
    "## Transforming the data as per the mapping logic"
   ]
  },
  {
   "cell_type": "code",
   "execution_count": 22,
   "metadata": {},
   "outputs": [],
   "source": [
    "# Function to transform the customer, branch and the creditcard data as per the mapping logic\n",
    "def transform(df_customer, df_branch, df_creditcard):\n",
    "# Customer data\n",
    "\n",
    "    df_customer = df_customer.select(col(\"SSN\").cast(\"int\"), initcap(col(\"FIRST_NAME\")).alias(\"FIRST_NAME\"), lower(col(\"MIDDLE_NAME\")).alias(\"MIDDLE_NAME\"), \\\n",
    "                            initcap(col(\"LAST_NAME\")).alias(\"LAST_NAME\"), col(\"CREDIT_CARD_NO\"), \\\n",
    "                            concat_ws(',', col(\"APT_NO\"), col(\"STREET_NAME\")).alias(\"FULL_STREET_ADDRESS\"), \\\n",
    "                            col(\"CUST_CITY\"), col(\"CUST_STATE\"), col(\"CUST_COUNTRY\"), col(\"CUST_ZIP\").cast(\"int\"), \\\n",
    "                            regexp_replace(col(\"CUST_PHONE\"), r'^(\\d{3})(\\d{4})$', '(214)$1-$2').alias('CUST_PHONE'), \\\n",
    "                            col(\"CUST_EMAIL\"), col(\"LAST_UPDATED\").cast(\"timestamp\"))\n",
    "\n",
    "# Branch data\n",
    "\n",
    "# Creating the temporary view for the branch data\n",
    "    df_branch.createOrReplaceTempView(\"branchtable\")\n",
    "\n",
    "# Getting all the records from the branchtable created above and applying the mapping logic\n",
    "    df_branch = spark.sql(\"SELECT CAST(BRANCH_CODE AS INT), BRANCH_NAME, BRANCH_STREET, BRANCH_CITY, \\\n",
    "                          BRANCH_STATE, CAST(IF(BRANCH_ZIP IS NULL, '99999', BRANCH_ZIP) AS INT) AS BRANCH_ZIP, \\\n",
    "                          CONCAT('(', SUBSTR(BRANCH_PHONE, 1, 3), ')', SUBSTR(BRANCH_PHONE, 4,3), '-', SUBSTR(BRANCH_PHONE, 7, 4)) AS BRANCH_PHONE, \\\n",
    "                          CAST(LAST_UPDATED AS TIMESTAMP) FROM BRANCHTABLE\")\n",
    "\n",
    "\n",
    "# Creditcard data\n",
    "\n",
    "# Converting the data types and renaming the columns as per the mapping logic\n",
    "    df_creditcard = df_creditcard.astype({\"DAY\":'str',\"MONTH\":'str',\"YEAR\":'str', \"CREDIT_CARD_NO\":'str'})\n",
    "    df_creditcard.rename(columns={\"CREDIT_CARD_NO\" : \"CUST_CC_NO\"}, inplace=True)\n",
    "    df_creditcard['DAY'] = df_creditcard['DAY'].str.zfill(2)\n",
    "    df_creditcard['MONTH'] = df_creditcard['MONTH'].str.zfill(2)    \n",
    "\n",
    "# Combining the day, month and year to form the TIMEID\n",
    "    df_creditcard['TIMEID'] = df_creditcard['YEAR'] + df_creditcard['MONTH'] + df_creditcard['DAY']\n",
    "\n",
    "# Dropping the Day, Month and Year columns from the creditcard data\n",
    "    df_creditcard.drop(columns=['DAY', 'MONTH', 'YEAR'], axis = 1, inplace = True)\n",
    "\n",
    "# Converting the credit card pandas dataframe into spark dataframe\n",
    "    df_creditcard = spark.createDataFrame(df_creditcard)\n",
    "\n",
    "# Converting the columns Branch Code, Cust SSN, Transaction ID to the interger data type\n",
    "    df_creditcard= df_creditcard.withColumn(\"BRANCH_CODE\", df_creditcard[\"BRANCH_CODE\"].cast(\"int\"))\n",
    "    df_creditcard = df_creditcard.withColumn(\"CUST_SSN\", df_creditcard[\"CUST_SSN\"].cast(\"int\"))\n",
    "    df_creditcard = df_creditcard.withColumn(\"TRANSACTION_ID\", df_creditcard[\"TRANSACTION_ID\"].cast(\"int\"))\n",
    "\n",
    "    # Return the transformed customer, branch abd creditcard data\n",
    "    return df_customer, df_branch, df_creditcard"
   ]
  },
  {
   "attachments": {},
   "cell_type": "markdown",
   "metadata": {},
   "source": [
    "## Loading the data into the database"
   ]
  },
  {
   "cell_type": "code",
   "execution_count": 23,
   "metadata": {},
   "outputs": [],
   "source": [
    "# Function to load the customer, branch and the creditcard data to the database creditcard_capstone\n",
    "def load(df_customer_data, df_branch_data, df_creditcard_data):\n",
    "    # Writing the customer data to the customer database table\n",
    "    df_customer_data.write.format(\"jdbc\") \\\n",
    "                    .mode(\"overwrite\") \\\n",
    "                    .option(\"truncate\", \"true\") \\\n",
    "                    .option(\"url\", \"jdbc:mysql://localhost:3306/creditcard_capstone\") \\\n",
    "                    .option(\"createTableColumnTypes\", \"FIRST_NAME VARCHAR(30), MIDDLE_NAME VARCHAR(30), \\\n",
    "                    LAST_NAME VARCHAR(30), CREDIT_CARD_NO VARCHAR(20), FULL_STREET_ADDRESS VARCHAR(50), \\\n",
    "                    CUST_CITY VARCHAR(30), CUST_STATE VARCHAR(5), CUST_COUNTRY VARCHAR(30), \\\n",
    "                    CUST_PHONE VARCHAR(20), CUST_EMAIL VARCHAR(30)\") \\\n",
    "                    .option(\"dbtable\", \"creditcard_capstone.CDW_SAPP_CUSTOMER\") \\\n",
    "                    .option(\"user\", user) \\\n",
    "                    .option(\"password\", pwd) \\\n",
    "                    .save()\n",
    "\n",
    "# Writing the branch data to the branch database table\n",
    "    df_branch_data.write.format(\"jdbc\") \\\n",
    "                    .mode(\"overwrite\") \\\n",
    "                    .option(\"truncate\", \"true\") \\\n",
    "                    .option(\"url\", \"jdbc:mysql://localhost:3306/creditcard_capstone\") \\\n",
    "                    .option(\"createTableColumnTypes\", \"BRANCH_NAME VARCHAR(30), BRANCH_STREET VARCHAR(50), \\\n",
    "                     BRANCH_CITY VARCHAR(30), BRANCH_STATE VARCHAR(5       ), BRANCH_PHONE VARCHAR(20)\") \\\n",
    "                    .option(\"dbtable\", \"creditcard_capstone.CDW_SAPP_BRANCH\") \\\n",
    "                    .option(\"user\", user) \\\n",
    "                    .option(\"password\", pwd) \\\n",
    "                    .save()\n",
    "\n",
    "\n",
    "# Writing the creditcard data to the creditcard database table\n",
    "    df_creditcard_data.write.format(\"jdbc\") \\\n",
    "                    .mode(\"overwrite\") \\\n",
    "                    .option(\"truncate\", \"true\") \\\n",
    "                    .option(\"url\", \"jdbc:mysql://localhost:3306/creditcard_capstone\") \\\n",
    "                    .option(\"createTableColumnTypes\", \"CUST_CC_NO VARCHAR(20), TIMEID VARCHAR(10), \\\n",
    "                    TRANSACTION_TYPE VARCHAR(30)\") \\\n",
    "                    .option(\"dbtable\", \"creditcard_capstone.CDW_SAPP_CREDIT_CARD\") \\\n",
    "                    .option(\"user\", user) \\\n",
    "                    .option(\"password\", pwd) \\\n",
    "                    .save()\n"
   ]
  },
  {
   "attachments": {},
   "cell_type": "markdown",
   "metadata": {},
   "source": [
    "## Displaying Schema"
   ]
  },
  {
   "cell_type": "code",
   "execution_count": 24,
   "metadata": {},
   "outputs": [],
   "source": [
    "# Function to print the schema in a tree structure for the dataframe data provided\n",
    "def print_schema(df):\n",
    "    df.printSchema()\n",
    "    return \"\"\n",
    "   "
   ]
  },
  {
   "attachments": {},
   "cell_type": "markdown",
   "metadata": {},
   "source": [
    "## Displaying data types"
   ]
  },
  {
   "cell_type": "code",
   "execution_count": 25,
   "metadata": {},
   "outputs": [],
   "source": [
    "# Function to print the data types of the columns in the dataframe for the given data\n",
    "def print_data_types(df):\n",
    "    print(df.dtypes)\n",
    "    return \"\"\n",
    "      "
   ]
  },
  {
   "attachments": {},
   "cell_type": "markdown",
   "metadata": {},
   "source": [
    "## Displaying the customer, branch and creditcard data"
   ]
  },
  {
   "cell_type": "code",
   "execution_count": 26,
   "metadata": {},
   "outputs": [],
   "source": [
    "# Function to display the records with all the information \n",
    "def display_data(df_type):\n",
    "    df_type.show(5)\n",
    "    return \"\"\n"
   ]
  },
  {
   "attachments": {},
   "cell_type": "markdown",
   "metadata": {},
   "source": [
    "## Extract, Transform and Load (ETL)"
   ]
  },
  {
   "cell_type": "code",
   "execution_count": 27,
   "metadata": {},
   "outputs": [],
   "source": [
    "def extract_transform_load():    \n",
    "\n",
    "# Extract, transform and load data to the creditcard_capstone database\n",
    "\n",
    "    # Extract\n",
    "    print(\"Extraction started\")\n",
    "\n",
    "    # Extract the customer, branch and creditcard transaction data\n",
    "    df_customer, df_branch, df_creditcard = extract()\n",
    "\n",
    "    print(\"\\nExtraction completed\")\n",
    "\n",
    "    # Transform\n",
    "    print(\"\\nTransform started\")\n",
    "\n",
    "    # Transform the customer, branch and the creditcard transaction data\n",
    "    df_customer_data, df_branch_data, df_creditcard_data = transform(df_customer, df_branch, df_creditcard)\n",
    "\n",
    "    print(\"\\nTransform completed\")\n",
    "\n",
    "    # Displaying the schemas after transformation\n",
    "    print(\"\\nDisplaying the schema after transformation\")\n",
    "    print(\"\\nCustomer schema after transformation:\")\n",
    "    print_schema(df_customer_data)\n",
    "    print(\"\\nBranch schema after transformation:\")\n",
    "    print(print_schema(df_branch_data))\n",
    "    print(\"\\nCreditcard schema after transformation:\")\n",
    "    print(print_data_types(df_creditcard_data))\n",
    "\n",
    "    # Displaying the customer, branch and creditcard transaction data after transformation\n",
    "    # and before loading it to the creditcard_capstone database\n",
    "    print(\"\\nDisplaying the data before loading to the database\")\n",
    "    \n",
    "    # Displaying customer data\n",
    "    print(\"\\nCustomer data:\")\n",
    "    display_data(df_customer_data)\n",
    "\n",
    "    # Displaying the branch data\n",
    "    print(\"\\nBranch data:\")\n",
    "    display_data(df_branch_data)\n",
    "\n",
    "    # Displaying the creditcard data\n",
    "    print(\"\\nCreditcard data:\")\n",
    "    display_data(df_creditcard_data)\n",
    "\n",
    "    # Loading\n",
    "    print(\"\\nLoading started\")\n",
    "\n",
    "    # Load the customer, branch and the creditcard transaction data\n",
    "    load(df_customer_data, df_branch_data, df_creditcard_data)\n",
    "    \n",
    "    print(\"\\nLoading completed\")    "
   ]
  },
  {
   "attachments": {},
   "cell_type": "markdown",
   "metadata": {},
   "source": [
    "## Business Requirements - ETL"
   ]
  },
  {
   "attachments": {},
   "cell_type": "markdown",
   "metadata": {},
   "source": [
    "## 1. Functional Requirements - Load Credit Card Database (SQL)"
   ]
  },
  {
   "attachments": {},
   "cell_type": "markdown",
   "metadata": {},
   "source": [
    "### Req-1.1 Data Extraction and Transformation with Python and PySpark"
   ]
  },
  {
   "attachments": {},
   "cell_type": "markdown",
   "metadata": {},
   "source": [
    "Functional Requirement 1.1\n",
    "\n",
    "a) For “Credit Card System,” create a Python and PySpark SQL\n",
    "program to read/extract the following JSON files according \n",
    "to the specifications found in the mapping document.\n",
    "1. CDW_SAPP_BRANCH.JSON\n",
    "2. CDW_SAPP_CREDITCARD.JSON\n",
    "3. CDW_SAPP_CUSTOMER.JSON\n",
    "\n",
    "Note: Data Engineers will be required to transform the data based on the\n",
    "requirements found in the Mapping Document.\n",
    "\n",
    "Hint: [You can use PYSQL “select statement query” or simple Pyspark\n",
    "RDD]."
   ]
  },
  {
   "attachments": {},
   "cell_type": "markdown",
   "metadata": {},
   "source": [
    "### Req-1.2 Data loading into Database"
   ]
  },
  {
   "attachments": {},
   "cell_type": "markdown",
   "metadata": {},
   "source": [
    "### Function Requirement 1.2\n",
    "\n",
    "Once PySpark reads data from JSON files, and then utilizes Python,\n",
    "PySpark, and Python modules to load data into RDBMS(SQL), perform\n",
    "the following:\n",
    "\n",
    "a) Create a Database in SQL(MariaDB), named\n",
    "“creditcard_capstone.”\n",
    "\n",
    "b) Create a Python and Pyspark Program to load/write the “Credit\n",
    "Card System Data” into RDBMS(creditcard_capstone).\n",
    "\n",
    "Tables should be created by the following names in RDBMS:\n",
    "\n",
    "CDW_SAPP_BRANCH\n",
    "\n",
    "CDW_SAPP_CREDIT_CARD\n",
    "\n",
    "CDW_SAPP_CUSTOMER"
   ]
  },
  {
   "cell_type": "code",
   "execution_count": 28,
   "metadata": {},
   "outputs": [],
   "source": [
    "# Checking if the customer, branch and creditcard table exists in the creditcard_capstone database.\n",
    "# Extract, transform and load the customer, branch and creditcard data only if table does not exists in the database.\n",
    "df_table=spark.read.format(\"jdbc\")    \\\n",
    "             .options(driver=\"com.mysql.cj.jdbc.Driver\",\\\n",
    "                      user=user,\\\n",
    "                      password=pwd,\\\n",
    "                      url=\"jdbc:mysql://localhost:3306/creditcard_capstone\",\\\n",
    "                      dbtable = \"information_schema.tables\").load().filter(\"table_schema = 'creditcard_capstone'\")\n",
    "# Check whether any record is there in the database\n",
    "if df_table.isEmpty():\n",
    "    try:\n",
    "        extract_transform_load()\n",
    "    except Error as e:\n",
    "        print(\"Error Message:\", e)"
   ]
  },
  {
   "attachments": {},
   "cell_type": "markdown",
   "metadata": {},
   "source": [
    "## 2. Functional Requirements - Application Front-End"
   ]
  },
  {
   "attachments": {},
   "cell_type": "markdown",
   "metadata": {},
   "source": [
    "Once data is loaded into the database, we need a front-end (console) to see/display data. For\n",
    "that, create a console-based Python program to satisfy System Requirements 2 (2.1 and 2.2)."
   ]
  },
  {
   "attachments": {},
   "cell_type": "markdown",
   "metadata": {},
   "source": [
    "## 2.1 Transaction Details Module"
   ]
  },
  {
   "attachments": {},
   "cell_type": "markdown",
   "metadata": {},
   "source": [
    "### Req-2.1 Transaction Details Module"
   ]
  },
  {
   "attachments": {},
   "cell_type": "markdown",
   "metadata": {},
   "source": [
    "### Functional Requirements 2.1 \n"
   ]
  },
  {
   "attachments": {},
   "cell_type": "markdown",
   "metadata": {},
   "source": [
    "#### 1) Used to display the transactions made by customers living in a given zip code for a given month and year. \n",
    "#### Order by day in descending order."
   ]
  },
  {
   "cell_type": "code",
   "execution_count": 7,
   "metadata": {},
   "outputs": [],
   "source": [
    "# Fetching all the creditcard transaction, customer and branch data from the creditcard_capstone database.\n",
    "df_transactions, df_customers, df_branches = get_creditcard_info(user, pwd)\n",
    "\n",
    "# Creating a temporary view for the creditcard transaction data.\n",
    "df_transactions.createOrReplaceTempView(\"creditview\")\n",
    "\n",
    "# Creating a temporary view for the customer data.\n",
    "df_customers.createOrReplaceTempView(\"customerview\")\n",
    "\n",
    "# Creating a temporary view for the branch data.\n",
    "df_branches.createOrReplaceTempView(\"branchview\")"
   ]
  },
  {
   "cell_type": "code",
   "execution_count": 9,
   "metadata": {},
   "outputs": [
    {
     "name": "stderr",
     "output_type": "stream",
     "text": [
      "C:\\spark\\python\\pyspark\\sql\\pandas\\conversion.py:248: FutureWarning: Passing unit-less datetime64 dtype to .astype is deprecated and will raise in a future version. Pass 'datetime64[ns]' instead\n",
      "  series = series.astype(t, copy=False)\n",
      "C:\\spark\\python\\pyspark\\sql\\pandas\\conversion.py:248: FutureWarning: Passing unit-less datetime64 dtype to .astype is deprecated and will raise in a future version. Pass 'datetime64[ns]' instead\n",
      "  series = series.astype(t, copy=False)\n"
     ]
    }
   ],
   "source": [
    "# Function to get the transaction data into pandas dataframe.\n",
    "#def get_transaction_data_into_pandas_dataframe():\n",
    "#get_creditcard_info(user, pwd)    \n",
    "    # Transaction data\n",
    "df_tran = df_transactions.toPandas()\n",
    "    \n",
    "    # Customer data\n",
    "df_cus = df_customers.toPandas()\n",
    "    \n",
    "    # Branch data\n",
    "df_br = df_branches.toPandas()\n",
    "\n",
    "# Getting the credit card transactions for customers\n",
    "df_customer_cc = pd.merge(df_cus, df_tran, how='inner', left_on='CREDIT_CARD_NO', right_on='CUST_CC_NO')\n",
    "\n",
    "# Getting the transctions for branches\n",
    "df_branch_cc = pd.merge(df_br, df_tran,  how='inner', on='BRANCH_CODE')\n",
    "\n",
    "# Getting the list of columns to be displayed for modification\n",
    "customer_columns = df_cus.columns.tolist()\n",
    "customer_columns.remove('LAST_UPDATED')\n",
    "customer_columns.remove('SSN')\n",
    "customer_columns.remove('CREDIT_CARD_NO')\n",
    "customer_columns.remove('CUST_COUNTRY')\n",
    "customer_columns.remove('FIRST_NAME')\n",
    "customer_columns.remove('LAST_NAME')\n",
    "customer_columns.remove('MIDDLE_NAME')\n"
   ]
  },
  {
   "attachments": {},
   "cell_type": "markdown",
   "metadata": {},
   "source": [
    "### Function to validate month."
   ]
  },
  {
   "cell_type": "code",
   "execution_count": 61,
   "metadata": {},
   "outputs": [],
   "source": [
    "# Function to validate month\n",
    "def validate_month():\n",
    "\n",
    "    # Validating the month.\n",
    "    while True:\n",
    "\n",
    "        # Getting the month as input.\n",
    "        month = input(\"\\nEnter the month in 2 digits: \")\n",
    "        month = month.strip()\n",
    "\n",
    "        # Checking whether the month contains only numbers.\n",
    "        if month.isdigit() and len(month) == 2 and month != '00':\n",
    "\n",
    "            # Checking whether the month is in the range of 0 to 12.\n",
    "            if int(month.lstrip('0')) in range(0,13):\n",
    "                # If the month is only numbers and in the range of 1 and 12 then it is a valid month.\n",
    "                print('\\nValid month')\n",
    "                break\n",
    "            else:\n",
    "                # If the month is not in the range of 1 and 12 then it is an invalid year.\n",
    "                print(\"\\nInvalid month. Try Again.\") \n",
    "        else:\n",
    "            # If the month does not have only numbers then it is an invalid month.\n",
    "            print(\"\\nInvalid entry. Try Again.\")    \n",
    "\n",
    "    return month\n"
   ]
  },
  {
   "attachments": {},
   "cell_type": "markdown",
   "metadata": {},
   "source": [
    "### Function to validate day."
   ]
  },
  {
   "cell_type": "code",
   "execution_count": 158,
   "metadata": {},
   "outputs": [],
   "source": [
    "# Function to validate day\n",
    "def validate_day():\n",
    "    # Validating the endday.\n",
    "    while True:\n",
    "\n",
    "        # Getting the endday as input.\n",
    "        day = input('\\nEnter day in 2 digits: ')\n",
    "        day = day.strip()\n",
    "\n",
    "        # If the day has only numbers and is of length 2 and not equal to zero.\n",
    "        if day.isdigit() and len(day) == 2 and day != '00':\n",
    "            # If the day is between 1 and 31 then it is valid.\n",
    "            if int(day.lstrip('0')) in range(0,32):\n",
    "                print('Valid day\\n')\n",
    "                break\n",
    "            else:\n",
    "                # If the day is not between 1 and 31 then the day is invalid.\n",
    "                print('\\nInvalid day. Try again.')\n",
    "        else:\n",
    "            # If the day does not have only numbers and not of length 2 and is equal to zero then the day is invalid.\n",
    "            print('\\nInvalid entry. Try again.')\n",
    "\n",
    "    return day"
   ]
  },
  {
   "attachments": {},
   "cell_type": "markdown",
   "metadata": {},
   "source": [
    "### Function to validate year."
   ]
  },
  {
   "cell_type": "code",
   "execution_count": 66,
   "metadata": {},
   "outputs": [],
   "source": [
    "# Function to validate year\n",
    "def validate_year():\n",
    "    # Validating the year.\n",
    "    while True:\n",
    "         \n",
    "        # Getting the year as input.\n",
    "        year = input(\"\\nEnter the year in 4 digits: \")\n",
    "        year = year.strip()\n",
    "       \n",
    "        # Checking whether the year contains only numbers and is of length 4.\n",
    "        if year.isdigit() and len(year) == 4:\n",
    "            # If year is a number and has 4 digits then it is a valid year.\n",
    "            print('\\nValid year')\n",
    "            year = int(year)\n",
    "            break   \n",
    "        else:\n",
    "            # If the year does not have only numbers then it is an invalid year.\n",
    "            print(\"\\nInvalid year. Try Again.\")\n",
    "            \n",
    "    return year"
   ]
  },
  {
   "attachments": {},
   "cell_type": "markdown",
   "metadata": {},
   "source": [
    "### Function to validate zipcode."
   ]
  },
  {
   "cell_type": "code",
   "execution_count": 84,
   "metadata": {},
   "outputs": [],
   "source": [
    "# Function to validate zipcode.\n",
    "def validate_zipcode():   \n",
    "\n",
    "     # Validating the zipcode.\n",
    "   while True:\n",
    "\n",
    "        # Getting the zipcode as input.\n",
    "        zipcode = input(\"\\nEnter the ZIP code in 5 digits: \")\n",
    "        zipcode = zipcode.strip()\n",
    "\n",
    "        # Checking if the zipcode has only numbers and is of length 5.\n",
    "        if zipcode.isdigit() and len(zipcode) == 5:\n",
    "           zipcode = int(zipcode)\n",
    "           # If the zipcode has only numbers and is of length 5 then it is a valid zipcode.\n",
    "           print('Valid zipcode')\n",
    "           break\n",
    "        else:\n",
    "           # If the zipcode does not have only numbers then it is a invalid zipcode.\n",
    "           print('\\nInvalid entry. Try again.')\n",
    "\n",
    "   return zipcode"
   ]
  },
  {
   "attachments": {},
   "cell_type": "markdown",
   "metadata": {},
   "source": [
    "### Function to display the transactions made by customers living in a given zip code for a given month and year. \n",
    "### Order by day in descending order."
   ]
  },
  {
   "cell_type": "code",
   "execution_count": 73,
   "metadata": {},
   "outputs": [],
   "source": [
    "# Transaction module\n",
    "\n",
    "# Function to display the transactions made by customers living in a\n",
    "# given zip code for a given month and year. Order by day in\n",
    "# descending order.\n",
    "\n",
    "def transaction_customer_for_zip_month_year():\n",
    "\n",
    "    # Validating the zipcode.\n",
    "    zipcode = validate_zipcode()\n",
    "    \n",
    "    # Validating the month.\n",
    "    month = validate_month()\n",
    "    \n",
    "    # Validating the year.\n",
    "    year = validate_year()\n",
    "\n",
    "    # Fetching the records from the creditview and customerview \n",
    "    # to display the transactions made by customers living in a\n",
    "    # given zip code for a given month and year. Order by day in\n",
    "    # descending order.\n",
    "    df_result = spark.sql(\"SELECT \\\n",
    "    REPLACE(CR.CUST_CC_NO, SUBSTR(CR.CUST_CC_NO, 1, 12), '************') AS CUSTOMER_CREDIT_CARD_NO, \\\n",
    "    CR.TIMEID, CR.BRANCH_CODE, CR.TRANSACTION_TYPE, CR.TRANSACTION_VALUE, CR.TRANSACTION_ID \\\n",
    "    FROM CREDITVIEW AS CR \\\n",
    "    JOIN CUSTOMERVIEW AS CU \\\n",
    "    ON CR.CUST_CC_NO = CU.CREDIT_CARD_NO \\\n",
    "    WHERE CU.CUST_ZIP = {} \\\n",
    "    AND  MONTH(TO_DATE(CR.TIMEID, 'yyyyMMdd')) = '{}' \\\n",
    "    AND  YEAR(TO_DATE(CR.TIMEID, 'yyyyMMdd')) = '{}' \\\n",
    "    ORDER BY DAY(TO_DATE(CR.TIMEID, 'yyyyMMdd')) DESC\".format(zipcode, month, year))\n",
    "\n",
    "\n",
    "# Displaying the customer transaction details.\n",
    "    if df_result.isEmpty():\n",
    "        print('\\nNo data matching criteria.')\n",
    "\n",
    "    df_result.show()\n"
   ]
  },
  {
   "cell_type": "code",
   "execution_count": 69,
   "metadata": {},
   "outputs": [
    {
     "name": "stdout",
     "output_type": "stream",
     "text": [
      "Valid zipcode\n",
      "\n",
      "Valid month\n",
      "\n",
      "Valid year\n",
      "+-----------------------+--------+-----------+----------------+-----------------+--------------+\n",
      "|CUSTOMER_CREDIT_CARD_NO|  TIMEID|BRANCH_CODE|TRANSACTION_TYPE|TRANSACTION_VALUE|TRANSACTION_ID|\n",
      "+-----------------------+--------+-----------+----------------+-----------------+--------------+\n",
      "|       ************7473|20180828|         93|       Education|            43.44|         12654|\n",
      "|       ************7310|20180828|        124|         Grocery|            59.07|          3544|\n",
      "|       ************9197|20180827|         53|       Education|            16.82|         15818|\n",
      "|       ************7473|20180827|         73|            Test|            66.43|         12657|\n",
      "|       ************7310|20180827|        164|         Grocery|            97.12|          3547|\n",
      "|       ************9363|20180825|         42|             Gas|            98.24|         15191|\n",
      "|       ************8802|20180825|        114|   Entertainment|            65.93|         15835|\n",
      "|       ************0577|20180824|        180|       Education|            95.32|          2194|\n",
      "|       ************9363|20180823|         17|             Gas|            23.02|         15222|\n",
      "|       ************1193|20180822|        135|            Test|            36.19|         22991|\n",
      "|       ************7473|20180822|         15|           Bills|            80.94|         12662|\n",
      "|       ************0577|20180822|         24|       Education|            41.43|          2173|\n",
      "|       ************7473|20180821|         17|           Bills|            82.76|         12670|\n",
      "|       ************7473|20180821|        135|         Grocery|           100.54|         12635|\n",
      "|       ************1055|20180820|         54|             Gas|             4.22|         20549|\n",
      "|       ************1055|20180819|        107|       Education|            46.14|         20536|\n",
      "|       ************0577|20180818|        178|             Gas|             4.96|          2172|\n",
      "|       ************8802|20180817|         53|            Test|            19.53|         15824|\n",
      "|       ************9363|20180816|        173|           Bills|            26.22|         15214|\n",
      "|       ************0577|20180815|         74|   Entertainment|            66.79|          2205|\n",
      "+-----------------------+--------+-----------+----------------+-----------------+--------------+\n",
      "only showing top 20 rows\n",
      "\n"
     ]
    }
   ],
   "source": [
    "# Function to display the transactions made by customers living in a\n",
    "# given zip code for a given month and year. Order by day in\n",
    "# descending order.\n",
    "\n",
    "transaction_customer_for_zip_month_year()"
   ]
  },
  {
   "attachments": {},
   "cell_type": "markdown",
   "metadata": {},
   "source": [
    "#### 2) Used to display the number and total values of transactions for a given type.\n"
   ]
  },
  {
   "attachments": {},
   "cell_type": "markdown",
   "metadata": {},
   "source": [
    "### Function to display the number and total values of transactions for a given transaction type."
   ]
  },
  {
   "cell_type": "code",
   "execution_count": 101,
   "metadata": {},
   "outputs": [],
   "source": [
    "# Function to display the number and total values of transactions for a given transaction type.\n",
    "def number_and_total_values_of_transactions():\n",
    "\n",
    "    # Getting the unique transaction types from the creditview.\n",
    "    tran_type = spark.sql(\"SELECT DISTINCT TRANSACTION_TYPE FROM CREDITVIEW\")\n",
    "    # Converting it to Pandas dataframe to have it as a list to validate. \n",
    "    df_tran = tran_type.toPandas()\n",
    "    # Getting the unique values of the transaction type as a list.\n",
    "    tran_type = pd.unique(df_tran['TRANSACTION_TYPE'])\n",
    "\n",
    "\n",
    "    # Validating the Transaction type.\n",
    "    while True:\n",
    "\n",
    "        # Getting the transaction type as input.\n",
    "        transaction_type = input(\"\\nEnter Transaction Type: \")\n",
    "        transaction_type = transaction_type.strip()\n",
    "\n",
    "        # Validating whether the entered transaction type exists in the database.\n",
    "        if transaction_type.title() in tran_type:\n",
    "        # If exists then it is a valid transaction type.\n",
    "            print(\"\\nValid transaction type\\n\")\n",
    "            break\n",
    "        else:\n",
    "        # If the transaction type does not exists in the database then it is not a valid one.\n",
    "            print(\"\\nNo transaction type found. Try Again\")\n",
    "\n",
    "    # Displaying the number and total values of transactions for a given transaction type.\n",
    "    df_result = spark.sql(\"SELECT TRANSACTION_TYPE, COUNT(TRANSACTION_ID) AS NUMBER_OF_TRANSACTIONS, \\\n",
    "    SUM(TRANSACTION_VALUE) AS TRANSACTION_VALUE FROM CREDITVIEW \\\n",
    "    WHERE TRANSACTION_TYPE = '{}' \\\n",
    "    GROUP BY TRANSACTION_TYPE\".format(transaction_type))\n",
    "\n",
    "\n",
    "    # Displaying the transaction details for a given transaction type.\n",
    "    if df_result.isEmpty():\n",
    "        print('\\nNo data matching criteria.')\n",
    "\n",
    "    df_result.show()"
   ]
  },
  {
   "cell_type": "code",
   "execution_count": 102,
   "metadata": {},
   "outputs": [
    {
     "name": "stdout",
     "output_type": "stream",
     "text": [
      "\n",
      "Valid transaction type\n",
      "\n",
      "+----------------+----------------------+-----------------+\n",
      "|TRANSACTION_TYPE|NUMBER_OF_TRANSACTIONS|TRANSACTION_VALUE|\n",
      "+----------------+----------------------+-----------------+\n",
      "|      Healthcare|                  6723|340476.1999999999|\n",
      "+----------------+----------------------+-----------------+\n",
      "\n"
     ]
    }
   ],
   "source": [
    "# Function to display the number and total values of transactions for a given transaction type.\n",
    "number_and_total_values_of_transactions()"
   ]
  },
  {
   "attachments": {},
   "cell_type": "markdown",
   "metadata": {},
   "source": [
    "#### 3) Used to display the number and total values of transactions for branches in a given state."
   ]
  },
  {
   "attachments": {},
   "cell_type": "markdown",
   "metadata": {},
   "source": [
    "### Function to display the number and total values of transactions for branches in a given state."
   ]
  },
  {
   "cell_type": "code",
   "execution_count": 142,
   "metadata": {},
   "outputs": [],
   "source": [
    "# Function to display the number and total values of transactions for branches in a given state.\n",
    "def number_and_total_transaction_values_for_branches():\n",
    "\n",
    "    # Getting the unique states from the branchview.  \n",
    "    br_state = spark.sql(\"SELECT DISTINCT BRANCH_STATE FROM BRANCHVIEW\")\n",
    "    # Converting it to Pandas dataframe to have it as a list to validate.\n",
    "    df_state = br_state.toPandas()\n",
    "    # Getting the unique values of the state as a list.\n",
    "    branch_states = pd.unique(df_state['BRANCH_STATE'])\n",
    "    \n",
    "\n",
    "    # Validating the State\n",
    "    while True:\n",
    "        # Getting the state as input.\n",
    "        state = input('\\nEnter state in 2 letters: ')\n",
    "        # Removing the leading and trailing spaces.\n",
    "        state = state.strip().upper()\n",
    "\n",
    "        # Checking whether the state has only letters and the length is 2.\n",
    "        if state.isalpha() and len(state) == 2:\n",
    "            # Converting the state to upper case.\n",
    "            if state in branch_states:\n",
    "            # If the State exists in the database then it is a valid state.\n",
    "                print('\\nBranch(es) found for given state')\n",
    "                break\n",
    "            else:\n",
    "                # If State does not exist then no branches exist.\n",
    "                print('\\nNo branches found. Try again.')\n",
    "        else:\n",
    "            # If the State entered does not have only letters or not of length 2 then it\n",
    "            # is not a valid State.\n",
    "            print('\\nInvalid entry. Try again.')\n",
    "\n",
    "\n",
    "    # Display the number and total values of transactions for\n",
    "    # branches in a given state.\n",
    "    df_result = spark.sql(\"SELECT B.BRANCH_CODE, COUNT(C.TRANSACTION_ID) AS NUMBER_OF_TRANSACTIONS, \\\n",
    "    SUM(C.TRANSACTION_VALUE) AS TRANSACTION_VALUE \\\n",
    "    FROM BRANCHVIEW AS B \\\n",
    "    JOIN CREDITVIEW AS C ON B.BRANCH_CODE = C.BRANCH_CODE \\\n",
    "    WHERE B.BRANCH_STATE ='{}' \\\n",
    "    GROUP BY B.BRANCH_CODE\".format(state))\n",
    "\n",
    "    print(\"\\nThe number and total values of transactions for branches in the State {}:\".format(state))\n",
    "\n",
    "    # Displaying the transactions for the branches.\n",
    "    if df_result.isEmpty():\n",
    "        print('\\nNo data matching criteria.')\n",
    "        \n",
    "    df_result.show()"
   ]
  },
  {
   "cell_type": "code",
   "execution_count": 143,
   "metadata": {},
   "outputs": [
    {
     "name": "stdout",
     "output_type": "stream",
     "text": [
      "\n",
      "Branch(es) found for given state\n",
      "\n",
      "The number and total values of transactions for branches in the State MN:\n",
      "+-----------+----------------------+------------------+\n",
      "|BRANCH_CODE|NUMBER_OF_TRANSACTIONS| TRANSACTION_VALUE|\n",
      "+-----------+----------------------+------------------+\n",
      "|          1|                   374|18157.570000000007|\n",
      "|         20|                   381|19350.830000000034|\n",
      "|        124|                   372|18644.889999999992|\n",
      "+-----------+----------------------+------------------+\n",
      "\n"
     ]
    }
   ],
   "source": [
    "# Function to display the number and total values of transactions for branches in a given state.\n",
    "number_and_total_transaction_values_for_branches()"
   ]
  },
  {
   "attachments": {},
   "cell_type": "markdown",
   "metadata": {},
   "source": [
    "## 2.2 Customer Details Module"
   ]
  },
  {
   "attachments": {},
   "cell_type": "markdown",
   "metadata": {},
   "source": [
    "### Req-2.2 Customer Details"
   ]
  },
  {
   "attachments": {},
   "cell_type": "markdown",
   "metadata": {},
   "source": [
    "### Functional Requirements 2.2\n",
    "\n"
   ]
  },
  {
   "attachments": {},
   "cell_type": "markdown",
   "metadata": {},
   "source": [
    "#### 1) Used to check the existing account details of a customer.\n"
   ]
  },
  {
   "attachments": {},
   "cell_type": "markdown",
   "metadata": {},
   "source": [
    "## Function to check the existing account details of a customer."
   ]
  },
  {
   "attachments": {},
   "cell_type": "markdown",
   "metadata": {},
   "source": [
    "### Function to validate credit card number."
   ]
  },
  {
   "cell_type": "code",
   "execution_count": 78,
   "metadata": {},
   "outputs": [],
   "source": [
    "def validate_credit_card_no():\n",
    "    # Validating the credit card number.\n",
    "    while True:\n",
    "        cardno = input(\"\\nEnter the 16 digit Credit Card Number: \")\n",
    "        cardno = cardno.strip()\n",
    "\n",
    "        # Checking the creditcard number has only numbers in it and is of length 16.\n",
    "        if cardno.isdigit() and len(cardno) == 16:\n",
    "            # If the creditcard number has only numbers and is of length 16 then it is a valid number.\n",
    "            print(\"Valid Credit Card Number\\n\")\n",
    "            break\n",
    "        else:\n",
    "            # If the credit card does not have only the numbers or not of length 16 then invalid.\n",
    "            print('\\nInvalid entry. Try again.')\n",
    "\n",
    "    return cardno"
   ]
  },
  {
   "attachments": {},
   "cell_type": "markdown",
   "metadata": {},
   "source": [
    "### Function to validate phone number."
   ]
  },
  {
   "cell_type": "code",
   "execution_count": 163,
   "metadata": {},
   "outputs": [],
   "source": [
    "# Function to validate phone number.\n",
    "def validate_phone():\n",
    "    while True: \n",
    "        new_entry = input('\\nEnter new phone number in 10 digits: ')\n",
    "        new_entry = new_entry.strip()\n",
    "        if new_entry.isdigit() and len(new_entry) == 10:\n",
    "            print(\"Valid Phone Number\\n\")\n",
    "            new_entry = '(' + new_entry[:3] + ')' + new_entry[3:6] + '-' + new_entry[6:]\n",
    "            break\n",
    "                         \n",
    "        else:\n",
    "            print('\\nInvalid entry. Try again.')\n",
    "\n",
    "    return new_entry        \n"
   ]
  },
  {
   "attachments": {},
   "cell_type": "markdown",
   "metadata": {},
   "source": [
    "#### 1) Used to check the existing account details of a customer.\n"
   ]
  },
  {
   "cell_type": "code",
   "execution_count": 175,
   "metadata": {},
   "outputs": [],
   "source": [
    "# Customer Module\n",
    "\n",
    "# Function to check the existing account details of a customer.\n",
    "def check_customer_account_details():\n",
    "    \n",
    "    # Validating the credit card number.\n",
    "    cardno = validate_credit_card_no()\n",
    "    \n",
    "   # Fetching the existing account details of a customer from the customer table\n",
    "    df_result = spark.sql(f\"SELECT FIRST_NAME, MIDDLE_NAME, LAST_NAME, \\\n",
    "    REPLACE(CREDIT_CARD_NO, SUBSTR(CREDIT_CARD_NO, 1, 12), '************') AS CREDIT_CARD_NO, \\\n",
    "    FULL_STREET_ADDRESS, CUST_CITY, CUST_STATE, CUST_COUNTRY, CUST_ZIP, \\\n",
    "    CUST_PHONE, CUST_EMAIL, LAST_UPDATED \\\n",
    "    FROM CUSTOMERVIEW WHERE CREDIT_CARD_NO = '{cardno}'\")\n",
    "    \n",
    "                          \n",
    "    if df_result.isEmpty():\n",
    "        print('\\nNo data matching criteria.')\n",
    "\n",
    "    # Displaying the existing account details of a customer from the customer table\n",
    "    df_result.show(5)"
   ]
  },
  {
   "cell_type": "code",
   "execution_count": 177,
   "metadata": {},
   "outputs": [
    {
     "name": "stdout",
     "output_type": "stream",
     "text": [
      "Valid Credit Card Number\n",
      "\n",
      "+----------+-----------+---------+----------------+-------------------+---------+----------+-------------+--------+-------------+--------------+-------------------+\n",
      "|FIRST_NAME|MIDDLE_NAME|LAST_NAME|  CREDIT_CARD_NO|FULL_STREET_ADDRESS|CUST_CITY|CUST_STATE| CUST_COUNTRY|CUST_ZIP|   CUST_PHONE|    CUST_EMAIL|       LAST_UPDATED|\n",
      "+----------+-----------+---------+----------------+-------------------+---------+----------+-------------+--------+-------------+--------------+-------------------+\n",
      "|      Alec|         wm|   Hooper|************1055|   810,Maple Street|   Vienna|        VA|United States|   75987|(214)678-5234|ALucy@test.com|2023-02-24 02:25:40|\n",
      "+----------+-----------+---------+----------------+-------------------+---------+----------+-------------+--------+-------------+--------------+-------------------+\n",
      "\n"
     ]
    }
   ],
   "source": [
    "# Function to check the existing account details of a customer.\n",
    "check_customer_account_details()"
   ]
  },
  {
   "attachments": {},
   "cell_type": "markdown",
   "metadata": {},
   "source": [
    "#### 2) Used to modify the existing account details of a customer."
   ]
  },
  {
   "attachments": {},
   "cell_type": "markdown",
   "metadata": {},
   "source": [
    "### Function to validate email."
   ]
  },
  {
   "cell_type": "code",
   "execution_count": 77,
   "metadata": {},
   "outputs": [],
   "source": [
    "# Function to validate the email.\n",
    "def valid_email(email):\n",
    "    pattern = '^[a-zA-Z0-9-_]+@[a-zA-Z0-9]+\\.[a-z]{1,3}$'\n",
    "    if re.match(pattern, email):\n",
    "        return True\n",
    "    else:\n",
    "        return False"
   ]
  },
  {
   "attachments": {},
   "cell_type": "markdown",
   "metadata": {},
   "source": [
    "### Function to modify the existing account details of a customer."
   ]
  },
  {
   "cell_type": "code",
   "execution_count": 164,
   "metadata": {},
   "outputs": [],
   "source": [
    "# Function to modify the existing account details of a customer.\n",
    "def modify_existing_account_details_of_a_customer(customer_columns, user, pwd):\n",
    "  \n",
    "    # Validating the credit card number.\n",
    "    cardno = validate_credit_card_no()\n",
    "\n",
    "    # Connecting to the mysql database.\n",
    "    try:\n",
    "        mydb = mariadb.connect(host='localhost',\n",
    "                                    user=user,\n",
    "                                    password=pwd,\n",
    "                                    database='creditcard_capstone')\n",
    "        # checking whether the database is connected.\n",
    "        if mydb.is_connected():\n",
    "            db_Info = mydb.get_server_info()\n",
    "            mycursor = mydb.cursor()\n",
    "\n",
    "            # Checking whether the customer record dxists in the customer table for the given credit card number.\n",
    "            st =\"SELECT * FROM CDW_SAPP_CUSTOMER WHERE CREDIT_CARD_NO = '{}'\"\n",
    "            mycursor.execute(st.format(cardno))\n",
    "            result= mycursor.fetchall()\n",
    "           \n",
    "            # If a customer record exists for the given credit card number then allow to modify.\n",
    "            if len(result) == 0:\n",
    "               print('No customer record exists in the database for the given credit card number')\n",
    "            \n",
    "            else:\n",
    "                # Populating the dictionary with the selected record record details from the database. \n",
    "                cus_data = {}\n",
    "                cus_data['CREDIT_CARD_NO'] = result[0][4]\n",
    "                cus_data['FULL_STREET_ADDRESS'] = result[0][5]\n",
    "                cus_data['CUST_CITY'] = result[0][6]\n",
    "                cus_data['CUST_STATE'] = result[0][7]\n",
    "                cus_data['CUST_COUNTRY'] = result[0][8]\n",
    "                cus_data['CUST_ZIP'] = result[0][9]\n",
    "                cus_data['CUST_PHONE'] = result[0][10]\n",
    "                cus_data['CUST_EMAIL'] = result[0][11]\n",
    "                cus_data['COUNT'] = 0\n",
    "                count = 1\n",
    "                \n",
    "                # Display the menu of customer fields to be modified. \n",
    "                for c in customer_columns:\n",
    "                    print(' ' + str(count) + ') ' + c)\n",
    "                    count += 1\n",
    "                print(' ' + str(count) + ') Exit options')\n",
    "                \n",
    "                while True:\n",
    "                    print('\\nWhat account detail would you like to modify?')\n",
    "                    option = input('Enter option: ')\n",
    "                    option = option.strip()\n",
    "                    if option.isdigit():\n",
    "                        if int(option) <= len(customer_columns):\n",
    "                            column_name = customer_columns[int(option)-1]\n",
    "                            if option == '1': # FULL_STREET_ADDRESS\n",
    "                                 while True: \n",
    "                                    new_entry = input('\\nEnter new ' + column_name + ': ')\n",
    "                                    new_entry = new_entry.strip()\n",
    "                                    if re.match(r\"\\d+,(?:[A-Za-z0-9.-]+[ ]?)+(?:Avenue|Lane|Road|Boulevard|Drive|Street|Ave|Dr|Rd|Blvd|Ln|St)\\.?\", new_entry):\n",
    "                                        cus_data['FULL_STREET_ADDRESS'] = new_entry \n",
    "                                        cus_data['COUNT'] += 1  \n",
    "                                        break\n",
    "                                    else:\n",
    "                                        print('\\nInvalid entry. Try again.')\n",
    "                                    \n",
    "                            elif option == '2': # CUST_CITY\n",
    "                                while True: \n",
    "                                    new_entry = input('\\nEnter new ' + column_name + ': ')\n",
    "                                    new_entry = new_entry.strip().title()\n",
    "                                    if new_entry.isalpha():\n",
    "                                       cus_data['CUST_CITY'] = new_entry\n",
    "                                       cus_data['COUNT'] += 1  \n",
    "                                       break\n",
    "                                    else:\n",
    "                                        print('\\nInvalid entry. Use only letters. Try again.')\n",
    "\n",
    "                            elif option == '3': # CUST_STATE\n",
    "                                while True:\n",
    "                                    new_entry = input('\\nEnter new ' + column_name + ' in 2 letters: ')\n",
    "                                    new_entry = new_entry.strip().upper()\n",
    "                                    if new_entry.isalpha() and len(new_entry) == 2:\n",
    "                                       cus_data['CUST_STATE'] = new_entry\n",
    "                                       cus_data['COUNT'] += 1  \n",
    "                                       break\n",
    "                                    else:\n",
    "                                        print('\\nInvalid entry. Try again.')\n",
    "\n",
    "                            elif option == '4': # CUST_ZIP\n",
    "                                  \n",
    "                                  new_entry = validate_zipcode()\n",
    "                                  cus_data['CUST_ZIP'] = int(new_entry)\n",
    "                                  cus_data['COUNT'] += 1  \n",
    "                      \n",
    "                            elif option == '5': # CUST_PHONE\n",
    "                                \n",
    "                                new_entry = validate_phone()\n",
    "                                cus_data['CUST_PHONE'] = new_entry\n",
    "                                cus_data['COUNT'] += 1  \n",
    "                         \n",
    "                            elif option == '6': # CUST_EMAIL\n",
    "                                while True: \n",
    "                                    new_entry = input('\\nEnter new ' + column_name + '. Follow format abc@test.com: ')\n",
    "                                    new_entry = new_entry.strip()\n",
    "                                    if valid_email(new_entry):\n",
    "                                       cus_data['CUST_EMAIL'] = new_entry\n",
    "                                       cus_data['COUNT'] += 1  \n",
    "                                       break\n",
    "                                    else:\n",
    "                                        print('\\nInvalid email. Try again.')\n",
    "                        # Exit\n",
    "                        elif int(option) == count:\n",
    "                            print('Exited')\n",
    "                            break\n",
    "                        else:\n",
    "                            print('\\nInvalid option. Try again.')\n",
    "                    else:\n",
    "                        print('\\nInvalid option. Try again.')\n",
    "\n",
    "                # Checking the count to see if any field has been modified.\n",
    "                if cus_data['COUNT'] > 0:\n",
    "                               \n",
    "                    # Update the database with the fields modified.\n",
    "                    updatest= f\"UPDATE CDW_SAPP_CUSTOMER \\\n",
    "                    SET FULL_STREET_ADDRESS= '{cus_data['FULL_STREET_ADDRESS']}', \\\n",
    "                    CUST_CITY= '{cus_data['CUST_CITY']}',CUST_STATE = '{cus_data['CUST_STATE']}', \\\n",
    "                    CUST_ZIP= {cus_data['CUST_ZIP']}, CUST_PHONE= '{cus_data['CUST_PHONE']}', \\\n",
    "                    CUST_EMAIL= '{cus_data['CUST_EMAIL']}', LAST_UPDATED= NOW() \\\n",
    "                    WHERE CREDIT_CARD_NO = '{cus_data['CREDIT_CARD_NO']}'\"\n",
    "\n",
    "                    # Modifying the database.\n",
    "                    mycursor.execute(updatest)\n",
    "                    # Save it to the database.\n",
    "                    mydb.commit()\n",
    "                                \n",
    "                    # Checking if there are any records that got updated.\n",
    "                    if mycursor.rowcount > 0:\n",
    "                        print('Customer record modified in the database for the given credit card number ending with {}.'.format(cardno[12:16]))\n",
    "                    else:\n",
    "                        print('No Customer record modified in the database for the given credit card number ending with {}.'.format(cardno[12:16])) \n",
    "\n",
    "    \n",
    "    # Getting the error           \n",
    "    except Error as e:\n",
    "        print(\"Error while connecting to Database\", e)\n",
    "    \n",
    "    finally:\n",
    "\n",
    "        if mydb.is_connected():\n",
    "            mycursor.close()\n",
    "            mydb.close()\n",
    "        "
   ]
  },
  {
   "cell_type": "code",
   "execution_count": 165,
   "metadata": {},
   "outputs": [
    {
     "name": "stdout",
     "output_type": "stream",
     "text": [
      "Valid Credit Card Number\n",
      "\n",
      " 1) FULL_STREET_ADDRESS\n",
      " 2) CUST_CITY\n",
      " 3) CUST_STATE\n",
      " 4) CUST_ZIP\n",
      " 5) CUST_PHONE\n",
      " 6) CUST_EMAIL\n",
      " 7) Exit options\n",
      "\n",
      "What account detail would you like to modify?\n",
      "\n",
      "Invalid entry. Try again.\n",
      "Valid Phone Number\n",
      "\n",
      "\n",
      "What account detail would you like to modify?\n",
      "Exited\n",
      "Customer record modified in the database for the given credit card number ending with 1055.\n"
     ]
    }
   ],
   "source": [
    "# Function to modify the existing account details of a customer.\n",
    "modify_existing_account_details_of_a_customer(customer_columns, user, pwd)"
   ]
  },
  {
   "attachments": {},
   "cell_type": "markdown",
   "metadata": {},
   "source": [
    "#### 3) Used to generate a monthly bill for a credit card number for a given month and year.\n"
   ]
  },
  {
   "attachments": {},
   "cell_type": "markdown",
   "metadata": {},
   "source": [
    "### Function to generate a monthly bill for a credit card number for a given month and year."
   ]
  },
  {
   "cell_type": "code",
   "execution_count": 150,
   "metadata": {},
   "outputs": [],
   "source": [
    "# Function to generate a monthly bill for a credit card number for a given month and year.\n",
    "def credit_card_monthly_bill_for_a_month_and_year():\n",
    "\n",
    "    # Validating the credit card number.\n",
    "    cardno = validate_credit_card_no()\n",
    "        \n",
    "    # Validating the month.\n",
    "    month = validate_month()\n",
    "    \n",
    "    # Validating the year.   \n",
    "    year = validate_year()\n",
    "   \n",
    "    #  Fetching the customer transaction data for a credit card number for a\n",
    "    # given month and year.\n",
    "    df_result = spark.sql(f\"SELECT REPLACE(CUST_CC_NO, SUBSTR(CUST_CC_NO, 1, 12), ('************')) AS CUST_CC_NO, \\\n",
    "    SUM(TRANSACTION_VALUE) AS TOTAL_TRANSACTION_VALUE \\\n",
    "    FROM CREDITVIEW WHERE CUST_CC_NO = '{cardno}' AND MONTH(TO_DATE(TIMEID, 'yyyyMMdd')) = '{month}' \\\n",
    "    AND YEAR(TO_DATE(TIMEID, 'yyyyMMdd')) = '{year}' \\\n",
    "    GROUP BY CUST_CC_NO\")\n",
    "\n",
    "    if df_result.isEmpty():\n",
    "        print('\\nNo data matching criteria.')\n",
    "\n",
    "    # Displaying the credit card transaction details for a\n",
    "    # given month and year.\n",
    "\n",
    "    df_result.show()"
   ]
  },
  {
   "cell_type": "code",
   "execution_count": 151,
   "metadata": {},
   "outputs": [
    {
     "name": "stdout",
     "output_type": "stream",
     "text": [
      "Valid Credit Card Number\n",
      "\n",
      "\n",
      "Valid month\n",
      "\n",
      "Valid year\n",
      "+----------------+-----------------------+\n",
      "|      CUST_CC_NO|TOTAL_TRANSACTION_VALUE|\n",
      "+----------------+-----------------------+\n",
      "|************1055|                  94.88|\n",
      "+----------------+-----------------------+\n",
      "\n"
     ]
    }
   ],
   "source": [
    "# Function to generate a monthly bill for a credit card number for a given month and year. \n",
    "credit_card_monthly_bill_for_a_month_and_year()\n"
   ]
  },
  {
   "attachments": {},
   "cell_type": "markdown",
   "metadata": {},
   "source": [
    "#### 4) Used to display the transactions made by a customer between two dates. Order by year, month, and day in descending order.\n"
   ]
  },
  {
   "cell_type": "code",
   "execution_count": 170,
   "metadata": {},
   "outputs": [],
   "source": [
    "# Function to display the transactions made by a customer between two dates.\n",
    "# Order by year, month and day in descending order.\n",
    "\n",
    "def transactions_by_a_customer_between_dates():\n",
    "\n",
    "    # Validating the credit card number.\n",
    "    cardno = validate_credit_card_no()\n",
    "\n",
    "    # Validating the startday.\n",
    "    startday = validate_day()\n",
    "\n",
    "    # Validating the startmonth.\n",
    "    startmonth = validate_month()\n",
    "        \n",
    "    # Validating the startyear.\n",
    "    startyear = validate_year()\n",
    "\n",
    "    # Validating the endday.\n",
    "    endday = validate_day()\n",
    "  \n",
    "    # Validating the endmonth.\n",
    "    endmonth = validate_month()\n",
    "        \n",
    "    # Validating the endyear.\n",
    "    endyear = validate_year()\n",
    "  \n",
    "    # Convatenating the year, month and day to get the timeid.\n",
    "    startyear = str(startyear)\n",
    "    endyear = str(endyear)\n",
    "    starttimeid = startyear + startmonth + startday\n",
    "    endtimeid = endyear + endmonth + endday\n",
    "    \n",
    "    # Fetching the records to display the transactions made by a customer between\n",
    "    # two dates. Order by year, month, and day in descending order.\n",
    "\n",
    "    df_result = spark.sql(f\"SELECT REPLACE(CUST_CC_NO, SUBSTR(CUST_CC_NO,1, 12), '************')  AS CUST_CC_NO, \\\n",
    "    TIMEID, BRANCH_CODE, TRANSACTION_TYPE, TRANSACTION_VALUE, \\\n",
    "    TRANSACTION_ID FROM CREDITVIEW \\\n",
    "    WHERE CUST_CC_NO = '{cardno}' AND (TIMEID >= '{starttimeid}' \\\n",
    "    AND TIMEID <= '{endtimeid}') \\\n",
    "    ORDER BY YEAR(TO_DATE(TIMEID, 'yyyyMMdd')) DESC, MONTH(TO_DATE(TIMEID, 'yyyyMMdd')) DESC, DAY(TO_DATE(TIMEID, 'yyyyMMdd')) DESC\")\n",
    "\n",
    "\n",
    "    if df_result.isEmpty():\n",
    "        print('\\nNo data matching criteria.')\n",
    "\n",
    "    # displaying the transactions made by a customer between\n",
    "    # two dates. Order by year, month, and day in descending order.\n",
    "\n",
    "    df_result.show()\n",
    "    "
   ]
  },
  {
   "cell_type": "code",
   "execution_count": 169,
   "metadata": {},
   "outputs": [
    {
     "name": "stdout",
     "output_type": "stream",
     "text": [
      "Valid Credit Card Number\n",
      "\n",
      "Valid day\n",
      "\n",
      "\n",
      "Valid month\n",
      "\n",
      "Valid year\n",
      "Valid day\n",
      "\n",
      "\n",
      "Valid month\n",
      "\n",
      "Valid year\n",
      "+----------------+--------+-----------+----------------+-----------------+--------------+\n",
      "|      CUST_CC_NO|  TIMEID|BRANCH_CODE|TRANSACTION_TYPE|TRANSACTION_VALUE|TRANSACTION_ID|\n",
      "+----------------+--------+-----------+----------------+-----------------+--------------+\n",
      "|************1055|20180807|        180|           Bills|            34.59|         20565|\n",
      "|************1055|20180716|         95|       Education|            36.88|         20544|\n",
      "|************1055|20180714|         46|         Grocery|             42.7|         20547|\n",
      "|************1055|20180701|        145|             Gas|             80.3|         20529|\n",
      "|************1055|20180619|         52|   Entertainment|            81.94|         20534|\n",
      "|************1055|20180611|          8|            Test|            26.96|         20532|\n",
      "|************1055|20180607|         93|         Grocery|            42.57|         20531|\n",
      "|************1055|20180602|         93|            Test|            86.14|         20553|\n",
      "|************1055|20180526|        126|         Grocery|            58.88|         20562|\n",
      "|************1055|20180522|         21|            Test|            24.53|         20561|\n",
      "|************1055|20180517|         58|      Healthcare|            27.69|         20530|\n",
      "|************1055|20180509|        188|           Bills|            28.68|         20537|\n",
      "|************1055|20180428|         28|      Healthcare|            27.08|         20552|\n",
      "|************1055|20180422|        135|       Education|            57.61|         20546|\n",
      "|************1055|20180417|        109|            Test|            40.55|         20564|\n",
      "|************1055|20180406|        173|       Education|            89.63|         20540|\n",
      "|************1055|20180402|         46|      Healthcare|            68.02|         20557|\n",
      "|************1055|20180302|         22|         Grocery|             58.4|         20543|\n",
      "+----------------+--------+-----------+----------------+-----------------+--------------+\n",
      "\n"
     ]
    }
   ],
   "source": [
    "# Display the transactions made by a customer between\n",
    "# two dates. Order by year, month, and day in descending order.\n",
    "\n",
    "transactions_by_a_customer_between_dates()\n"
   ]
  },
  {
   "attachments": {},
   "cell_type": "markdown",
   "metadata": {},
   "source": [
    "## 3 - Functional Requirements - Data analysis and Visualization\n"
   ]
  },
  {
   "attachments": {},
   "cell_type": "markdown",
   "metadata": {},
   "source": [
    "## Req - 3  Data Analysis and Visualization\n"
   ]
  },
  {
   "attachments": {},
   "cell_type": "markdown",
   "metadata": {},
   "source": [
    "### Functional Requirements 3.1\n",
    "\n",
    "### Find and plot which transaction type has a high rate of transactions.\n",
    "\n",
    "### Note: Take a screenshot of the graphs"
   ]
  },
  {
   "attachments": {},
   "cell_type": "markdown",
   "metadata": {},
   "source": [
    "### Function to get random colors for the graph."
   ]
  },
  {
   "cell_type": "code",
   "execution_count": 178,
   "metadata": {},
   "outputs": [],
   "source": [
    "# Function to set colors for the plot.\n",
    "def set_colors_for_plot(length):\n",
    "    return [\"#\"+''.join([random.choice('0123456789ABCDEF') for j in range(6)]) for i in range(length)]"
   ]
  },
  {
   "attachments": {},
   "cell_type": "markdown",
   "metadata": {},
   "source": [
    "### Function to display the transaction types that has the a high rate of transactions."
   ]
  },
  {
   "cell_type": "code",
   "execution_count": 179,
   "metadata": {},
   "outputs": [],
   "source": [
    "# Function to plot which transaction type has a high rate of transactions.\n",
    "def high_rate_of_tran_by_tran_type(df_tran): \n",
    "   \n",
    "    # Getting the count of the number of trsnsactions per transaction type.\n",
    "    types = df_tran['TRANSACTION_TYPE'].value_counts()\n",
    "\n",
    "    # Setting the number of colors to the count of the records taken above\n",
    "    no_of_colors = set_colors_for_plot(len(types))\n",
    "    types.sort_values(ascending=True, inplace = True)\n",
    "\n",
    "    # Plotting the transaction type that has a high rate of transactions.\n",
    "    types.plot(kind='barh', figsize=(10, 5),  xlim=(types.min()-500, types.max()+100), color = no_of_colors)\n",
    " \n",
    "    # Setting the title of the plot.\n",
    "    plt.title('Total Transactions Per Transaction Type', fontweight = 'bold', fontsize = 18)\n",
    "    # Setting the x-label.\n",
    "    plt.xlabel('Rate of Transactions', fontweight = 'bold', fontsize = 14)\n",
    "    # Setting the y-label.\n",
    "    plt.ylabel('Transaction Types', fontweight = 'bold', fontsize = 14)\n",
    "\n",
    "    # annotate value labels to each country.\n",
    "    for index, value in enumerate(types): \n",
    "        plt.text(value+10, index-0.1, str(value))\n",
    "           \n",
    "    plt.show() "
   ]
  },
  {
   "cell_type": "code",
   "execution_count": 192,
   "metadata": {},
   "outputs": [
    {
     "data": {
      "image/png": "[encoded data removed]",
      "text/plain": [
       "<Figure size 1000x500 with 1 Axes>"
      ]
     },
     "metadata": {},
     "output_type": "display_data"
    }
   ],
   "source": [
    "# Function to plot the transaction type that has high rate of transactions.\n",
    "high_rate_of_tran_by_tran_type(df_tran)"
   ]
  },
  {
   "attachments": {},
   "cell_type": "markdown",
   "metadata": {},
   "source": [
    "## Functional Requirements 3.2\n",
    "\n",
    "### Find and plot which state has a high number of customers.\n",
    "### Note: Take a screenshot of the graphs."
   ]
  },
  {
   "attachments": {},
   "cell_type": "markdown",
   "metadata": {},
   "source": [
    "### Function to find and plot which state has a high number of customers."
   ]
  },
  {
   "cell_type": "code",
   "execution_count": 193,
   "metadata": {},
   "outputs": [],
   "source": [
    "# Function to find and plot which state has a high number of customers.\n",
    "def state_with_high_no_of_customers(df_cus):\n",
    "\n",
    "    # Set random colors for each state.\n",
    "    state_color = set_colors_for_plot(len(df_cus['CUST_STATE'].unique()))\n",
    "    \n",
    "    # Getting the countof the customers per state.\n",
    "    states = df_cus['CUST_STATE'].value_counts()\n",
    "\n",
    "    # Set random colors for each state.\n",
    "    state_color = set_colors_for_plot(len(states))\n",
    "\n",
    "    states.sort_values(ascending=True, inplace = True)\n",
    "\n",
    "    # Plotting the bar graph for the states.\n",
    "    states.plot(kind='barh', figsize=(10, 5), color = state_color)\n",
    " \n",
    "    # Setting the title.\n",
    "    plt.title('Total Number of Customers Per State', fontweight = 'bold', fontsize = '18')\n",
    "    # Setting the x-label.\n",
    "    plt.xlabel('Total Number of Customers', fontweight = 'bold', fontsize = '14')\n",
    "    # Setting the y-label.\n",
    "    plt.ylabel('Customers State', fontweight = 'bold', fontsize = 14)\n",
    "\n",
    "    # Displaying the number of customers for the state.\n",
    "    for index, value in enumerate(states): \n",
    "      plt.text(value+0.6, index-0.4, str(value))\n",
    "  \n",
    "    plt.show() \n",
    "\n"
   ]
  },
  {
   "cell_type": "code",
   "execution_count": 199,
   "metadata": {},
   "outputs": [
    {
     "data": {
      "image/png": "[encoded data removed]",
      "text/plain": [
       "<Figure size 1000x500 with 1 Axes>"
      ]
     },
     "metadata": {},
     "output_type": "display_data"
    }
   ],
   "source": [
    "# Function to find and plot which state has a high number of customers.\n",
    "state_with_high_no_of_customers(df_cus)"
   ]
  },
  {
   "attachments": {},
   "cell_type": "markdown",
   "metadata": {},
   "source": [
    "## Functional Requirements 3.3\n",
    "\n",
    "### Find and plot the sum of all transactions for the top 10 customers,\n",
    "### and which customer has the highest transaction amount.\n",
    "### hint(use CUST_SSN).\n",
    "### Note: Take a screenshot of the graphs."
   ]
  },
  {
   "attachments": {},
   "cell_type": "markdown",
   "metadata": {},
   "source": [
    "### Function to plot the sum of all transactions for the top 10 customers,\n",
    "### and which customer has the highest transaction amount."
   ]
  },
  {
   "cell_type": "code",
   "execution_count": 200,
   "metadata": {},
   "outputs": [],
   "source": [
    "# Function to plot the sum of all transactions for the top 10 customers,\n",
    "# and which customer has the highest transaction amount.\n",
    "# hint(use CUST_SSN).\n",
    "def highest_and_sum_of_transactions_for_top10(df_customer_cc):\n",
    "\n",
    "    # Getting the top 10 customers.\n",
    "    top10 = df_customer_cc.groupby('CUST_SSN')['TRANSACTION_VALUE'].sum().sort_values().tail(10)\n",
    "    # Setting the color for each customer in top 10.\n",
    "    top10_colors = set_colors_for_plot(len(top10))\n",
    "\n",
    "    # Plotting the graph for the top 10 customers having the highest total values of transactions.\n",
    "    top10.plot(kind='barh', figsize=(10, 5), xlim=(top10.min()-200, top10.max()+100), color=top10_colors)\n",
    "\n",
    "    # Placing text i.e. sum of all transactions at the end of bar\n",
    "    for index, value in enumerate(top10): \n",
    "        plt.text(value+10, index-0.25, '$'+str(value))\n",
    "     \n",
    "    # Setting the plot.\n",
    "    plt.title('Top 10 Total Transaction Amounts Per Customer', fontweight = 'bold', fontsize = 18)\n",
    "    # Setting the x-label.\n",
    "    plt.xlabel('Total Transaction Amount', fontweight = 'bold', fontsize = 14)\n",
    "    # Setting the y-label.\n",
    "    plt.ylabel('Account Number', fontweight = 'bold', fontsize = 14)\n",
    "    \n",
    "    plt.show()"
   ]
  },
  {
   "cell_type": "code",
   "execution_count": 203,
   "metadata": {},
   "outputs": [
    {
     "data": {
      "image/png": "[encoded data removed]",
      "text/plain": [
       "<Figure size 1000x500 with 1 Axes>"
      ]
     },
     "metadata": {},
     "output_type": "display_data"
    }
   ],
   "source": [
    "# Function to plot the sum of all transactions for the top 10 customers,\n",
    "# and which customer has the highest transaction amount.\n",
    "highest_and_sum_of_transactions_for_top10(df_customer_cc)"
   ]
  },
  {
   "cell_type": "code",
   "execution_count": null,
   "metadata": {},
   "outputs": [],
   "source": []
  }
 ],
 "metadata": {
  "kernelspec": {
   "display_name": "venv",
   "language": "python",
   "name": "python3"
  },
  "language_info": {
   "codemirror_mode": {
    "name": "ipython",
    "version": 3
   },
   "file_extension": ".py",
   "mimetype": "text/x-python",
   "name": "python",
   "nbconvert_exporter": "python",
   "pygments_lexer": "ipython3",
   "version": "3.10.9"
  },
  "orig_nbformat": 4,
  "vscode": {
   "interpreter": {
    "hash": "9be4e635f4f89c38b0dd5fc2d521c0f52f84d7d86cda76cd9453fa37c1f1e65e"
   }
  }
 },
 "nbformat": 4,
 "nbformat_minor": 2
}
